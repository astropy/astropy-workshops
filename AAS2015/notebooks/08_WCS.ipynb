{
 "metadata": {
  "name": "",
  "signature": "sha256:8fffffdef2cac5ff246c27c36a0767134cd84d439b81ce622c873113849f40be"
 },
 "nbformat": 3,
 "nbformat_minor": 0,
 "worksheets": [
  {
   "cells": [
    {
     "cell_type": "heading",
     "level": 1,
     "metadata": {},
     "source": [
      "World Coordinate Systems"
     ]
    },
    {
     "cell_type": "markdown",
     "metadata": {},
     "source": [
      "Two different approaches will be discussed. One is the FITS WCS system, and one is a new one being developed. Both share the same basic user interface as far as applying it to pixel coordinates, but the capabilities supported are quite different."
     ]
    },
    {
     "cell_type": "heading",
     "level": 2,
     "metadata": {},
     "source": [
      "FITS WCS"
     ]
    },
    {
     "cell_type": "code",
     "collapsed": false,
     "input": [
      "from __future__ import print_function, division\n",
      "from astropy.wcs import WCS\n",
      "from astropy.io.fits import open as fitsopen"
     ],
     "language": "python",
     "metadata": {},
     "outputs": [],
     "prompt_number": 1
    },
    {
     "cell_type": "code",
     "collapsed": false,
     "input": [
      "hdulist = fitsopen('data/j94f05bgq_flt.fits')\n",
      "hdr = hdulist[1].header"
     ],
     "language": "python",
     "metadata": {},
     "outputs": [],
     "prompt_number": 2
    },
    {
     "cell_type": "code",
     "collapsed": false,
     "input": [
      "w = WCS(hdr, hdulist)\n",
      "print(w.wcs.name)"
     ],
     "language": "python",
     "metadata": {},
     "outputs": [],
     "prompt_number": 3
    },
    {
     "cell_type": "code",
     "collapsed": false,
     "input": [
      "pixcrd = numpy.array([[0, 0], [24, 38], [45, 98]], numpy.float32)\n",
      "world = w.wcs_pix2world(pixcrd,1)\n",
      "print(world)\n",
      "print(w.wcs_world2pix(world, 1))"
     ],
     "language": "python",
     "metadata": {},
     "outputs": [],
     "prompt_number": 4
    },
    {
     "cell_type": "code",
     "collapsed": false,
     "input": [
      "world2 = w.all_pix2world(pixcrd,1)\n",
      "print(world2)"
     ],
     "language": "python",
     "metadata": {},
     "outputs": [],
     "prompt_number": 5
    },
    {
     "cell_type": "heading",
     "level": 2,
     "metadata": {},
     "source": [
      "Generalized WCS"
     ]
    },
    {
     "cell_type": "markdown",
     "metadata": {},
     "source": [
      "*Note that these examples are not part of the current release or the impending release. They will be made available soon (~1-2 months)*\n",
      "\n",
      "The FITS WCS Standard does not handle distorted data very well. We are developing a new more general WCS approach that is much more flexible and adaptable to nearly all raw data distortions and complications. This will make it easier to use unresampled data in analysis either by avoiding multiple resamplings or fitting data directly to the original sampling.\n",
      "\n",
      "The new Generalized WCS package will also have a non-FITS scheme for storing the WCS models (they can be stored in FITS as well, but not in any representation that standard FITS WCS libraries will be able to use (astropy will be able to, however). \n",
      "\n",
      "The examples shown here only cover the programatic aspects of this new package.\n"
     ]
    },
    {
     "cell_type": "heading",
     "level": 3,
     "metadata": {},
     "source": [
      "Image WCS with polynomial distortion model"
     ]
    },
    {
     "cell_type": "code",
     "collapsed": false,
     "input": [
      "import gwcs\n",
      "from gwcs import coordinate_systems\n",
      "from gwcs import wcs\n",
      "from astropy import coordinates as coord\n",
      "from astropy.modeling import models\n",
      "\n",
      "crpix = array([2048., 1024.])\n",
      "cdmat = array([[1.29058667557984E-05,  5.95320245884555E-06], \n",
      "               [5.02215195623825E-06, -1.2645010396976E-05]])\n",
      "acoeffs = {\n",
      "'A_0_2': 2.16615952976212E-06, \n",
      "'A_0_3': 1.08193519820265E-11,\n",
      "'A_0_4': 1.49356171166049E-14,\n",
      "'A_1_1': -5.1974576466834E-06,\n",
      "'A_1_2':-5.234870743692412E-10,\n",
      "'A_1_3':-2.4569975537746E-14,\n",
      "'A_2_0': 8.55127758255650E-06,\n",
      "'A_2_1':-3.9771547747287E-11,\n",
      "'A_2_2': 3.46791267104378E-14,\n",
      "'A_3_0':-4.7304448292227E-10,\n",
      "'A_3_1': 1.97102297166030E-15,\n",
      "'A_4_0': 2.37430106240231E-14,\n",
      "}\n",
      "bcoeffs = {\n",
      "'B_0_2':-7.2168814507744E-06,\n",
      "'B_0_3':-4.175472049274932E-10,\n",
      "'B_0_4':-9.9570490655478E-15,\n",
      "'B_1_1': 6.18443235774478E-06,\n",
      "'B_1_2':-6.169265268681388E-11,\n",
      "'B_1_3': 1.21743011568848E-14,\n",
      "'B_2_0':-1.746491877058669E-06,\n",
      "'B_2_1':-5.0857161673862E-10,\n",
      "'B_2_2':-3.66143259286574E-14,\n",
      "'B_3_0': 8.56763542781631E-11,\n",
      "'B_3_1':-3.779506805487476E-15,\n",
      "'B_4_0':-1.7687653826004E-14,    \n",
      "}\n",
      "distortion = models.SIP(crpix, 4, 4, acoeffs, bcoeffs, name='sip_distorion')\n",
      "aff = models.AffineTransformation2D(matrix=cdmat, name='rotation')\n",
      "\n",
      "offx = models.Shift(-crpix[0], name='x_translation')\n",
      "offy = models.Shift(-crpix[1], name='y_translation')\n",
      "\n",
      "wcslin = (offx & offy) | aff\n",
      "\n",
      "phi, lon = 5.63056810618, -72.0545718428\n",
      "theta= 180\n",
      "\n",
      "n2c = models.RotateNative2Celestial(phi, lon, theta, name='sky_rotation')\n",
      "\n",
      "tan = models.Pix2Sky_TAN(name='tangent_projection')\n",
      "print(dir(gwcs))\n",
      "wcs_forward = distortion | wcslin | tan | n2c\n",
      "sky_cs = coordinate_systems.CelestialFrame(reference_frame=coord.ICRS())\n",
      "w = gwcs.wcs.WCS(input_coordinate_system='detector',\n",
      "          output_coordinate_system=sky_cs,\n",
      "          forward_transform=wcs_forward)"
     ],
     "language": "python",
     "metadata": {},
     "outputs": [],
     "prompt_number": 7
    },
    {
     "cell_type": "code",
     "collapsed": false,
     "input": [
      "nx, ny = (5, 2)\n",
      "x = linspace(0, 1, nx)\n",
      "y = linspace(0, 1, ny)\n",
      "xv, yv = meshgrid(x, y)\n",
      "print(xv)\n",
      "print(yv)"
     ],
     "language": "python",
     "metadata": {},
     "outputs": [],
     "prompt_number": 8
    },
    {
     "cell_type": "code",
     "collapsed": false,
     "input": [
      "w(xv,yv)"
     ],
     "language": "python",
     "metadata": {},
     "outputs": [],
     "prompt_number": 9
    },
    {
     "cell_type": "heading",
     "level": 3,
     "metadata": {},
     "source": [
      "Simplified IFU example"
     ]
    },
    {
     "cell_type": "markdown",
     "metadata": {},
     "source": [
      "In this case we allow different regions of an image to have different WCS models. This can easily be applied to providing different WCS solutions for each IFU slitlet (or fiber)"
     ]
    },
    {
     "cell_type": "code",
     "collapsed": false,
     "input": [
      "import gwcs\n",
      "from gwcs import  selector\n",
      "from astropy.modeling.mappings import Mapping\n",
      "from astropy import units as u\n",
      "\n",
      "\n",
      "# create a mask with two regions\n",
      "mask = np.zeros((10,10), dtype=np.int)\n",
      "mask[1:5,:]=1 # use WCS model 1\n",
      "mask[:, 5:]=2 # use WCS model 2\n",
      "\n",
      "# define distortion models\n",
      "px_1 = models.Polynomial2D(2, c0_0=0.1, c1_0=2.16615952976212E-06, c2_0=8.55127758255650E-06,\n",
      "                         c0_1=1.08193519820265E-11, c0_2=2.16615952976212E-06,\n",
      "                         c1_1=-5.1974576466834E-06, name='x_distortion')\n",
      "py_1 = models.Polynomial2D(2, c0_0=-1., c1_0=-7.2168814507744E-06, c2_0=-1.746491877058669E-06,\n",
      "                         c0_1=-7.2168814507744E-06, c0_2=-3.66143259286574E-14,\n",
      "                         c1_1=-4.175472049274932E-10, name='y_distortion')\n",
      "\n",
      "mapping = models.Mapping((0, 1, 0, 1)) # this effectively directs the x and y pixel \n",
      "                                       # coordinates to both distortion components\n",
      "distortion_1 = mapping | (px_1 & py_1)\n",
      "\n",
      "# assuming the same orientation , i.e. same cd matrix, but different crpix and crval\n",
      "cdmat = np.array([[1.29058668e-05, 5.95320246e-06],\n",
      "                  [5.02215196e-06, -1.26450104e-05]])\n",
      "aff = models.AffineTransformation2D(matrix=cdmat, name='rotation')\n",
      "\n",
      "offx_1 = models.Shift(-2, name='x_translation_1')\n",
      "offy_1 = models.Shift(-2, name='y_translation_1')\n",
      "\n",
      "wcslin = (offx_1 & offy_1) | aff\n",
      "\n",
      "phi = 5.63056810618\n",
      "lon = -72.0545718428\n",
      "theta= 180\n",
      "n2c = models.RotateNative2Celestial(phi, lon, theta, name='sky_rotation')\n",
      "tan = models.Pix2Sky_TAN(name='tangent_deprojection')\n",
      "\n",
      "forward_sky_1 = distortion_1 | (offx_1 & offy_1) | aff | tan | n2c\n",
      "\n",
      "spec_coeff = {'c6': -2.586802e-13, 'c3': 1.020102e-05, 'c2': -0.001156555,\n",
      "              'c1': 0.103866, 'c0': 3.339859, 'c7': 1.683436e-16, 'c5': 1.624337e-10,\n",
      "              'c4': -5.381688e-08}\n",
      "spec_model = models.Chebyshev1D(7, name='wave', **spec_coeff)\n",
      "\n",
      "forward_1 = Mapping((0, 1, 0)) | (forward_sky_1 & spec_model)\n",
      "\n",
      "offx_2 = models.Shift(-5, name='x_translation_2')\n",
      "offy_2 = models.Shift(-5, name='y_translation_2')\n",
      "forward_sky_2 = distortion_1 | (offx_2 & offy_2) | aff | tan | n2c\n",
      "forward_2 = models.Mapping((0, 1, 0)) | (forward_sky_2 & spec_model)\n",
      "\n",
      "# now create a selector model\n",
      "wcs_forward = selector.RegionsSelector(mask, labels=[1,2], transforms=[forward_1, forward_2],\n",
      "                                       undefined_transform_value=np.nan)\n",
      "\n",
      "celestial = gwcs.CelestialFrame(coord.ICRS())\n",
      "spec = gwcs.SpectralFrame(gwcs.spectral_builtin_frames.Wavelength(), unit=[u.micron], axes_names=['lambda'])\n",
      "output_system = gwcs.CompositeFrame([celestial, spec])\n",
      "\n",
      "x, y = np.mgrid[:10, :10]\n",
      "\n",
      "w = gwcs.wcs.WCS(input_coordinate_system='detector',\n",
      "            output_coordinate_system=coord.ICRS(),\n",
      "            forward_transform=wcs_forward)\n",
      "w(x, y, 1)\n",
      "\n"
     ],
     "language": "python",
     "metadata": {},
     "outputs": [],
     "prompt_number": 10
    },
    {
     "cell_type": "code",
     "collapsed": false,
     "input": [],
     "language": "python",
     "metadata": {},
     "outputs": []
    }
   ],
   "metadata": {}
  }
 ]
}