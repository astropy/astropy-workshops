{
 "metadata": {
  "name": "",
  "signature": "sha256:fe55df221f01b77a3c9ed11595bb3eca06f3c0157fc58da5ec80f861772ec89b"
 },
 "nbformat": 3,
 "nbformat_minor": 0,
 "worksheets": [
  {
   "cells": [
    {
     "cell_type": "heading",
     "level": 1,
     "metadata": {},
     "source": [
      "Overview"
     ]
    },
    {
     "cell_type": "markdown",
     "metadata": {},
     "source": [
      "Material and demos shown today available at https://github.com/astropy/AAS2015"
     ]
    },
    {
     "cell_type": "heading",
     "level": 2,
     "metadata": {},
     "source": [
      "Goals for today"
     ]
    },
    {
     "cell_type": "markdown",
     "metadata": {},
     "source": [
      "- Introduction to Astropy\n",
      "- Show what is currently or will soon be in Astropy\n",
      "  - Not so much to teach the details (no quiz at the end)\n",
      "- Where to get information about Astropy\n",
      "  - Installation\n",
      "  - Documentation\n",
      "  - Tutorials\n",
      "  - Mailing lists\n",
      "  - Github Issue Tracker\n",
      "  - Contributing to Astropy and affiliated projects\n",
      "- Near term Astropy priorities and development\n",
      "- Answering questions about Astropy\n",
      "- Soliciting feedback about priorities\n",
      "\n",
      "We do not believe you need to know Python to get useful information out of these demos. For those that do not yet use Python:\n",
      "\n",
      "**Why use Python?**\n",
      "\n",
      "- At this point scientfic Python tools are generally more advanced than those available in IDL, or at least equal. (But yes, there are a few areas where IDL still has advantages other than established application code bases).\n",
      "- User and developer community is gigantic, and very large for scientific tools, most of which are very useful for astronomy\n",
      "- Language is far more powerful than IDL, and much more general purpose.\n",
      "- Code is Open Source\n",
      "- Clearly the language of the future for astronomy"
     ]
    },
    {
     "cell_type": "heading",
     "level": 2,
     "metadata": {},
     "source": [
      "Introduction to Astropy"
     ]
    },
    {
     "cell_type": "markdown",
     "metadata": {},
     "source": [
      "Kicked off by one too many independent and redundant Python package being announced on astropy mailing list. This resulted in the formation of the Astropy Project. \n",
      "\n",
      "- Provide a core set of tools for data analysis of astronomical data in Python\n",
      "  - Encourage use of common libraries and objects to facilitate easy interchange of data and code between packages.\n",
      "  - Standarize:\n",
      "    - coding style and standards\n",
      "    - documentation\n",
      "    - tests\n",
      "    - data objects\n",
      "    - license (3-clause BSD for core)\n",
      "    - minimal required dependencies for core\n",
      "  - Ensure:\n",
      "    - continuous integration and testing\n",
      "    - works with both Python 2 and 3\n",
      "    \n",
      "Project code is hosted on github.\n",
      "    \n",
      "There is a distinction between Astropy core, which contains basic capabilities useful to many, and affiliated packages, which contain more specialized tools. It is expected that affiliated packages will use Astropy core routines and adhere to Astropy standards. Some packages intended for Astropy core start out as affiliated packages.\n",
      "\n",
      "Final decisions about standard, design and content of Astropy core are made by the project coordinators (generally by consensus by the community and astropy developers):\n",
      "\n",
      "- Tom Robitaille\n",
      "- Erik Tollerud\n",
      "- Perry Greenfield\n",
      "\n",
      "Major proposals are handled by Astropy Proposal for Enhancement (APEs). (https://github.com/astropy/astropy-APEs)"
     ]
    },
    {
     "cell_type": "heading",
     "level": 2,
     "metadata": {},
     "source": [
      "Presumed Dependencies"
     ]
    },
    {
     "cell_type": "markdown",
     "metadata": {},
     "source": [
      "Astropy is built on an already large set of tools in Python. These include:\n",
      "\n",
      "- Python and its standard library (of course)\n",
      "- numpy: the array manipulation package\n",
      "- scipy: a very large suite of numerical libraries (many built on standard C and Fortran based ones)\n",
      "- matplotlib: for 2-D plotting and image display"
     ]
    },
    {
     "cell_type": "heading",
     "level": 2,
     "metadata": {},
     "source": [
      "Current Contents of Astropy Core:"
     ]
    },
    {
     "cell_type": "markdown",
     "metadata": {},
     "source": [
      "**Core data structures and transformations**\n",
      "\n",
      "Items in bold will be demo'ed today\n",
      "\n",
      "- Constants (astropy.constants)\n",
      "- Units and Quantities **(astropy.units)**\n",
      "- N-dimensional datasets (astropy.nddata)\n",
      "- Data Tables **(astropy.table)**\n",
      "- Time and Dates **(astropy.time)**\n",
      "- Astronomical Coordinate Systems **(astropy.coordinates)**\n",
      "- World Coordinate System **(astropy.wcs)**\n",
      "- Models and Fitting **(astropy.modeling)**\n",
      "\n",
      "**Connecting up: Files and I/O**\n",
      "\n",
      "- Unified file read/write interface\n",
      "- FITS File handling **(astropy.io.fits)**\n",
      "- ASCII Tables **(astropy.io.ascii)**\n",
      "- VOTable XML handling (astropy.io.votable)\n",
      "- Miscellaneous Input/Output (astropy.io.misc)\n",
      "\n",
      "**Astronomy computations and utilities**\n",
      "\n",
      "- Convolution and filtering (astropy.convolution)\n",
      "- Cosmological Calculations (astropy.cosmology)\n",
      "- Astrostatistics Tools (astropy.stats)\n",
      "- Virtual Observatory Access (astropy.vo)"
     ]
    },
    {
     "cell_type": "heading",
     "level": 2,
     "metadata": {},
     "source": [
      "Affiliated packages (some still in development)"
     ]
    },
    {
     "cell_type": "markdown",
     "metadata": {},
     "source": [
      "- Montage-wrapper: python interface to Montage\n",
      "- **Ginga:** Suburu developed image viewer (capabilties simiar to DS9)\n",
      "- **Glue:** Linked visualization tool\n",
      "- **imexamine:** Simple interactive image analysis tool (similar to IRAF's imexamine)  \n",
      "- APLpy: Astronomical plotting enhancements to matplotlib for images\n",
      "- astroML: Machine Learning and Data Mining package for astronomy\n",
      "- Astropysics: Utilities (being ported to astropoy)\n",
      "- astroquery: Online database querying\n",
      "- photutils: Photometry and Source extraction tools\n",
      "- specutils: Spectral tools\n",
      "- PyVO: General VO tools\n",
      "- gammapy: Gamma ray astronomy analysis package\n",
      "- ccdproc: Basic CCD calibration and reduction\n",
      "- sncosmo: Package for simulating, fitting and typing supernova light curves"
     ]
    },
    {
     "cell_type": "heading",
     "level": 2,
     "metadata": {},
     "source": [
      "JWST Support"
     ]
    },
    {
     "cell_type": "markdown",
     "metadata": {},
     "source": [
      "Substantial effort is being devoted by the JWST project at STScI to contribute tools to Astropy for support of JWST data analysis. Particular emphasis is being given to:\n",
      "\n",
      "- Spectral Data Analysis, particularly in support of:\n",
      "  - IFU data and spectral cubes\n",
      "  - MOS spectroscopy\n",
      "  - Grism data\n",
      "  - interactive tools\n",
      "- PSF fitting/matching tools and image/spectral data combination\n",
      "- Coronagraphic data processing\n",
      "- Simulation of data and instruments\n",
      "\n",
      "In general, we would like to see astropy supply all useful capabilities currently in IRAF. Whereever possible, tools are to be made as general as possible as to allow use with other kinds of data; i.e., not just for JWST.\n",
      "\n",
      "Some of the core libraries of Astropy are built on previous STScI packages (e.g., pyfits)"
     ]
    },
    {
     "cell_type": "heading",
     "level": 2,
     "metadata": {},
     "source": [
      "Information Sources"
     ]
    },
    {
     "cell_type": "markdown",
     "metadata": {},
     "source": [
      "- Installation: http://astropy.org\n",
      "  - Easiest is to use binary installations that include all needed software (Python, numpy, etc):\n",
      "    - Anaconda: https://store.continuum.io/cshop/anaconda/ (basic package is free)\n",
      "    - Ureka: http://ssb.stsci.edu/ureka/ (also includes IRAF)\n",
      "- Documentation: http://docs.astropy.org/en/stable/\n",
      "- Tutorials: http://www.astropy.org/astropy-tutorials/\n",
      "- Mailing lists:\n",
      "  - astropy mailing list: http://mail.scipy.org/mailman/listinfo/astropy\n",
      "  - astropy developer's list: https://groups.google.com/forum/#!forum/astropy-dev\n",
      "- Github Issue Tracker: https://github.com/astropy/astropy/issues (requires signing up with a github account)\n",
      "- Contributing to Astropy and affiliated projects: http://www.astropy.org/contribute.html"
     ]
    },
    {
     "cell_type": "code",
     "collapsed": false,
     "input": [],
     "language": "python",
     "metadata": {},
     "outputs": []
    }
   ],
   "metadata": {}
  }
 ]
}