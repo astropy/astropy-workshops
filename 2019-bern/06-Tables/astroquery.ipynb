{
 "cells": [
  {
   "cell_type": "markdown",
   "metadata": {},
   "source": [
    "# `astroquery`: NASA Exoplanet Archive\n",
    "\n",
    "Say you want to make a mass-radius diagram of known exoplanets, with points colored by the host star's effective temperature. If you were to do this by hand, you might: \n",
    "\n",
    "* download a table of the known exoplanets and their properties\n",
    "* parse the table\n",
    "* add units to each quantity\n",
    "* plot the results\n",
    "\n",
    "Fortunately, a lot of this functionality is already implemented in a astropy affiliated package called [`astroquery`](https://astroquery.readthedocs.io/en/latest/)! Here's a few lines of code that do all of the above tasks for you: "
   ]
  },
  {
   "cell_type": "code",
   "execution_count": null,
   "metadata": {},
   "outputs": [],
   "source": [
    "from astroquery.nasa_exoplanet_archive import NasaExoplanetArchive\n",
    "\n",
    "# Downloads the NASA Exoplanet Archive confirmed planets table, \n",
    "# and returns an astropy QTable object\n",
    "\n",
    "archive = NasaExoplanetArchive.get_confirmed_planets_table(all_columns=True)"
   ]
  },
  {
   "cell_type": "markdown",
   "metadata": {},
   "source": [
    "Let's inspect the object that gets returned:"
   ]
  },
  {
   "cell_type": "code",
   "execution_count": null,
   "metadata": {},
   "outputs": [],
   "source": [
    "archive"
   ]
  },
  {
   "cell_type": "markdown",
   "metadata": {},
   "source": [
    "The astropy `QTable` object has columns containing parameters relevant to each planet, and units for each column where applicable. You can access a column of the astropy table like so: "
   ]
  },
  {
   "cell_type": "code",
   "execution_count": null,
   "metadata": {},
   "outputs": [],
   "source": [
    "archive['pl_orbper']  # Print the orbital periods of the known exoplanets"
   ]
  },
  {
   "cell_type": "markdown",
   "metadata": {},
   "source": [
    "Let's now make that mass-radius diagram that we set out to make: "
   ]
  },
  {
   "cell_type": "code",
   "execution_count": null,
   "metadata": {},
   "outputs": [],
   "source": [
    "%matplotlib inline\n",
    "import matplotlib.pyplot as plt \n",
    "\n",
    "cax = plt.scatter(np.log10(archive['pl_bmassj'].value), archive['pl_radj'], c=archive['st_teff'], \n",
    "                  vmin=3000, vmax=8000)\n",
    "cbar = plt.colorbar(cax, label='T$_\\mathrm{eff}$ [K]', extend='both')\n",
    "ax = plt.gca()\n",
    "ax.set(xlim=[-3, 2], ylim=[0.1, 2.5], \n",
    "       xlabel='log$_{10}$ Mass [M$_J$]', ylabel='Radius [R$_J$]')"
   ]
  },
  {
   "cell_type": "markdown",
   "metadata": {},
   "source": [
    "Or you could make your own version of the famous planet discovery diagram: "
   ]
  },
  {
   "cell_type": "code",
   "execution_count": null,
   "metadata": {},
   "outputs": [],
   "source": [
    "transits = archive['pl_discmethod'] == 'Transit'\n",
    "rvs = archive['pl_discmethod'] == 'Radial Velocity'\n",
    "\n",
    "plt.scatter(np.log10(archive['pl_orbper'][transits].value), \n",
    "            archive['pl_radj'][transits], label='Transit')\n",
    "plt.scatter(np.log10(archive['pl_orbper'][rvs].value),\n",
    "            archive['pl_radj'][rvs], label='RV')\n",
    "plt.gca().set(xlabel='log$_{10}$ Period [d]', ylabel='Radius', \n",
    "              xlim=[-1, 3.5], ylim=[0.05, 2.1])\n",
    "plt.legend(loc='upper right')"
   ]
  },
  {
   "cell_type": "markdown",
   "metadata": {},
   "source": [
    "As you can see, by default this astropy `QTable` returns columns with units, so you can do whatever arithmetic you like on the numbers it returns. For example, let's compute the exoplanet equilibrium temperatures, which is given by \n",
    "\n",
    "$$ T_\\mathrm{eq} = T_\\mathrm{eff} \\sqrt{\\frac{R_\\star}{2a}} (1 - A_B)^{1/4} $$\n",
    "\n",
    "assuming $A_B = 0$: "
   ]
  },
  {
   "cell_type": "code",
   "execution_count": null,
   "metadata": {},
   "outputs": [],
   "source": [
    "teff = archive['st_teff']  # stellar effective temperature\n",
    "rstar = archive['st_rad']  # stellar radius\n",
    "a = archive['pl_orbsmax']  # orbital semimajor axis\n",
    "\n",
    "teq = (teff * np.sqrt(rstar / (2 * a))).decompose()  # Calling decompose returns the \"natural\" units of Kelvin\n",
    "\n",
    "plt.hist(teq.value[np.isfinite(teq)], log=True, bins=50, range=[10, 5000])\n",
    "plt.gca().set(xlabel='T$_\\mathrm{eq}$ [K]', ylabel='Frequency')"
   ]
  },
  {
   "cell_type": "markdown",
   "metadata": {},
   "source": []
  }
 ],
 "metadata": {
  "kernelspec": {
   "display_name": "Python 3",
   "language": "python",
   "name": "python3"
  },
  "language_info": {
   "codemirror_mode": {
    "name": "ipython",
    "version": 3
   },
   "file_extension": ".py",
   "mimetype": "text/x-python",
   "name": "python",
   "nbconvert_exporter": "python",
   "pygments_lexer": "ipython3",
   "version": "3.7.3"
  }
 },
 "nbformat": 4,
 "nbformat_minor": 4
}
