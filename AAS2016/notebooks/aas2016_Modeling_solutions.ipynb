{
 "cells": [
  {
   "cell_type": "markdown",
   "metadata": {},
   "source": [
    "## astropy.modeling solutions"
   ]
  },
  {
   "cell_type": "markdown",
   "metadata": {},
   "source": [
    "### Exercise 1:\n",
    "\n",
    "#Generate fake data\n",
    "```\n",
    "np.random.seed(0)\n",
    "x = np.linspace(-5., 5., 200)\n",
    "y = 3 * np.exp(-0.5 * (x - 1.3)**2 / 0.8**2)\n",
    "y += np.random.normal(0., 0.2, x.shape)\n",
    "```\n",
    "- Fit the data with a Trapezoid1D model.\n",
    "- Fit a Gaussian1D model to it.\n",
    "- Display the results."
   ]
  },
  {
   "cell_type": "code",
   "execution_count": null,
   "metadata": {
    "collapsed": true
   },
   "outputs": [],
   "source": [
    "%matplotlib inline\n",
    "from matplotlib import pyplot as plt\n",
    "import numpy as np\n",
    "\n",
    "from astropy.modeling import models, fitting"
   ]
  },
  {
   "cell_type": "markdown",
   "metadata": {},
   "source": [
    "Create the data."
   ]
  },
  {
   "cell_type": "code",
   "execution_count": null,
   "metadata": {
    "collapsed": false
   },
   "outputs": [],
   "source": [
    "np.random.seed(0)\n",
    "x = np.linspace(-5., 5., 200)\n",
    "y = 3 * np.exp(-0.5 * (x - 1.3)**2 / 0.8**2)\n",
    "y += np.random.normal(0., 0.2, x.shape)\n",
    "plt.plot(x, y)"
   ]
  },
  {
   "cell_type": "markdown",
   "metadata": {},
   "source": [
    "Let's see what the parameter names for Trapezoi1D are."
   ]
  },
  {
   "cell_type": "code",
   "execution_count": null,
   "metadata": {
    "collapsed": false
   },
   "outputs": [],
   "source": [
    "print(models.Trapezoid1D.param_names)"
   ]
  },
  {
   "cell_type": "markdown",
   "metadata": {},
   "source": [
    "Create a Trapezoid1D model - the prameter values will be used as initial guesses for the fitting."
   ]
  },
  {
   "cell_type": "code",
   "execution_count": null,
   "metadata": {
    "collapsed": true
   },
   "outputs": [],
   "source": [
    "trapez_init = models.Trapezoid1D(amplitude=1., x_0=0., width=1., slope=0.5)"
   ]
  },
  {
   "cell_type": "markdown",
   "metadata": {},
   "source": [
    "Fit the model to the data. The output is a new model - `trapez`."
   ]
  },
  {
   "cell_type": "code",
   "execution_count": null,
   "metadata": {
    "collapsed": false
   },
   "outputs": [],
   "source": [
    "fitter = fitting.LevMarLSQFitter()\n",
    "trapez = fitter(trapez_init, x, y)\n",
    "print(trapez.parameters)"
   ]
  },
  {
   "cell_type": "markdown",
   "metadata": {},
   "source": [
    "In a similar way fit a Gaussian to the data."
   ]
  },
  {
   "cell_type": "code",
   "execution_count": null,
   "metadata": {
    "collapsed": false
   },
   "outputs": [],
   "source": [
    "gauss_init = models.Gaussian1D(amplitude=1, mean=0, stddev=1)\n",
    "gauss = fitter(gauss_init, x, y)\n",
    "print(gauss.parameters)"
   ]
  },
  {
   "cell_type": "markdown",
   "metadata": {},
   "source": [
    "Diplay the results."
   ]
  },
  {
   "cell_type": "code",
   "execution_count": null,
   "metadata": {
    "collapsed": false
   },
   "outputs": [],
   "source": [
    "plt.figure(figsize=(9,6))\n",
    "plt.plot(x, y, 'ko', label='data')\n",
    "plt.plot(x, trapez(x), 'r', label='Trapezoid', lw=3)\n",
    "plt.plot(x, gauss(x), 'g', label='Gaussian', lw=3)\n",
    "plt.legend(loc=2)"
   ]
  },
  {
   "cell_type": "markdown",
   "metadata": {},
   "source": [
    "Exercise 2:\n",
    "\n",
    "- read a spectrum from a text file (data/sample.txt)\n",
    "- Using the rest wavelengths as initial values, fit a gaussian to the H beta and OIII lines.\n"
   ]
  },
  {
   "cell_type": "code",
   "execution_count": null,
   "metadata": {
    "collapsed": false
   },
   "outputs": [],
   "source": [
    "from astropy.io import ascii\n",
    "sdss = ascii.read('data/sample_sdss.txt')\n",
    "sdss.colnames"
   ]
  },
  {
   "cell_type": "code",
   "execution_count": null,
   "metadata": {
    "collapsed": false
   },
   "outputs": [],
   "source": [
    "wave = sdss['lambda']\n",
    "flux = sdss['flux']\n",
    "#%matplotlib notebook\n",
    "plt.plot(wave, flux)"
   ]
  },
  {
   "cell_type": "markdown",
   "metadata": {},
   "source": [
    "Use the rest wavelengths as initial values for the locaiton of the lines.\n"
   ]
  },
  {
   "cell_type": "code",
   "execution_count": null,
   "metadata": {
    "collapsed": true
   },
   "outputs": [],
   "source": [
    "Hbeta = 4862.721\n",
    "Halpha = 6564.614\n",
    "OIII_1 = 4958.911\n",
    "OIII_2 = 5008.239\n",
    "Na = 6549.86\n",
    "Nb = 6585.27\n",
    "Sa = 6718.29\n",
    "Sb = 6732.68"
   ]
  },
  {
   "cell_type": "code",
   "execution_count": null,
   "metadata": {
    "collapsed": false
   },
   "outputs": [],
   "source": [
    "wave = sdss['lambda']\n",
    "flux = sdss['flux']\n",
    "plt.figure(figsize=(8, 5))\n",
    "plt.plot(wave, flux)\n",
    "plt.text(4800, 70, 'Hbeta', rotation=90)\n",
    "plt.text(4900, 100, 'OIII_1', rotation=90)\n",
    "plt.text(4950, 200, 'OIII_2', rotation=90)\n",
    "plt.text(6500, 170, 'Halpha', rotation=90)\n",
    "plt.text(6700, 70, 'Sa and Sb', rotation=90)"
   ]
  },
  {
   "cell_type": "markdown",
   "metadata": {},
   "source": [
    "Create a Polynomial model to fit the continuum."
   ]
  },
  {
   "cell_type": "code",
   "execution_count": null,
   "metadata": {
    "collapsed": false
   },
   "outputs": [],
   "source": [
    "mean_flux = flux.mean()\n",
    "cont = np.where(flux > mean_flux, mean_flux, flux)\n",
    "linfitter = fitting.LinearLSQFitter()\n",
    "poly_cont = linfitter(models.Polynomial1D(1), wave, cont)\n",
    "print(poly_cont)"
   ]
  },
  {
   "cell_type": "markdown",
   "metadata": {},
   "source": [
    "Create Gaussin1D models for each of the Hbeta and OIII lines."
   ]
  },
  {
   "cell_type": "code",
   "execution_count": null,
   "metadata": {
    "collapsed": true
   },
   "outputs": [],
   "source": [
    "h_beta = models.Gaussian1D(amplitude=34, mean=Hbeta, stddev=5)\n",
    "o3 = models.Gaussian1D(amplitude=170, mean=OIII_2, stddev=5)\n",
    "o1 = models.Gaussian1D(amplitude=57, mean=OIII_1, stddev=5)"
   ]
  },
  {
   "cell_type": "markdown",
   "metadata": {},
   "source": [
    "Create a compound model for the three lines and the continuum."
   ]
  },
  {
   "cell_type": "code",
   "execution_count": null,
   "metadata": {
    "collapsed": false
   },
   "outputs": [],
   "source": [
    "hbeta_combo = h_beta + o1 + o3 + poly_cont\n",
    "print(hbeta_combo.param_names)"
   ]
  },
  {
   "cell_type": "markdown",
   "metadata": {},
   "source": [
    "Tie the ratio of the intensity of the two OIII lines."
   ]
  },
  {
   "cell_type": "code",
   "execution_count": null,
   "metadata": {
    "collapsed": true
   },
   "outputs": [],
   "source": [
    "def tie_ampl(model):\n",
    "    return model.amplitude_2 / 3.1\n",
    "\n",
    "hbeta_combo.amplitude_1.tied = tie_ampl"
   ]
  },
  {
   "cell_type": "markdown",
   "metadata": {},
   "source": [
    "Also tie the wavelength of the Hbeta line to the OIII wavelength."
   ]
  },
  {
   "cell_type": "code",
   "execution_count": null,
   "metadata": {
    "collapsed": true
   },
   "outputs": [],
   "source": [
    "def tie_wave(model):\n",
    "    return model.mean_0 * OIII_1/Hbeta\n",
    "\n",
    "hbeta_combo.mean_1.tied = tie_wave "
   ]
  },
  {
   "cell_type": "markdown",
   "metadata": {},
   "source": [
    "Fit all lines simultaneously."
   ]
  },
  {
   "cell_type": "code",
   "execution_count": null,
   "metadata": {
    "collapsed": false
   },
   "outputs": [],
   "source": [
    "fitter = fitting.LevMarLSQFitter()\n",
    "fitted_model = fitter(hbeta_combo, wave, flux)\n",
    "fitted_lines = fitted_model(wave)"
   ]
  },
  {
   "cell_type": "code",
   "execution_count": null,
   "metadata": {
    "collapsed": false
   },
   "outputs": [],
   "source": [
    "plt.figure(figsize=(9, 6))\n",
    "plt.plot(wave, flux)\n",
    "plt.plot(wave, fitted_lines, 'r')"
   ]
  },
  {
   "cell_type": "code",
   "execution_count": null,
   "metadata": {
    "collapsed": true
   },
   "outputs": [],
   "source": []
  }
 ],
 "metadata": {
  "kernelspec": {
   "display_name": "Python 2",
   "language": "python",
   "name": "python2"
  },
  "language_info": {
   "codemirror_mode": {
    "name": "ipython",
    "version": 2
   },
   "file_extension": ".py",
   "mimetype": "text/x-python",
   "name": "python",
   "nbconvert_exporter": "python",
   "pygments_lexer": "ipython2",
   "version": "2.7.11"
  }
 },
 "nbformat": 4,
 "nbformat_minor": 0
}
