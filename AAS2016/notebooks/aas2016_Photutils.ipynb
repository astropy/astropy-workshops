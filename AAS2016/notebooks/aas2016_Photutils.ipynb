{
 "cells": [
  {
   "cell_type": "markdown",
   "metadata": {
    "collapsed": false,
    "slideshow": {
     "slide_type": "slide"
    }
   },
   "source": [
    "<img src=\"data/photutils_banner.svg\">"
   ]
  },
  {
   "cell_type": "markdown",
   "metadata": {
    "slideshow": {
     "slide_type": "slide"
    }
   },
   "source": [
    "## Photutils\n",
    "\n",
    "- Code: https://github.com/astropy/photutils\n",
    "- Documentation: http://photutils.readthedocs.org/en/latest/\n",
    "- Issue Tracker:  https://github.com/astropy/photutils/issues"
   ]
  },
  {
   "cell_type": "markdown",
   "metadata": {
    "slideshow": {
     "slide_type": "slide"
    }
   },
   "source": [
    "## Photutils Overview\n",
    "\n",
    "- Background and background RMS estimation\n",
    "- Aperture Photometry\n",
    "- PSF Photometry (needs work)\n",
    "- Source Detection and Extraction\n",
    "  - DAOFIND and IRAF's starfind\n",
    "  - image segmentation based on (local) threshold\n",
    "  - local peak finder\n",
    "- Segmentation-based source photometry and morphological properties\n",
    "- Centroids\n",
    "- More to come!"
   ]
  },
  {
   "cell_type": "code",
   "execution_count": null,
   "metadata": {
    "collapsed": true,
    "slideshow": {
     "slide_type": "slide"
    }
   },
   "outputs": [],
   "source": [
    "# initial imports\n",
    "import numpy as np\n",
    "import matplotlib.pyplot as plt\n",
    "\n",
    "# change some default plotting parameters\n",
    "import matplotlib as mpl\n",
    "mpl.rcParams['image.origin'] = 'lower'\n",
    "mpl.rcParams['image.interpolation'] = 'nearest'\n",
    "mpl.rcParams['image.cmap'] = 'Greys_r'\n",
    "\n",
    "# run the %matplotlib magic command to enable inline plotting\n",
    "# in the current Notebook\n",
    "%matplotlib inline"
   ]
  },
  {
   "cell_type": "markdown",
   "metadata": {
    "slideshow": {
     "slide_type": "slide"
    }
   },
   "source": [
    "## Part 1:  Aperture Photometry\n",
    "\n",
    "### Perform aperture photometry on some sources in the XDF"
   ]
  },
  {
   "cell_type": "markdown",
   "metadata": {
    "slideshow": {
     "slide_type": "-"
    }
   },
   "source": [
    "We'll start by reading the XDF WFC3/IR F160W data and error arrays from FITS files."
   ]
  },
  {
   "cell_type": "code",
   "execution_count": null,
   "metadata": {
    "collapsed": false,
    "slideshow": {
     "slide_type": "-"
    }
   },
   "outputs": [],
   "source": [
    "from astropy.io import fits\n",
    "sci_fn = 'data/xdf_hst_wfc3ir_60mas_f160w_sci.fits'\n",
    "rms_fn = 'data/xdf_hst_wfc3ir_60mas_f160w_rms.fits'\n",
    "sci_hdulist = fits.open(sci_fn)\n",
    "rms_hdulist = fits.open(rms_fn)"
   ]
  },
  {
   "cell_type": "code",
   "execution_count": null,
   "metadata": {
    "collapsed": false,
    "scrolled": true
   },
   "outputs": [],
   "source": [
    "sci_hdulist.info()"
   ]
  },
  {
   "cell_type": "code",
   "execution_count": null,
   "metadata": {
    "collapsed": false,
    "slideshow": {
     "slide_type": "fragment"
    }
   },
   "outputs": [],
   "source": [
    "# define the data and error arrays\n",
    "data = sci_hdulist[0].data.astype(np.float)\n",
    "error = rms_hdulist[0].data.astype(np.float)\n",
    "print(data.shape)\n",
    "print(data.dtype)"
   ]
  },
  {
   "cell_type": "code",
   "execution_count": null,
   "metadata": {
    "collapsed": false,
    "slideshow": {
     "slide_type": "fragment"
    }
   },
   "outputs": [],
   "source": [
    "# extract the data header and create a WCS object\n",
    "from astropy.wcs import WCS\n",
    "hdr = sci_hdulist[0].header\n",
    "wcs = WCS(hdr)"
   ]
  },
  {
   "cell_type": "code",
   "execution_count": null,
   "metadata": {
    "collapsed": false,
    "slideshow": {
     "slide_type": "fragment"
    }
   },
   "outputs": [],
   "source": [
    "# display the data\n",
    "from astropy.visualization import scale_image\n",
    "plt.imshow(scale_image(data, scale='sqrt', percent=99.5))"
   ]
  },
  {
   "cell_type": "code",
   "execution_count": null,
   "metadata": {
    "collapsed": false,
    "slideshow": {
     "slide_type": "fragment"
    }
   },
   "outputs": [],
   "source": [
    "# plot a histogram of data values\n",
    "r = plt.hist(data.ravel(), bins=50, range=(-0.002, 0.005))"
   ]
  },
  {
   "cell_type": "markdown",
   "metadata": {
    "slideshow": {
     "slide_type": "slide"
    }
   },
   "source": [
    "## Aperture photometry"
   ]
  },
  {
   "cell_type": "markdown",
   "metadata": {
    "collapsed": false
   },
   "source": [
    "<img src=\"data/photutils_apertures.svg\">"
   ]
  },
  {
   "cell_type": "markdown",
   "metadata": {
    "slideshow": {
     "slide_type": "slide"
    }
   },
   "source": [
    "## Methods for handling aperture/pixel intersection"
   ]
  },
  {
   "cell_type": "markdown",
   "metadata": {
    "collapsed": false,
    "slideshow": {
     "slide_type": "-"
    }
   },
   "source": [
    "<img src=\"data/photutils_aperture_methods.svg\">"
   ]
  },
  {
   "cell_type": "code",
   "execution_count": null,
   "metadata": {
    "collapsed": false,
    "slideshow": {
     "slide_type": "slide"
    }
   },
   "outputs": [],
   "source": [
    "from photutils import CircularAperture, aperture_photometry"
   ]
  },
  {
   "cell_type": "code",
   "execution_count": null,
   "metadata": {
    "collapsed": true,
    "slideshow": {
     "slide_type": "fragment"
    }
   },
   "outputs": [],
   "source": [
    "# define the aperture\n",
    "position = (90.73, 59.43)\n",
    "radius = 5.\n",
    "aperture = CircularAperture(position, r=radius)"
   ]
  },
  {
   "cell_type": "code",
   "execution_count": null,
   "metadata": {
    "collapsed": true,
    "slideshow": {
     "slide_type": "fragment"
    }
   },
   "outputs": [],
   "source": [
    "# perform the photometry; the default method is 'exact'\n",
    "phot = aperture_photometry(data, aperture)"
   ]
  },
  {
   "cell_type": "code",
   "execution_count": null,
   "metadata": {
    "collapsed": false
   },
   "outputs": [],
   "source": [
    "phot"
   ]
  },
  {
   "cell_type": "code",
   "execution_count": null,
   "metadata": {
    "collapsed": false,
    "slideshow": {
     "slide_type": "fragment"
    }
   },
   "outputs": [],
   "source": [
    "# center method\n",
    "phot = aperture_photometry(data, aperture,  method='center')\n",
    "phot"
   ]
  },
  {
   "cell_type": "code",
   "execution_count": null,
   "metadata": {
    "collapsed": false,
    "slideshow": {
     "slide_type": "fragment"
    }
   },
   "outputs": [],
   "source": [
    "# subpixel method, subpixels=5 (same as SExtractor)\n",
    "phot = aperture_photometry(data, aperture,  method='subpixel', subpixels=5)\n",
    "phot"
   ]
  },
  {
   "cell_type": "code",
   "execution_count": null,
   "metadata": {
    "collapsed": false
   },
   "outputs": [],
   "source": [
    "# input the error array to get the photometric error\n",
    "phot = aperture_photometry(data, aperture, error=error)\n",
    "phot"
   ]
  },
  {
   "cell_type": "code",
   "execution_count": null,
   "metadata": {
    "collapsed": false,
    "slideshow": {
     "slide_type": "fragment"
    }
   },
   "outputs": [],
   "source": [
    "# input the data units\n",
    "import astropy.units as u\n",
    "unit = u.electron / u.s\n",
    "phot = aperture_photometry(data, aperture, error=error, unit=unit)\n",
    "phot"
   ]
  },
  {
   "cell_type": "markdown",
   "metadata": {
    "slideshow": {
     "slide_type": "slide"
    }
   },
   "source": [
    "## Perform aperture photometry at 3 positions\n",
    "## Also input the error array"
   ]
  },
  {
   "cell_type": "code",
   "execution_count": null,
   "metadata": {
    "collapsed": false,
    "slideshow": {
     "slide_type": "-"
    }
   },
   "outputs": [],
   "source": [
    "positions = [(90.73, 59.43), (73.63, 139.41), (43.62, 61.63)]\n",
    "radius = 5.\n",
    "apertures = CircularAperture(positions, r=radius)\n",
    "\n",
    "phot = aperture_photometry(data, apertures, error=error, unit=unit)\n",
    "phot"
   ]
  },
  {
   "cell_type": "code",
   "execution_count": null,
   "metadata": {
    "collapsed": false,
    "slideshow": {
     "slide_type": "fragment"
    }
   },
   "outputs": [],
   "source": [
    "# this time include the Poisson error of the sources\n",
    "eff_gain = hdr['TEXPTIME']\n",
    "\n",
    "# this is essentially how the Poission error is included:\n",
    "#toterr = np.sqrt(err**2 + (data / eff_gain))\n",
    "#phot = aperture_photometry(data, apertures, error=toterr)\n",
    "\n",
    "phot = aperture_photometry(data, apertures, error=error,\n",
    "                           effective_gain=eff_gain)\n",
    "phot"
   ]
  },
  {
   "cell_type": "markdown",
   "metadata": {
    "slideshow": {
     "slide_type": "slide"
    }
   },
   "source": [
    "## Bad pixel masking"
   ]
  },
  {
   "cell_type": "code",
   "execution_count": null,
   "metadata": {
    "collapsed": false
   },
   "outputs": [],
   "source": [
    "# create a bad pixel\n",
    "data2 = data.copy()\n",
    "y, x = 59, 91\n",
    "data2[y, x] = 100.\n",
    "aperture_photometry(data2, apertures, error=error)"
   ]
  },
  {
   "cell_type": "code",
   "execution_count": null,
   "metadata": {
    "collapsed": false,
    "slideshow": {
     "slide_type": "fragment"
    }
   },
   "outputs": [],
   "source": [
    "# mask the bad pixel\n",
    "mask = np.zeros_like(data2, dtype=bool)\n",
    "mask[y, x] = True\n",
    "aperture_photometry(data2, apertures, error=error, mask=mask)"
   ]
  },
  {
   "cell_type": "markdown",
   "metadata": {
    "slideshow": {
     "slide_type": "slide"
    }
   },
   "source": [
    "## Add columns to the photometry table"
   ]
  },
  {
   "cell_type": "code",
   "execution_count": null,
   "metadata": {
    "collapsed": false
   },
   "outputs": [],
   "source": [
    "# Add an ID column\n",
    "phot['id'] = np.arange(len(phot)) + 1\n",
    "phot"
   ]
  },
  {
   "cell_type": "code",
   "execution_count": null,
   "metadata": {
    "collapsed": false
   },
   "outputs": [],
   "source": [
    "# rearrange the column order to put 'id' first\n",
    "colnames = phot.colnames\n",
    "colnames.insert(0, colnames.pop(colnames.index('id')))\n",
    "phot = phot[colnames]\n",
    "phot"
   ]
  },
  {
   "cell_type": "code",
   "execution_count": null,
   "metadata": {
    "collapsed": false,
    "slideshow": {
     "slide_type": "fragment"
    }
   },
   "outputs": [],
   "source": [
    "# calculate the SNR and add it to the table\n",
    "snr = phot['aperture_sum'] / phot['aperture_sum_err']\n",
    "phot['snr'] = snr\n",
    "phot"
   ]
  },
  {
   "cell_type": "code",
   "execution_count": null,
   "metadata": {
    "collapsed": false,
    "slideshow": {
     "slide_type": "fragment"
    }
   },
   "outputs": [],
   "source": [
    "# calculate the F160W AB magnitude and add it to the table\n",
    "f160w_zpt = 25.9463\n",
    "abmag = -2.5 * np.log10(phot['aperture_sum']) + f160w_zpt\n",
    "phot['abmag'] = abmag\n",
    "phot"
   ]
  },
  {
   "cell_type": "code",
   "execution_count": null,
   "metadata": {
    "collapsed": false,
    "slideshow": {
     "slide_type": "fragment"
    }
   },
   "outputs": [],
   "source": [
    "# calculate the ICRS RA and Dec and add them to the table\n",
    "from astropy.wcs.utils import pixel_to_skycoord\n",
    "x, y = np.transpose(positions)\n",
    "coord = pixel_to_skycoord(x, y, wcs)\n",
    "phot['ra_icrs'] = coord.icrs.ra\n",
    "phot['dec_icrs'] = coord.icrs.dec\n",
    "phot"
   ]
  },
  {
   "cell_type": "markdown",
   "metadata": {},
   "source": [
    "## Exercise 1\n",
    "\n",
    "Calculate the F160W AB magnitude of the source at $x$=34.61, $y$=137.99 in a $r$=7 pixel (0.42 arcsec) circular aperture.\n",
    "\n",
    "*Hint*:  The F160W AB zero-point is 25.9463."
   ]
  },
  {
   "cell_type": "code",
   "execution_count": null,
   "metadata": {
    "collapsed": true
   },
   "outputs": [],
   "source": [
    "# answer here"
   ]
  },
  {
   "cell_type": "markdown",
   "metadata": {
    "slideshow": {
     "slide_type": "slide"
    }
   },
   "source": [
    "## Aperture photometry using Sky apertures"
   ]
  },
  {
   "cell_type": "code",
   "execution_count": null,
   "metadata": {
    "collapsed": false
   },
   "outputs": [],
   "source": [
    "coord"
   ]
  },
  {
   "cell_type": "code",
   "execution_count": null,
   "metadata": {
    "collapsed": false,
    "slideshow": {
     "slide_type": "fragment"
    }
   },
   "outputs": [],
   "source": [
    "# define circular aperture using sky coordinates\n",
    "from photutils import SkyCircularAperture\n",
    "radius2 = 5. * u.pix   # sky aperture radius must be a Quantity\n",
    "sky_apers = SkyCircularAperture(coord, r=radius2)"
   ]
  },
  {
   "cell_type": "code",
   "execution_count": null,
   "metadata": {
    "collapsed": false,
    "slideshow": {
     "slide_type": "fragment"
    }
   },
   "outputs": [],
   "source": [
    "# aperture_photometry needs either an wcs object\n",
    "phot2 = aperture_photometry(data, sky_apers, wcs=wcs)\n",
    "phot2"
   ]
  },
  {
   "cell_type": "code",
   "execution_count": null,
   "metadata": {
    "collapsed": false,
    "slideshow": {
     "slide_type": "fragment"
    }
   },
   "outputs": [],
   "source": [
    "# ...or an hdu (i.e. header and data)\n",
    "sci_hdulist[0].header['BUNIT'] = 'electron/s'\n",
    "phot2 = aperture_photometry(sci_hdulist[0], sky_apers)\n",
    "phot2"
   ]
  },
  {
   "cell_type": "code",
   "execution_count": null,
   "metadata": {
    "collapsed": false
   },
   "outputs": [],
   "source": [
    "# SkyApertures can also take angular radii\n",
    "radius3 = 5. * u.arcsec\n",
    "sky_apers3 = SkyCircularAperture(coord, r=radius3)\n",
    "sky_apers3.r"
   ]
  },
  {
   "cell_type": "code",
   "execution_count": null,
   "metadata": {
    "collapsed": false,
    "slideshow": {
     "slide_type": "fragment"
    }
   },
   "outputs": [],
   "source": [
    "phot3 = aperture_photometry(data, sky_apers3, wcs=wcs)\n",
    "phot3"
   ]
  },
  {
   "cell_type": "markdown",
   "metadata": {
    "slideshow": {
     "slide_type": "slide"
    }
   },
   "source": [
    "## Apertures can plot themselves"
   ]
  },
  {
   "cell_type": "code",
   "execution_count": null,
   "metadata": {
    "collapsed": false
   },
   "outputs": [],
   "source": [
    "plt.imshow(scale_image(data, scale='sqrt', percent=99.))\n",
    "apertures.plot(color='blue')   # r=5 pix apertures"
   ]
  },
  {
   "cell_type": "markdown",
   "metadata": {
    "slideshow": {
     "slide_type": "slide"
    }
   },
   "source": [
    "## Multiple Apertures at Each Position"
   ]
  },
  {
   "cell_type": "code",
   "execution_count": null,
   "metadata": {
    "collapsed": false
   },
   "outputs": [],
   "source": [
    "unit = u.electron / u.s\n",
    "radii = [3.1, 4.2, 5.1]   # pixels\n",
    "tbl_list = []\n",
    "for radius in radii:\n",
    "    tbl_list.append(aperture_photometry(data,\n",
    "        CircularAperture(positions, radius),\n",
    "        error=error, unit=unit))"
   ]
  },
  {
   "cell_type": "code",
   "execution_count": null,
   "metadata": {
    "collapsed": false,
    "slideshow": {
     "slide_type": "fragment"
    }
   },
   "outputs": [],
   "source": [
    "# combine the table list using hstack\n",
    "# instead of 1, 2, 3 names (default), use r3, r4, r5\n",
    "from astropy.table import hstack\n",
    "names = ['r3', 'r4', 'r5']\n",
    "phot2 = hstack(tbl_list, table_names=names)\n",
    "phot2"
   ]
  },
  {
   "cell_type": "code",
   "execution_count": null,
   "metadata": {
    "collapsed": false,
    "slideshow": {
     "slide_type": "fragment"
    }
   },
   "outputs": [],
   "source": [
    "# do some table cleanup\n",
    "for key in ['xcenter_r4', 'ycenter_r4', 'xcenter_r5', 'ycenter_r5']:\n",
    "    del phot2[key]\n",
    "phot2.rename_column('xcenter_r3', 'xcenter')\n",
    "phot2.rename_column('ycenter_r3', 'ycenter')\n",
    "colnames = phot2.colnames\n",
    "colnames.insert(0, colnames.pop(colnames.index('ycenter')))\n",
    "colnames.insert(0, colnames.pop(colnames.index('xcenter')))\n",
    "phot2 = phot2[colnames]\n",
    "phot2"
   ]
  },
  {
   "cell_type": "code",
   "execution_count": null,
   "metadata": {
    "collapsed": false,
    "slideshow": {
     "slide_type": "fragment"
    }
   },
   "outputs": [],
   "source": [
    "# add the aperture radii to the table\n",
    "phot2['aperture_radius_r3'] = radii[0] * u.pix\n",
    "phot2['aperture_radius_r4'] = radii[1] * u.pix\n",
    "phot2['aperture_radius_r5'] = radii[2] * u.pix\n",
    "phot2"
   ]
  },
  {
   "cell_type": "markdown",
   "metadata": {
    "slideshow": {
     "slide_type": "slide"
    }
   },
   "source": [
    "## Encircled flux"
   ]
  },
  {
   "cell_type": "code",
   "execution_count": null,
   "metadata": {
    "collapsed": true
   },
   "outputs": [],
   "source": [
    "# multiple apertures at a single position\n",
    "radii = np.linspace(0.1, 20, 100)\n",
    "flux = []\n",
    "for r in radii:\n",
    "    ap = CircularAperture(positions[0], r=r)\n",
    "    phot = aperture_photometry(data, ap)\n",
    "    flux.append(phot['aperture_sum'][0])"
   ]
  },
  {
   "cell_type": "code",
   "execution_count": null,
   "metadata": {
    "collapsed": false,
    "slideshow": {
     "slide_type": "fragment"
    }
   },
   "outputs": [],
   "source": [
    "plt.plot(radii, flux)\n",
    "plt.title('Encircled Flux')\n",
    "plt.xlabel('Radius (pixels)')\n",
    "plt.ylabel('Aperture Sum ($e^{-1}/s$)')"
   ]
  },
  {
   "cell_type": "markdown",
   "metadata": {
    "collapsed": true,
    "slideshow": {
     "slide_type": "slide"
    }
   },
   "source": [
    "## Local background estimation"
   ]
  },
  {
   "cell_type": "code",
   "execution_count": null,
   "metadata": {
    "collapsed": true
   },
   "outputs": [],
   "source": [
    "# define a circular aperture\n",
    "apertures = CircularAperture(positions, r=3)"
   ]
  },
  {
   "cell_type": "code",
   "execution_count": null,
   "metadata": {
    "collapsed": true,
    "slideshow": {
     "slide_type": "-"
    }
   },
   "outputs": [],
   "source": [
    "# and a circular annulus aperture\n",
    "from photutils import CircularAnnulus\n",
    "bkg_apertures = CircularAnnulus(positions, r_in=10., r_out=15.)"
   ]
  },
  {
   "cell_type": "code",
   "execution_count": null,
   "metadata": {
    "collapsed": false,
    "slideshow": {
     "slide_type": "fragment"
    }
   },
   "outputs": [],
   "source": [
    "# plot the apertures\n",
    "from astropy.visualization import scale_image\n",
    "plt.imshow(scale_image(data, scale='sqrt', percent=98.), \n",
    "           origin='lower')\n",
    "apertures.plot(color='blue')\n",
    "bkg_apertures.plot(color='cyan', hatch='//', alpha=0.8)"
   ]
  },
  {
   "cell_type": "code",
   "execution_count": null,
   "metadata": {
    "collapsed": false,
    "slideshow": {
     "slide_type": "fragment"
    }
   },
   "outputs": [],
   "source": [
    "# measure the aperture sums in both apertures\n",
    "phot = aperture_photometry(data, apertures)\n",
    "bkg = aperture_photometry(data, bkg_apertures)"
   ]
  },
  {
   "cell_type": "code",
   "execution_count": null,
   "metadata": {
    "collapsed": false,
    "slideshow": {
     "slide_type": "fragment"
    }
   },
   "outputs": [],
   "source": [
    "# calculate the mean background level (per pixel) in the annuli\n",
    "bkg_mean = bkg['aperture_sum'] / bkg_apertures.area()\n",
    "bkg_mean"
   ]
  },
  {
   "cell_type": "code",
   "execution_count": null,
   "metadata": {
    "collapsed": false,
    "slideshow": {
     "slide_type": "fragment"
    }
   },
   "outputs": [],
   "source": [
    "# now calculate the total background in the circular aperture\n",
    "bkg_sum = bkg_mean * apertures.area()\n",
    "\n",
    "phot['bkg_sum'] = bkg_sum\n",
    "phot"
   ]
  },
  {
   "cell_type": "code",
   "execution_count": null,
   "metadata": {
    "collapsed": false,
    "slideshow": {
     "slide_type": "fragment"
    }
   },
   "outputs": [],
   "source": [
    " # subtract the background\n",
    "flux_bkgsub = phot['aperture_sum'] - bkg_sum\n",
    "\n",
    "phot['aperture_sum_bkgsub'] = flux_bkgsub\n",
    "phot"
   ]
  },
  {
   "cell_type": "markdown",
   "metadata": {
    "slideshow": {
     "slide_type": "slide"
    }
   },
   "source": [
    "## Part 2:  Image Segmentation"
   ]
  },
  {
   "cell_type": "code",
   "execution_count": null,
   "metadata": {
    "collapsed": false
   },
   "outputs": [],
   "source": [
    "# define a threshold image\n",
    "# 2-sigma (per pixel!) above the background\n",
    "bkg = 0.\n",
    "threshold = bkg + (2.0 * error)"
   ]
  },
  {
   "cell_type": "code",
   "execution_count": null,
   "metadata": {
    "collapsed": false,
    "slideshow": {
     "slide_type": "fragment"
    }
   },
   "outputs": [],
   "source": [
    "# detect 8-connected sources of size 5 pixels\n",
    "# where each pixel is 2 sigma above the background\n",
    "from photutils import detect_sources\n",
    "npixels = 5\n",
    "segm = detect_sources(data, threshold, npixels)"
   ]
  },
  {
   "cell_type": "code",
   "execution_count": null,
   "metadata": {
    "collapsed": false,
    "slideshow": {
     "slide_type": "fragment"
    }
   },
   "outputs": [],
   "source": [
    "# the minimum total object snr is:\n",
    "obj_min_snr = np.sqrt(5) * 2.\n",
    "obj_min_snr"
   ]
  },
  {
   "cell_type": "markdown",
   "metadata": {
    "slideshow": {
     "slide_type": "fragment"
    }
   },
   "source": [
    "### The segmentation image is the isophotal footprint of each source above the threshold"
   ]
  },
  {
   "cell_type": "code",
   "execution_count": null,
   "metadata": {
    "collapsed": false,
    "slideshow": {
     "slide_type": "fragment"
    }
   },
   "outputs": [],
   "source": [
    "# plot the segmentation image\n",
    "from photutils.utils import random_cmap\n",
    "rand_cmap = random_cmap(random_state=12345)\n",
    "\n",
    "plt.imshow(segm, cmap=rand_cmap)\n",
    "print('Found {0} sources'.format(segm.max))"
   ]
  },
  {
   "cell_type": "markdown",
   "metadata": {
    "slideshow": {
     "slide_type": "slide"
    }
   },
   "source": [
    "## Filter (smooth) the data prior to source detection"
   ]
  },
  {
   "cell_type": "code",
   "execution_count": null,
   "metadata": {
    "collapsed": false
   },
   "outputs": [],
   "source": [
    "# define the kernel\n",
    "from astropy.convolution import Gaussian2DKernel\n",
    "from astropy.stats import gaussian_fwhm_to_sigma\n",
    "sigma = 2.0 * gaussian_fwhm_to_sigma    # FWHM = 2 pixels\n",
    "kernel = Gaussian2DKernel(sigma, x_size=5, y_size=5)\n",
    "kernel.normalize()\n",
    "kernel.array"
   ]
  },
  {
   "cell_type": "code",
   "execution_count": null,
   "metadata": {
    "collapsed": false,
    "slideshow": {
     "slide_type": "fragment"
    }
   },
   "outputs": [],
   "source": [
    "# detect the sources\n",
    "segm = detect_sources(data, threshold, npixels, filter_kernel=kernel)\n",
    "plt.imshow(segm, cmap=rand_cmap)\n",
    "print('Found {0} sources'.format(segm.max))"
   ]
  },
  {
   "cell_type": "markdown",
   "metadata": {
    "slideshow": {
     "slide_type": "fragment"
    }
   },
   "source": [
    "## Source deblending"
   ]
  },
  {
   "cell_type": "code",
   "execution_count": null,
   "metadata": {
    "collapsed": false
   },
   "outputs": [],
   "source": [
    "from photutils import deblend_sources\n",
    "segm2 = deblend_sources(data, segm, npixels, filter_kernel=kernel,\n",
    "                        contrast=0.001, nlevels=32)\n",
    "plt.imshow(segm2, cmap=rand_cmap)\n",
    "print('Found {0} sources'.format(segm2.max))"
   ]
  },
  {
   "cell_type": "code",
   "execution_count": null,
   "metadata": {
    "collapsed": false
   },
   "outputs": [],
   "source": [
    "fig, (ax1, ax2) = plt.subplots(1, 2, figsize=(10, 8))\n",
    "ax1.imshow(scale_image(data, scale='sqrt', percent=99.5))\n",
    "ax2.imshow(segm2, cmap=rand_cmap)"
   ]
  },
  {
   "cell_type": "markdown",
   "metadata": {
    "slideshow": {
     "slide_type": "slide"
    }
   },
   "source": [
    "## Measure the photometry and morphological properties of detected sources"
   ]
  },
  {
   "cell_type": "code",
   "execution_count": null,
   "metadata": {
    "collapsed": true
   },
   "outputs": [],
   "source": [
    "from photutils import source_properties, properties_table\n",
    "props = source_properties(data, segm2.data, error=error, wcs=wcs)"
   ]
  },
  {
   "cell_type": "markdown",
   "metadata": {
    "slideshow": {
     "slide_type": "fragment"
    }
   },
   "source": [
    "`props` is a list of `SourceProperties` objects.\n",
    "\n",
    "We can create a Table of isophotal photometry and morphological properties using the ``properties_table()`` function:"
   ]
  },
  {
   "cell_type": "code",
   "execution_count": null,
   "metadata": {
    "collapsed": false,
    "scrolled": true
   },
   "outputs": [],
   "source": [
    "tbl = properties_table(props)\n",
    "tbl"
   ]
  },
  {
   "cell_type": "code",
   "execution_count": null,
   "metadata": {
    "collapsed": false,
    "slideshow": {
     "slide_type": "fragment"
    }
   },
   "outputs": [],
   "source": [
    "# a subset of sources can be specified,\n",
    "# defined by their labels in the segmentation image\n",
    "labels = [1, 5, 7, 12]\n",
    "props2 = source_properties(data, segm.data, error=error, wcs=wcs, labels=labels)\n",
    "tbl = properties_table(props2)\n",
    "tbl"
   ]
  },
  {
   "cell_type": "code",
   "execution_count": null,
   "metadata": {
    "collapsed": false,
    "slideshow": {
     "slide_type": "fragment"
    }
   },
   "outputs": [],
   "source": [
    "# a subset of columns can be specified\n",
    "columns = ['id', 'xcentroid', 'ycentroid', 'source_sum', 'area']\n",
    "tbl2 = properties_table(props2, columns=columns)\n",
    "tbl2"
   ]
  },
  {
   "cell_type": "markdown",
   "metadata": {},
   "source": [
    "Some additional source properties, e.g. image cutouts, can be accessed directly via the `SourceProperties` objects."
   ]
  },
  {
   "cell_type": "code",
   "execution_count": null,
   "metadata": {
    "collapsed": false
   },
   "outputs": [],
   "source": [
    "# get a single object (id=12)\n",
    "obj = props[11]\n",
    "obj.id"
   ]
  },
  {
   "cell_type": "code",
   "execution_count": null,
   "metadata": {
    "collapsed": false,
    "slideshow": {
     "slide_type": "fragment"
    }
   },
   "outputs": [],
   "source": [
    "# plot its cutout data and error images\n",
    "fig, ax = plt.subplots(figsize=(4, 6), ncols=2)\n",
    "cmap = 'hot'\n",
    "ax[0].imshow(obj.data_cutout_ma, cmap=cmap)\n",
    "ax[1].imshow(obj.error_cutout_ma, cmap=cmap)"
   ]
  },
  {
   "cell_type": "code",
   "execution_count": null,
   "metadata": {
    "collapsed": false,
    "slideshow": {
     "slide_type": "fragment"
    }
   },
   "outputs": [],
   "source": [
    "f160w_zpt = 25.9463\n",
    "abmag = -2.5 * np.log10(obj.source_sum) + f160w_zpt\n",
    "print('AB magnitude: {0:0.2f}'.format(abmag))\n",
    "\n",
    "snr = obj.source_sum / obj.source_sum_err\n",
    "print('Isophotal SNR: {0:0.2f}'.format(snr))"
   ]
  },
  {
   "cell_type": "markdown",
   "metadata": {},
   "source": [
    "Please see the complete list of available [source properties](http://photutils.readthedocs.org/en/latest/api/photutils.segmentation.SourceProperties.html#photutils.segmentation.SourceProperties)."
   ]
  },
  {
   "cell_type": "markdown",
   "metadata": {
    "slideshow": {
     "slide_type": "slide"
    }
   },
   "source": [
    "## Define the approximate isophotal ellipses for each object"
   ]
  },
  {
   "cell_type": "markdown",
   "metadata": {},
   "source": [
    "Create elliptical apertures for each object using the measured morphological parameters."
   ]
  },
  {
   "cell_type": "code",
   "execution_count": null,
   "metadata": {
    "collapsed": true,
    "slideshow": {
     "slide_type": "-"
    }
   },
   "outputs": [],
   "source": [
    "from photutils import EllipticalAperture\n",
    "r = 3.    # approximate isophotal extent\n",
    "apertures = []\n",
    "for prop in props:\n",
    "    position = (prop.xcentroid.value, prop.ycentroid.value)\n",
    "    a = prop.semimajor_axis_sigma.value * r\n",
    "    b = prop.semiminor_axis_sigma.value * r\n",
    "    theta = prop.orientation.value\n",
    "    apertures.append(EllipticalAperture(position, a, b, theta=theta))"
   ]
  },
  {
   "cell_type": "markdown",
   "metadata": {},
   "source": [
    "Now plot the elliptical apertures on the data and segmentation image."
   ]
  },
  {
   "cell_type": "code",
   "execution_count": null,
   "metadata": {
    "collapsed": false,
    "slideshow": {
     "slide_type": "fragment"
    }
   },
   "outputs": [],
   "source": [
    "fig, (ax1, ax2) = plt.subplots(1, 2, figsize=(8, 8))\n",
    "ax1.imshow(scale_image(data, scale='sqrt', percent=98.))\n",
    "ax2.imshow(segm2, cmap=rand_cmap)\n",
    "for aperture in apertures:\n",
    "    aperture.plot(color='red', lw=1.5, alpha=0.5, ax=ax1)\n",
    "    aperture.plot(color='white', lw=1.5, alpha=1.0, ax=ax2)"
   ]
  },
  {
   "cell_type": "markdown",
   "metadata": {
    "slideshow": {
     "slide_type": "slide"
    }
   },
   "source": [
    "The segmentation image can be reused on other data:\n",
    "\n",
    "* e.g. define the segmenation image from a detection image then use it to perform photometry in individual bands\n",
    "* the data must be registered pixelwise to the detection image\n"
   ]
  },
  {
   "cell_type": "code",
   "execution_count": null,
   "metadata": {
    "collapsed": true,
    "slideshow": {
     "slide_type": "fragment"
    }
   },
   "outputs": [],
   "source": [
    "# read the XDF WFC3/IR F105W data\n",
    "sci_fn = 'data/xdf_hst_wfc3ir_60mas_f105w_sci.fits'\n",
    "err_fn = 'data/xdf_hst_wfc3ir_60mas_f105w_rms.fits'\n",
    "data_f105w = fits.getdata(sci_fn)\n",
    "error_f105w = fits.getdata(err_fn)"
   ]
  },
  {
   "cell_type": "code",
   "execution_count": null,
   "metadata": {
    "collapsed": false,
    "slideshow": {
     "slide_type": "fragment"
    }
   },
   "outputs": [],
   "source": [
    "# extract and measure sources in the F105W data\n",
    "props_f105w = source_properties(data_f105w, segm2.data, error=error_f105w, wcs=wcs, labels=labels)\n",
    "columns = ['source_sum', 'source_sum_err']\n",
    "tbl_f105w = properties_table(props_f105w, columns=columns)\n",
    "tbl_f105w"
   ]
  },
  {
   "cell_type": "code",
   "execution_count": null,
   "metadata": {
    "collapsed": false,
    "slideshow": {
     "slide_type": "fragment"
    }
   },
   "outputs": [],
   "source": [
    "# combine the F160W and F105W tables\n",
    "from astropy.table import hstack\n",
    "phot = hstack([tbl, tbl_f105w], table_names=['f160w', 'f105w'])\n",
    "phot"
   ]
  },
  {
   "cell_type": "markdown",
   "metadata": {
    "slideshow": {
     "slide_type": "slide"
    }
   },
   "source": [
    "## The segmentation image can also be modified before measuring photometry/properties, e.g.:\n",
    "\n",
    " - remove source segments (artifacts, diffraction spikes, etc.)\n",
    " - combine segments\n",
    " - mask regions of segmentation image (e.g. near image borders)\n",
    "\n",
    "See [modifying segmentation images](http://photutils.readthedocs.org/en/latest/photutils/segmentation.html#modifying-segmentation-images) for futher information.\n",
    " \n",
    "### A SExtractor segmentation image can be input to source_properties()\n",
    "```\n",
    "CHECKIMAGE_TYPE   SEGMENTATION\n",
    "CHECKIMAGE_NAME   segmentation.fits\n",
    "```"
   ]
  },
  {
   "cell_type": "markdown",
   "metadata": {
    "slideshow": {
     "slide_type": "slide"
    }
   },
   "source": [
    "## Part 3: Detecting Stars (DAOFIND)"
   ]
  },
  {
   "cell_type": "code",
   "execution_count": null,
   "metadata": {
    "collapsed": false
   },
   "outputs": [],
   "source": [
    "# load a star image\n",
    "# https://github.com/astropy/photutils-datasets/blob/master/data/M6707HH.fits.gz\n",
    "from photutils.datasets import load_star_image\n",
    "hdu = load_star_image()    \n",
    "star_data = hdu.data[0:400, 0:400]"
   ]
  },
  {
   "cell_type": "code",
   "execution_count": null,
   "metadata": {
    "collapsed": true,
    "slideshow": {
     "slide_type": "fragment"
    }
   },
   "outputs": [],
   "source": [
    "# estimate background and background rms from\n",
    "# sigma-clipped statistics\n",
    "from astropy.stats import sigma_clipped_stats\n",
    "mean, median, std = sigma_clipped_stats(star_data, sigma=3.0)"
   ]
  },
  {
   "cell_type": "code",
   "execution_count": null,
   "metadata": {
    "collapsed": false,
    "slideshow": {
     "slide_type": "fragment"
    }
   },
   "outputs": [],
   "source": [
    "# find stars using daofind\n",
    "from photutils import daofind\n",
    "sources = daofind(star_data - median, fwhm=3.0, threshold=5.*std)    \n",
    "sources"
   ]
  },
  {
   "cell_type": "code",
   "execution_count": null,
   "metadata": {
    "collapsed": false,
    "slideshow": {
     "slide_type": "fragment"
    }
   },
   "outputs": [],
   "source": [
    "# plot the results\n",
    "from photutils import CircularAperture\n",
    "from astropy.visualization import SqrtStretch\n",
    "from astropy.visualization.mpl_normalize import ImageNormalize\n",
    "positions = (sources['xcentroid'], sources['ycentroid'])\n",
    "apertures = CircularAperture(positions, r=4.)\n",
    "norm = ImageNormalize(stretch=SqrtStretch())\n",
    "plt.imshow(star_data, cmap='Greys', origin='lower', norm=norm)\n",
    "apertures.plot(color='blue', lw=1.5, alpha=0.5)"
   ]
  },
  {
   "cell_type": "markdown",
   "metadata": {
    "slideshow": {
     "slide_type": "slide"
    }
   },
   "source": [
    "## Part 4: 2D Background estimation"
   ]
  },
  {
   "cell_type": "code",
   "execution_count": null,
   "metadata": {
    "collapsed": false
   },
   "outputs": [],
   "source": [
    "# lets add a large background gradient\n",
    "ny, nx = star_data.shape\n",
    "y, x = np.mgrid[:ny, :nx]\n",
    "gradient =  x * y * 1.e-1\n",
    "data2 = star_data + gradient\n",
    "plt.imshow(scale_image(data2, scale='sqrt', percent=99.5),\n",
    "           cmap='Greys')"
   ]
  },
  {
   "cell_type": "code",
   "execution_count": null,
   "metadata": {
    "collapsed": true,
    "slideshow": {
     "slide_type": "fragment"
    }
   },
   "outputs": [],
   "source": [
    "# calculate a 2D background image\n",
    "from photutils.background import Background\n",
    "bkg = Background(data2, (10, 10), filter_shape=(3, 3), method='median')"
   ]
  },
  {
   "cell_type": "code",
   "execution_count": null,
   "metadata": {
    "collapsed": false,
    "slideshow": {
     "slide_type": "fragment"
    }
   },
   "outputs": [],
   "source": [
    "# plot the estimated background\n",
    "plt.imshow(bkg.background, cmap='Greys')"
   ]
  },
  {
   "cell_type": "code",
   "execution_count": null,
   "metadata": {
    "collapsed": false,
    "slideshow": {
     "slide_type": "fragment"
    }
   },
   "outputs": [],
   "source": [
    "# plot the background-subtracted data\n",
    "plt.imshow(scale_image(data2 - bkg.background, scale='sqrt', percent=99.5),\n",
    "           cmap='Greys')"
   ]
  },
  {
   "cell_type": "code",
   "execution_count": null,
   "metadata": {
    "collapsed": false,
    "slideshow": {
     "slide_type": "fragment"
    }
   },
   "outputs": [],
   "source": [
    "threshold = median + 2.*std\n",
    "segm_stars = detect_sources(data2 - bkg.background, threshold, npixels=5)\n",
    "plt.imshow(segm_stars, cmap=rand_cmap)"
   ]
  },
  {
   "cell_type": "code",
   "execution_count": null,
   "metadata": {
    "collapsed": false,
    "slideshow": {
     "slide_type": "fragment"
    }
   },
   "outputs": [],
   "source": [
    "# create a source mask from the segmentation image\n",
    "mask = (segm_stars.data > 0)\n",
    "bkg2 = Background(data2, (10, 10), filter_shape=(3, 3),\n",
    "                  method='sextractor', mask=mask)"
   ]
  },
  {
   "cell_type": "code",
   "execution_count": null,
   "metadata": {
    "collapsed": false,
    "slideshow": {
     "slide_type": "fragment"
    }
   },
   "outputs": [],
   "source": [
    "plt.imshow(scale_image(data2 - bkg2.background, scale='sqrt', percent=99.5),\n",
    "           cmap='Greys')"
   ]
  },
  {
   "cell_type": "code",
   "execution_count": null,
   "metadata": {
    "collapsed": false,
    "slideshow": {
     "slide_type": "fragment"
    }
   },
   "outputs": [],
   "source": [
    "y0 = 200\n",
    "data2_sub = data2 - bkg2.background\n",
    "plt.plot(star_data[y0, :])\n",
    "plt.plot(data2[y0, :])\n",
    "plt.plot(data2_sub[y0, :], color='cyan')\n",
    "plt.plot(star_data[y0, :] - median)\n",
    "plt.axhline(0.0)"
   ]
  },
  {
   "cell_type": "code",
   "execution_count": null,
   "metadata": {
    "collapsed": false
   },
   "outputs": [],
   "source": []
  }
 ],
 "metadata": {
  "kernelspec": {
   "display_name": "Python 3",
   "language": "python",
   "name": "python3"
  },
  "language_info": {
   "codemirror_mode": {
    "name": "ipython",
    "version": 3
   },
   "file_extension": ".py",
   "mimetype": "text/x-python",
   "name": "python",
   "nbconvert_exporter": "python",
   "pygments_lexer": "ipython3",
   "version": "3.5.1"
  }
 },
 "nbformat": 4,
 "nbformat_minor": 0
}
