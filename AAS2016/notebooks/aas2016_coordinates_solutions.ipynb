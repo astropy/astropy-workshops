{
 "cells": [
  {
   "cell_type": "markdown",
   "metadata": {},
   "source": [
    "# Practical use of `astropy.coordinates` to Match Catalogs and Plan Observations"
   ]
  },
  {
   "cell_type": "markdown",
   "metadata": {},
   "source": [
    "In this tutorial (based on a similar tutorial from http://tutorials.astropy.org), we will explore how the `astropy.coordinates` package and related astropy functionality can be used to help in planning observations or other exercises focused on large coordinate catalogs.\n",
    "\n",
    "You may find it helpful to keep [the Astropy documentation for the coordinates package](http://docs.astropy.org/en/stable/coordinates/index.html) open along side this tutorial for reference/additional reading."
   ]
  },
  {
   "cell_type": "markdown",
   "metadata": {},
   "source": [
    "We start by importing various pieces we'll need below.  Don't worry if you're not sure what some of this does.  Hopefully it will become clearer later."
   ]
  },
  {
   "cell_type": "code",
   "execution_count": 1,
   "metadata": {
    "collapsed": false
   },
   "outputs": [],
   "source": [
    "import urllib\n",
    "import IPython.display\n",
    "import numpy as np"
   ]
  },
  {
   "cell_type": "code",
   "execution_count": 2,
   "metadata": {
    "collapsed": false
   },
   "outputs": [],
   "source": [
    "%matplotlib inline\n",
    "from matplotlib import pyplot as plt"
   ]
  },
  {
   "cell_type": "code",
   "execution_count": 3,
   "metadata": {
    "collapsed": false
   },
   "outputs": [],
   "source": [
    "from astropy import units as u\n",
    "from astropy.coordinates import SkyCoord\n",
    "from astropy.table import Table"
   ]
  },
  {
   "cell_type": "markdown",
   "metadata": {},
   "source": [
    "## Describing on-sky locations with `coordinates`"
   ]
  },
  {
   "cell_type": "markdown",
   "metadata": {},
   "source": [
    "Let's start by considering a field around the picturesque Hickson Compact Group 7.  To do anything with this, we need to get an object that represents the coordinates of the center of this group.\n",
    "\n",
    "In Astropy, the most common object you'll work with for coordinates is `SkyCoord`.  A `SkyCoord` can be created most easily directly from angles as shown below.  It's also wise to explicitly specify the frame your coordinates are in, although this is not strictly necessary because the default is ICRS. \n",
    "\n",
    "(If you're not sure what ICRS is, it's basically safe to think of it as an approximation to an equatorial system at the J2000 equinox)."
   ]
  },
  {
   "cell_type": "code",
   "execution_count": 4,
   "metadata": {
    "collapsed": false
   },
   "outputs": [
    {
     "data": {
      "text/plain": [
       "<SkyCoord (ICRS): (ra, dec) in deg\n",
       "    (9.81625, 0.88806)>"
      ]
     },
     "execution_count": 4,
     "metadata": {},
     "output_type": "execute_result"
    }
   ],
   "source": [
    "hcg7_center = SkyCoord(9.81625*u.deg, 0.88806*u.deg, frame='icrs')\n",
    "hcg7_center"
   ]
  },
  {
   "cell_type": "markdown",
   "metadata": {},
   "source": [
    "SkyCoord will also accept string-formatted coordinates either as separate strings for ra/dec or a single string.  You'll have to give units, though, if they aren't part of the string itself."
   ]
  },
  {
   "cell_type": "code",
   "execution_count": 5,
   "metadata": {
    "collapsed": false
   },
   "outputs": [
    {
     "data": {
      "text/plain": [
       "<SkyCoord (ICRS): (ra, dec) in deg\n",
       "    (9.81625, 0.88806)>"
      ]
     },
     "execution_count": 5,
     "metadata": {},
     "output_type": "execute_result"
    }
   ],
   "source": [
    "SkyCoord('0h39m15.9s', '0d53m17.016s', frame='icrs')"
   ]
  },
  {
   "cell_type": "code",
   "execution_count": 6,
   "metadata": {
    "collapsed": false
   },
   "outputs": [
    {
     "data": {
      "text/plain": [
       "<SkyCoord (ICRS): (ra, dec) in deg\n",
       "    (9.81625, 0.88806)>"
      ]
     },
     "execution_count": 6,
     "metadata": {},
     "output_type": "execute_result"
    }
   ],
   "source": [
    "SkyCoord('0:39:15.9 0:53:17.016', unit=(u.hour, u.deg), frame='icrs')"
   ]
  },
  {
   "cell_type": "markdown",
   "metadata": {},
   "source": [
    "If the object you're interested in is in [SESAME](http://cdsweb.u-strasbg.fr/cgi-bin/Sesame), you can also look it up directly from its name using the `SkyCoord.from_name()` class method<sup>1</sup>. Note that this requires an internet connection.  It's safe to skip if you don't have one, because we defined it above explicitly.\n",
    "\n",
    "<sub> <sup>1</sup>If you don't know what a class method is, think of it like an alternative constructor for a `SkyCoord` object -- calling `SkyCoord.from_name()` with a name gives you a new `SkyCoord` object. For more detailed background on what class methods are and when they're useful, see [this page](https://julien.danjou.info/blog/2013/guide-python-static-class-abstract-methods).</sub>"
   ]
  },
  {
   "cell_type": "code",
   "execution_count": 7,
   "metadata": {
    "collapsed": false
   },
   "outputs": [
    {
     "data": {
      "text/plain": [
       "<SkyCoord (ICRS): (ra, dec) in deg\n",
       "    (9.81625, 0.88806)>"
      ]
     },
     "execution_count": 7,
     "metadata": {},
     "output_type": "execute_result"
    }
   ],
   "source": [
    "hcg7_center = SkyCoord.from_name('HCG 7')\n",
    "hcg7_center"
   ]
  },
  {
   "cell_type": "markdown",
   "metadata": {},
   "source": [
    "This object we just created has various useful ways of accessing the information contained within it.  In particular, the ``ra`` and ``dec`` attributes are specialized [``Quantity``](http://docs.astropy.org/en/stable/units/index.html) objects (actually, a subclass called [``Angle``](http://docs.astropy.org/en/stable/api/astropy.coordinates.Angle.html), which in turn is subclassed by [``Latitude``](http://docs.astropy.org/en/stable/api/astropy.coordinates.Latitude.html) and [``Longitude``](http://docs.astropy.org/en/stable/api/astropy.coordinates.Longitude.html)).  These objects store angles and provide pretty representations of those angles, as well as some useful attributes to quickly convert to common angle units:"
   ]
  },
  {
   "cell_type": "code",
   "execution_count": 8,
   "metadata": {
    "collapsed": false
   },
   "outputs": [
    {
     "data": {
      "text/plain": [
       "(astropy.coordinates.angles.Longitude, astropy.coordinates.angles.Latitude)"
      ]
     },
     "execution_count": 8,
     "metadata": {},
     "output_type": "execute_result"
    }
   ],
   "source": [
    "type(hcg7_center.ra), type(hcg7_center.dec)"
   ]
  },
  {
   "cell_type": "code",
   "execution_count": 9,
   "metadata": {
    "collapsed": false
   },
   "outputs": [
    {
     "data": {
      "text/latex": [
       "$0^\\circ53{}^\\prime17.016{}^{\\prime\\prime}$"
      ],
      "text/plain": [
       "<Latitude 0.88806 deg>"
      ]
     },
     "execution_count": 9,
     "metadata": {},
     "output_type": "execute_result"
    }
   ],
   "source": [
    "hcg7_center.dec"
   ]
  },
  {
   "cell_type": "code",
   "execution_count": 10,
   "metadata": {
    "collapsed": false
   },
   "outputs": [
    {
     "data": {
      "text/latex": [
       "$9^\\circ48{}^\\prime58.5{}^{\\prime\\prime}$"
      ],
      "text/plain": [
       "<Longitude 9.81625 deg>"
      ]
     },
     "execution_count": 10,
     "metadata": {},
     "output_type": "execute_result"
    }
   ],
   "source": [
    "hcg7_center.ra"
   ]
  },
  {
   "cell_type": "code",
   "execution_count": 11,
   "metadata": {
    "collapsed": false
   },
   "outputs": [
    {
     "data": {
      "text/plain": [
       "0.6544166666666668"
      ]
     },
     "execution_count": 11,
     "metadata": {},
     "output_type": "execute_result"
    }
   ],
   "source": [
    "hcg7_center.ra.hour"
   ]
  },
  {
   "cell_type": "markdown",
   "metadata": {},
   "source": [
    "Now that we have a `SkyCoord` object, we can try to use it to access data from the [Sloan Digitial Sky Survey](http://www.sdss.org/) (SDSS).  Let's start by trying to get a picture using the SDSS image cutout service to make sure HCG7 is in the SDSS footprint and has good image quality.\n",
    "\n",
    "This requires an internet connection, but if it fails, don't worry: the file is included in the repository so you can just let it use the local file``'HCG7_SDSS_cutout.jpg'``, defined at the top of the cell.  "
   ]
  },
  {
   "cell_type": "code",
   "execution_count": 12,
   "metadata": {
    "collapsed": false
   },
   "outputs": [
    {
     "data": {
      "text/plain": [
       "('data/HCG7_SDSS_cutout.jpg', <httplib.HTTPMessage instance at 0x1073111b8>)"
      ]
     },
     "execution_count": 12,
     "metadata": {},
     "output_type": "execute_result"
    }
   ],
   "source": [
    "impix = 1024\n",
    "imsize = 12*u.arcmin\n",
    "cutoutbaseurl = 'http://skyservice.pha.jhu.edu/DR12/ImgCutout/getjpeg.aspx'\n",
    "query_string = urllib.urlencode(dict(ra=hcg7_center.ra.deg, \n",
    "                                     dec=hcg7_center.dec.deg, \n",
    "                                     width=impix, height=impix, \n",
    "                                     scale=imsize.to(u.arcsec).value/impix))\n",
    "url = cutoutbaseurl + '?' + query_string\n",
    "\n",
    "urllib.urlretrieve(url, 'data/HCG7_SDSS_cutout.jpg')"
   ]
  },
  {
   "cell_type": "markdown",
   "metadata": {},
   "source": [
    "Now lets take a look at the image."
   ]
  },
  {
   "cell_type": "code",
   "execution_count": 13,
   "metadata": {
    "collapsed": false
   },
   "outputs": [
    {
     "data": {
      "image/jpeg": "[encoded data removed]",
      "text/plain": [
       "<IPython.core.display.Image object>"
      ]
     },
     "execution_count": 13,
     "metadata": {},
     "output_type": "execute_result"
    }
   ],
   "source": [
    "IPython.display.Image('data/HCG7_SDSS_cutout.jpg')"
   ]
  },
  {
   "cell_type": "markdown",
   "metadata": {},
   "source": [
    "Very pretty!"
   ]
  },
  {
   "cell_type": "markdown",
   "metadata": {},
   "source": [
    "### Exercises"
   ]
  },
  {
   "cell_type": "markdown",
   "metadata": {},
   "source": [
    "Create a `SkyCoord` of some other astronomical object you find interesting."
   ]
  },
  {
   "cell_type": "code",
   "execution_count": 14,
   "metadata": {
    "collapsed": true
   },
   "outputs": [],
   "source": [
    "sc_other = SkyCoord.from_name('M101')"
   ]
  },
  {
   "cell_type": "markdown",
   "metadata": {},
   "source": [
    "Get three objects with the RA of the `SkyCoord` object you just created, one for each of hours, degrees, and radians"
   ]
  },
  {
   "cell_type": "code",
   "execution_count": 15,
   "metadata": {
    "collapsed": false
   },
   "outputs": [
    {
     "data": {
      "text/latex": [
       "$14^\\mathrm{h}03^\\mathrm{m}12.583^\\mathrm{s}$"
      ],
      "text/plain": [
       "<Longitude 14.053495280000003 hourangle>"
      ]
     },
     "execution_count": 15,
     "metadata": {},
     "output_type": "execute_result"
    }
   ],
   "source": [
    "sc_other.ra.to(u.hourangle)"
   ]
  },
  {
   "cell_type": "code",
   "execution_count": 16,
   "metadata": {
    "collapsed": false
   },
   "outputs": [
    {
     "data": {
      "text/latex": [
       "$210^\\circ48{}^\\prime08.7451{}^{\\prime\\prime}$"
      ],
      "text/plain": [
       "<Longitude 210.8024292 deg>"
      ]
     },
     "execution_count": 16,
     "metadata": {},
     "output_type": "execute_result"
    }
   ],
   "source": [
    "sc_other.ra.to(u.degree)"
   ]
  },
  {
   "cell_type": "code",
   "execution_count": 17,
   "metadata": {
    "collapsed": false
   },
   "outputs": [
    {
     "data": {
      "text/latex": [
       "$3.6792\\mathrm{rad}$"
      ],
      "text/plain": [
       "<Longitude 3.679196460742236 rad>"
      ]
     },
     "execution_count": 17,
     "metadata": {},
     "output_type": "execute_result"
    }
   ],
   "source": [
    "sc_other.ra.to(u.radian)"
   ]
  },
  {
   "cell_type": "code",
   "execution_count": 18,
   "metadata": {
    "collapsed": false
   },
   "outputs": [
    {
     "data": {
      "text/plain": [
       "(14.053495280000003, 210.8024292, 3.679196460742236)"
      ]
     },
     "execution_count": 18,
     "metadata": {},
     "output_type": "execute_result"
    }
   ],
   "source": [
    "#Alternate solution:\n",
    "sc_other.ra.hour, sc_other.ra.deg, sc_other.ra.rad"
   ]
  },
  {
   "cell_type": "markdown",
   "metadata": {},
   "source": [
    "Using only a single method/function call on the object you just created, get a string with the RA/Dec in the form 'HH:MM:SS.S DD:MM:SS.S'.  Check your answer against an academic paper or some web site like [SIMBAD](http://simbad.u-strasbg.fr/simbad/) that will show you sexigesimal coordinates for the object.\n",
    "\n",
    "(Hint: `SkyCoord.to_string()` might be worth reading up on)"
   ]
  },
  {
   "cell_type": "code",
   "execution_count": 19,
   "metadata": {
    "collapsed": false
   },
   "outputs": [
    {
     "data": {
      "text/plain": [
       "u'14:03:12.6 +54:20:55.5'"
      ]
     },
     "execution_count": 19,
     "metadata": {},
     "output_type": "execute_result"
    }
   ],
   "source": [
    "# SIMBAD sez: 14 03 12.583 +54 20 55.50\n",
    "sc_other.to_string('hmsdms', sep=':', precision=1)"
   ]
  },
  {
   "cell_type": "markdown",
   "metadata": {},
   "source": [
    "Now get an image of that object from the Digitized Sky Survey and download it and/or show it in the notebook. Bonus points if you figure out the (one-line) trick to get it to display in the notebook *without* ever downloading the file yourself.\n",
    "\n",
    "(Hint: STScI has an easy-to-access [copy of the DSS](https://archive.stsci.edu/dss/).  The pattern to follow for the web URL is ``http://archive.stsci.edu/cgi-bin/dss_search?f=GIF&ra=RA&dec=DEC``)"
   ]
  },
  {
   "cell_type": "code",
   "execution_count": 20,
   "metadata": {
    "collapsed": false
   },
   "outputs": [
    {
     "data": {
      "text/html": [
       "<img src=\"http://archive.stsci.edu/cgi-bin/dss_search?f=GIF&ra=210.8024292&dec=54.34875\"/>"
      ],
      "text/plain": [
       "<IPython.core.display.Image object>"
      ]
     },
     "execution_count": 20,
     "metadata": {},
     "output_type": "execute_result"
    }
   ],
   "source": [
    "url_template = 'http://archive.stsci.edu/cgi-bin/dss_search?f=GIF&ra={0.ra.deg}&dec={0.dec.deg}'\n",
    "url = url_template.format(sc_other)\n",
    "\n",
    "IPython.display.Image(url=url)"
   ]
  },
  {
   "cell_type": "markdown",
   "metadata": {},
   "source": [
    "## Using `coordinates` and `table` to match and compare catalogs"
   ]
  },
  {
   "cell_type": "markdown",
   "metadata": {},
   "source": [
    "At the end of the last section, we determined that HCG7 is in the SDSS imaging survey, so that means we can use the cells below to download catalogs of objects directly from the SDSS. Later on, we will match this catalog to another catalog covering the same field, allowing us to make plots using the combination of the two catalogs."
   ]
  },
  {
   "cell_type": "markdown",
   "metadata": {},
   "source": [
    "We will access the SDSS SQL database using the [astroquery](https://astroquery.readthedocs.org) affiliated package.  This will require an internet connection and a working install of astroquery. If you don't have these you can just skip down two cells, because the data files are provided with the repository. Depending on your version of astroquery it might also issue a warning, which you should be able to safely ignore."
   ]
  },
  {
   "cell_type": "code",
   "execution_count": null,
   "metadata": {
    "collapsed": false
   },
   "outputs": [],
   "source": [
    "from astroquery.sdss import SDSS\n",
    "sdss = SDSS.query_region(coordinates=hcg7_center, radius=20*u.arcmin, \n",
    "                         spectro=True, \n",
    "                         photoobj_fields=['ra','dec','u','g','r','i','z'])"
   ]
  },
  {
   "cell_type": "markdown",
   "metadata": {},
   "source": [
    "`astroquery` queries gives us back an [`astropy.table.Table` object](http://docs.astropy.org/en/stable/table/index.html).  We could just work with this directly without saving anything to disk if we wanted to.  But here we will use the capability to  write to disk.  That way, if you quit the session and come back later, you don't have to run the query a second time.\n",
    "\n",
    "(Note that this won't work fail if you skipped the last step.  Don't worry, you can just skip to the next cell with ``Table.read`` and use the copy of this table included in the tutorial.)"
   ]
  },
  {
   "cell_type": "code",
   "execution_count": null,
   "metadata": {
    "collapsed": false
   },
   "outputs": [],
   "source": [
    "sdss.write('data/HCG7_SDSS_photo.dat', format='ascii')"
   ]
  },
  {
   "cell_type": "markdown",
   "metadata": {},
   "source": [
    "If you don't have internet, you can read the table into python by running the cell below.  But if you did the astroquery step above, you could skip this, as the table is already in memory as the `sdss` variable."
   ]
  },
  {
   "cell_type": "code",
   "execution_count": 23,
   "metadata": {
    "collapsed": false
   },
   "outputs": [],
   "source": [
    "sdss = Table.read('data/HCG7_SDSS_photo.dat', format='ascii')"
   ]
  },
  {
   "cell_type": "markdown",
   "metadata": {},
   "source": [
    "Ok, so we have a catalog of objects we got from the SDSS.  Now lets say you have your own catalog of objects in the same field that you want to match to this SDSS catalog.  In this case, we will use a catalog extracted from the [2MASS](http://www.ipac.caltech.edu/2mass/).  We first load up this catalog into python."
   ]
  },
  {
   "cell_type": "code",
   "execution_count": 24,
   "metadata": {
    "collapsed": false
   },
   "outputs": [],
   "source": [
    "twomass = Table.read('data/HCG7_2MASS.tbl', format='ascii')"
   ]
  },
  {
   "cell_type": "markdown",
   "metadata": {},
   "source": [
    "Now to do matching we need `SkyCoord` objects.  We'll have to build these from the tables we loaded, but it turns out that's pretty straightforward: we grab the RA and dec columns from the table and provide them to the `SkyCoord` constructor.  Lets first have a look at the tables to see just what everything is that's in them."
   ]
  },
  {
   "cell_type": "code",
   "execution_count": 25,
   "metadata": {
    "collapsed": false
   },
   "outputs": [
    {
     "data": {
      "text/html": [
       "&lt;Table masked=False length=679&gt;\n",
       "<table id=\"table4444080528\">\n",
       "<thead><tr><th>ra</th><th>dec</th><th>u</th><th>g</th><th>r</th><th>i</th><th>z</th></tr></thead>\n",
       "<thead><tr><th>float64</th><th>float64</th><th>float64</th><th>float64</th><th>float64</th><th>float64</th><th>float64</th></tr></thead>\n",
       "<tr><td>10.079230954</td><td>1.05410629865</td><td>19.80557</td><td>19.07243</td><td>18.96318</td><td>18.63261</td><td>18.71358</td></tr>\n",
       "<tr><td>9.67946480065</td><td>0.5810599331</td><td>17.74734</td><td>16.4498</td><td>15.85848</td><td>15.52075</td><td>15.25987</td></tr>\n",
       "<tr><td>10.0466962469</td><td>0.905013010598</td><td>21.47542</td><td>18.93695</td><td>17.48529</td><td>16.48045</td><td>15.94561</td></tr>\n",
       "<tr><td>9.6780519079</td><td>0.978063092605</td><td>19.82045</td><td>18.17598</td><td>17.27152</td><td>16.82992</td><td>16.47521</td></tr>\n",
       "<tr><td>10.001526645</td><td>0.989081016611</td><td>20.94188</td><td>18.52371</td><td>17.45651</td><td>17.02363</td><td>16.76776</td></tr>\n",
       "<tr><td>10.0777061349</td><td>0.725711701258</td><td>21.85427</td><td>19.24766</td><td>17.7151</td><td>16.26826</td><td>15.51393</td></tr>\n",
       "<tr><td>10.0772202727</td><td>0.829207848691</td><td>19.54776</td><td>17.85468</td><td>16.861</td><td>16.33377</td><td>15.94939</td></tr>\n",
       "<tr><td>9.55662739035</td><td>0.958844560944</td><td>25.03044</td><td>22.24144</td><td>20.88052</td><td>20.55752</td><td>20.3038</td></tr>\n",
       "<tr><td>9.65711148521</td><td>0.765812061927</td><td>18.87257</td><td>17.90546</td><td>17.59327</td><td>17.37518</td><td>17.22455</td></tr>\n",
       "<tr><td>9.98136962315</td><td>0.881575910844</td><td>21.69844</td><td>20.37264</td><td>19.33685</td><td>18.99923</td><td>18.58068</td></tr>\n",
       "<tr><td>...</td><td>...</td><td>...</td><td>...</td><td>...</td><td>...</td><td>...</td></tr>\n",
       "<tr><td>9.61902334568</td><td>0.573420171592</td><td>22.68919</td><td>21.59723</td><td>20.61812</td><td>19.84894</td><td>19.4082</td></tr>\n",
       "<tr><td>9.98289589103</td><td>0.828173647873</td><td>17.57576</td><td>16.40284</td><td>15.99398</td><td>15.84826</td><td>15.80337</td></tr>\n",
       "<tr><td>9.81396735808</td><td>1.07380008389</td><td>22.42185</td><td>21.83237</td><td>21.5233</td><td>21.65854</td><td>22.50206</td></tr>\n",
       "<tr><td>9.92450427008</td><td>0.964749118968</td><td>20.88001</td><td>18.17424</td><td>16.75394</td><td>15.76061</td><td>15.25564</td></tr>\n",
       "<tr><td>9.56566152051</td><td>0.689286609914</td><td>20.74673</td><td>18.47216</td><td>17.46087</td><td>17.0529</td><td>16.8133</td></tr>\n",
       "<tr><td>9.79963390206</td><td>0.863969479177</td><td>30.63567</td><td>16.55926</td><td>15.60212</td><td>15.30208</td><td>15.59649</td></tr>\n",
       "<tr><td>9.50735305905</td><td>1.17351866436</td><td>19.60593</td><td>18.42455</td><td>17.97488</td><td>17.83895</td><td>17.74746</td></tr>\n",
       "<tr><td>9.51193458596</td><td>0.837176291132</td><td>22.05729</td><td>19.79655</td><td>18.25241</td><td>17.52401</td><td>17.07819</td></tr>\n",
       "<tr><td>9.84209912484</td><td>0.591647361161</td><td>17.53105</td><td>16.08609</td><td>15.77282</td><td>15.43753</td><td>15.38273</td></tr>\n",
       "<tr><td>9.96058094194</td><td>1.09853738591</td><td>22.89306</td><td>20.91076</td><td>19.48685</td><td>18.88035</td><td>18.52977</td></tr>\n",
       "</table>"
      ],
      "text/plain": [
       "<Table masked=False length=679>\n",
       "      ra           dec          u        g        r        i        z    \n",
       "   float64       float64     float64  float64  float64  float64  float64 \n",
       "------------- -------------- -------- -------- -------- -------- --------\n",
       " 10.079230954  1.05410629865 19.80557 19.07243 18.96318 18.63261 18.71358\n",
       "9.67946480065   0.5810599331 17.74734  16.4498 15.85848 15.52075 15.25987\n",
       "10.0466962469 0.905013010598 21.47542 18.93695 17.48529 16.48045 15.94561\n",
       " 9.6780519079 0.978063092605 19.82045 18.17598 17.27152 16.82992 16.47521\n",
       " 10.001526645 0.989081016611 20.94188 18.52371 17.45651 17.02363 16.76776\n",
       "10.0777061349 0.725711701258 21.85427 19.24766  17.7151 16.26826 15.51393\n",
       "10.0772202727 0.829207848691 19.54776 17.85468   16.861 16.33377 15.94939\n",
       "9.55662739035 0.958844560944 25.03044 22.24144 20.88052 20.55752  20.3038\n",
       "9.65711148521 0.765812061927 18.87257 17.90546 17.59327 17.37518 17.22455\n",
       "9.98136962315 0.881575910844 21.69844 20.37264 19.33685 18.99923 18.58068\n",
       "          ...            ...      ...      ...      ...      ...      ...\n",
       "9.61902334568 0.573420171592 22.68919 21.59723 20.61812 19.84894  19.4082\n",
       "9.98289589103 0.828173647873 17.57576 16.40284 15.99398 15.84826 15.80337\n",
       "9.81396735808  1.07380008389 22.42185 21.83237  21.5233 21.65854 22.50206\n",
       "9.92450427008 0.964749118968 20.88001 18.17424 16.75394 15.76061 15.25564\n",
       "9.56566152051 0.689286609914 20.74673 18.47216 17.46087  17.0529  16.8133\n",
       "9.79963390206 0.863969479177 30.63567 16.55926 15.60212 15.30208 15.59649\n",
       "9.50735305905  1.17351866436 19.60593 18.42455 17.97488 17.83895 17.74746\n",
       "9.51193458596 0.837176291132 22.05729 19.79655 18.25241 17.52401 17.07819\n",
       "9.84209912484 0.591647361161 17.53105 16.08609 15.77282 15.43753 15.38273\n",
       "9.96058094194  1.09853738591 22.89306 20.91076 19.48685 18.88035 18.52977"
      ]
     },
     "execution_count": 25,
     "metadata": {},
     "output_type": "execute_result"
    }
   ],
   "source": [
    "sdss # just to see an example of the format"
   ]
  },
  {
   "cell_type": "code",
   "execution_count": 26,
   "metadata": {
    "collapsed": false
   },
   "outputs": [
    {
     "data": {
      "text/html": [
       "&lt;Table masked=True length=23&gt;\n",
       "<table id=\"table4444288720\">\n",
       "<thead><tr><th>designation</th><th>ra</th><th>dec</th><th>r_k20fe</th><th>j_m_k20fe</th><th>j_msig_k20fe</th><th>j_flg_k20fe</th><th>h_m_k20fe</th><th>h_msig_k20fe</th><th>h_flg_k20fe</th><th>k_m_k20fe</th><th>k_msig_k20fe</th><th>k_flg_k20fe</th><th>k_ba</th><th>k_phi</th><th>sup_ba</th><th>sup_phi</th><th>r_ext</th><th>j_m_ext</th><th>j_msig_ext</th><th>h_m_ext</th><th>h_msig_ext</th><th>k_m_ext</th><th>k_msig_ext</th><th>cc_flg</th><th>dist</th><th>angle</th></tr></thead>\n",
       "<thead><tr><th></th><th>deg</th><th>deg</th><th>arcsec</th><th>mag</th><th>mag</th><th></th><th>mag</th><th>mag</th><th></th><th>mag</th><th>mag</th><th></th><th></th><th>deg</th><th></th><th>deg</th><th>arcsec</th><th>mag</th><th>mag</th><th>mag</th><th>mag</th><th>mag</th><th>mag</th><th></th><th>arcsec</th><th>deg</th></tr></thead>\n",
       "<thead><tr><th>string128</th><th>float64</th><th>float64</th><th>float64</th><th>float64</th><th>float64</th><th>int64</th><th>float64</th><th>float64</th><th>int64</th><th>float64</th><th>float64</th><th>int64</th><th>float64</th><th>int64</th><th>float64</th><th>int64</th><th>float64</th><th>float64</th><th>float64</th><th>float64</th><th>float64</th><th>float64</th><th>float64</th><th>string8</th><th>float64</th><th>float64</th></tr></thead>\n",
       "<tr><td>00402069+0052508</td><td>10.086218</td><td>0.880798</td><td>9.4</td><td>13.835</td><td>0.068</td><td>0</td><td>13.01</td><td>0.086</td><td>0</td><td>12.588</td><td>0.089</td><td>0</td><td>0.8</td><td>70</td><td>0.82</td><td>35</td><td>18.62</td><td>13.632</td><td>0.088</td><td>12.744</td><td>0.104</td><td>12.398</td><td>0.105</td><td>0</td><td>972.120611</td><td>91.538952</td></tr>\n",
       "<tr><td>00395984+0103545</td><td>9.99935</td><td>1.06514</td><td>12.9</td><td>12.925</td><td>0.035</td><td>0</td><td>12.183</td><td>0.042</td><td>0</td><td>11.89</td><td>0.067</td><td>0</td><td>0.8</td><td>35</td><td>0.7</td><td>40</td><td>35.9</td><td>12.469</td><td>0.048</td><td>11.91</td><td>0.066</td><td>11.522</td><td>0.087</td><td>0</td><td>916.927636</td><td>45.951861</td></tr>\n",
       "<tr><td>00401849+0049448</td><td>10.077062</td><td>0.82913</td><td>6.0</td><td>14.918</td><td>0.086</td><td>0</td><td>14.113</td><td>0.107</td><td>0</td><td>13.714</td><td>0.103</td><td>0</td><td>0.6</td><td>-15</td><td>1.0</td><td>90</td><td>11.35</td><td>14.631</td><td>0.121</td><td>13.953</td><td>0.169</td><td>13.525</td><td>0.161</td><td>0</td><td>962.489231</td><td>102.73149</td></tr>\n",
       "<tr><td>00395277+0057124</td><td>9.969907</td><td>0.953472</td><td>5.3</td><td>14.702</td><td>0.049</td><td>0</td><td>14.248</td><td>0.069</td><td>0</td><td>13.899</td><td>0.095</td><td>0</td><td>0.6</td><td>-60</td><td>0.44</td><td>-50</td><td>10.59</td><td>14.62</td><td>0.144</td><td>14.15</td><td>0.296</td><td>13.73</td><td>0.2</td><td>0</td><td>601.136444</td><td>66.93659</td></tr>\n",
       "<tr><td>00401864+0047245</td><td>10.077704</td><td>0.790143</td><td>7.6</td><td>15.585</td><td>0.134</td><td>1</td><td>15.003</td><td>0.18</td><td>1</td><td>14.049</td><td>0.142</td><td>1</td><td>0.5</td><td>30</td><td>0.46</td><td>30</td><td>14.48</td><td>14.977</td><td>0.138</td><td>14.855</td><td>0.303</td><td>13.653</td><td>0.18</td><td>0</td><td>1004.982128</td><td>110.53147</td></tr>\n",
       "<tr><td>00393485+0051355</td><td>9.895219</td><td>0.859882</td><td>39.3</td><td>11.415</td><td>0.031</td><td>3</td><td>10.755</td><td>0.044</td><td>3</td><td>10.514</td><td>0.068</td><td>3</td><td>0.6</td><td>-30</td><td>0.7</td><td>-60</td><td>92.29</td><td>11.415</td><td>0.018</td><td>10.155</td><td>0.054</td><td>9.976</td><td>0.085</td><td>0</td><td>301.813395</td><td>109.639102</td></tr>\n",
       "<tr><td>00392964+0103495</td><td>9.873526</td><td>1.063769</td><td>10.9</td><td>14.463</td><td>0.065</td><td>0</td><td>13.618</td><td>0.067</td><td>0</td><td>13.258</td><td>0.091</td><td>0</td><td>0.4</td><td>55</td><td>0.28</td><td>60</td><td>20.35</td><td>14.2</td><td>0.086</td><td>13.363</td><td>0.091</td><td>13.101</td><td>0.133</td><td>0</td><td>665.301415</td><td>18.051526</td></tr>\n",
       "<tr><td>00403343+0049079</td><td>10.139293</td><td>0.818865</td><td>5.0</td><td>15.484</td><td>0.15</td><td>0</td><td>--</td><td>--</td><td>--</td><td>13.97</td><td>0.137</td><td>0</td><td>1.0</td><td>90</td><td>1.0</td><td>90</td><td>10.05</td><td>15.035</td><td>0.183</td><td>14.725</td><td>0.0</td><td>13.654</td><td>0.189</td><td>0</td><td>1189.207905</td><td>102.088788</td></tr>\n",
       "<tr><td>00393319+0035505</td><td>9.888305</td><td>0.597381</td><td>11.5</td><td>13.156</td><td>0.033</td><td>0</td><td>12.509</td><td>0.043</td><td>0</td><td>12.073</td><td>0.059</td><td>0</td><td>0.6</td><td>-55</td><td>0.52</td><td>-40</td><td>21.64</td><td>13.026</td><td>0.04</td><td>12.247</td><td>0.046</td><td>11.978</td><td>0.065</td><td>0</td><td>1078.11027</td><td>166.0785</td></tr>\n",
       "<tr><td>...</td><td>...</td><td>...</td><td>...</td><td>...</td><td>...</td><td>...</td><td>...</td><td>...</td><td>...</td><td>...</td><td>...</td><td>...</td><td>...</td><td>...</td><td>...</td><td>...</td><td>...</td><td>...</td><td>...</td><td>...</td><td>...</td><td>...</td><td>...</td><td>...</td><td>...</td><td>...</td></tr>\n",
       "<tr><td>00391798+0041588</td><td>9.824936</td><td>0.699687</td><td>6.1</td><td>15.685</td><td>0.168</td><td>0</td><td>14.89</td><td>0.191</td><td>0</td><td>14.003</td><td>0.155</td><td>0</td><td>1.0</td><td>90</td><td>1.0</td><td>90</td><td>11.4</td><td>15.677</td><td>0.312</td><td>14.415</td><td>0.226</td><td>13.568</td><td>0.19</td><td>0</td><td>678.863209</td><td>177.360117</td></tr>\n",
       "<tr><td>00384796+0034572</td><td>9.699858</td><td>0.582578</td><td>5.1</td><td>14.925</td><td>0.077</td><td>0</td><td>14.224</td><td>0.114</td><td>0</td><td>13.536</td><td>0.079</td><td>0</td><td>1.0</td><td>90</td><td>1.0</td><td>90</td><td>10.2</td><td>14.839</td><td>0.133</td><td>14.111</td><td>0.192</td><td>13.461</td><td>0.137</td><td>0</td><td>1176.842625</td><td>200.856597</td></tr>\n",
       "<tr><td>00390392+0050579</td><td>9.766345</td><td>0.849419</td><td>5.0</td><td>14.895</td><td>0.07</td><td>0</td><td>14.238</td><td>0.087</td><td>0</td><td>13.834</td><td>0.11</td><td>0</td><td>1.0</td><td>90</td><td>1.0</td><td>90</td><td>10.05</td><td>14.706</td><td>0.107</td><td>14.033</td><td>0.132</td><td>13.75</td><td>0.187</td><td>0</td><td>227.201453</td><td>232.24689</td></tr>\n",
       "<tr><td>00391339+0051508</td><td>9.805797</td><td>0.864135</td><td>52.8</td><td>10.362</td><td>0.014</td><td>0</td><td>9.631</td><td>0.017</td><td>0</td><td>9.334</td><td>0.024</td><td>0</td><td>0.3</td><td>-15</td><td>0.4</td><td>-15</td><td>75.02</td><td>10.279</td><td>0.015</td><td>9.527</td><td>0.016</td><td>9.247</td><td>0.023</td><td>0</td><td>93.990015</td><td>203.598476</td></tr>\n",
       "<tr><td>00391786+0054458</td><td>9.824418</td><td>0.912743</td><td>27.9</td><td>11.082</td><td>0.016</td><td>0</td><td>10.384</td><td>0.022</td><td>0</td><td>10.147</td><td>0.032</td><td>0</td><td>0.5</td><td>5</td><td>0.7</td><td>5</td><td>42.75</td><td>10.914</td><td>0.018</td><td>10.251</td><td>0.021</td><td>10.031</td><td>0.03</td><td>0</td><td>93.596555</td><td>18.308033</td></tr>\n",
       "<tr><td>00385879+0057269</td><td>9.744971</td><td>0.957478</td><td>5.0</td><td>15.535</td><td>0.122</td><td>0</td><td>14.796</td><td>0.145</td><td>0</td><td>14.278</td><td>0.165</td><td>0</td><td>1.0</td><td>90</td><td>1.0</td><td>90</td><td>10.05</td><td>15.535</td><td>0.122</td><td>14.623</td><td>0.227</td><td>14.147</td><td>0.269</td><td>0</td><td>358.163568</td><td>314.246475</td></tr>\n",
       "<tr><td>00391879+0053308</td><td>9.828303</td><td>0.891909</td><td>15.4</td><td>13.044</td><td>0.047</td><td>0</td><td>12.412</td><td>0.063</td><td>0</td><td>12.077</td><td>0.094</td><td>0</td><td>0.8</td><td>60</td><td>0.74</td><td>65</td><td>23.62</td><td>12.755</td><td>0.048</td><td>12.283</td><td>0.072</td><td>11.713</td><td>0.096</td><td>0</td><td>45.544562</td><td>72.287562</td></tr>\n",
       "<tr><td>00391213+0102408</td><td>9.80055</td><td>1.044691</td><td>5.0</td><td>15.568</td><td>0.126</td><td>0</td><td>15.047</td><td>0.181</td><td>0</td><td>14.356</td><td>0.176</td><td>0</td><td>1.0</td><td>90</td><td>1.0</td><td>90</td><td>10.05</td><td>15.295</td><td>0.181</td><td>15.047</td><td>0.181</td><td>14.067</td><td>0.25</td><td>0</td><td>566.696375</td><td>354.276982</td></tr>\n",
       "<tr><td>00383990+0104442</td><td>9.666268</td><td>1.078968</td><td>5.3</td><td>15.255</td><td>0.108</td><td>0</td><td>14.232</td><td>0.121</td><td>0</td><td>13.873</td><td>0.113</td><td>0</td><td>1.0</td><td>90</td><td>1.0</td><td>90</td><td>10.44</td><td>15.151</td><td>0.18</td><td>13.812</td><td>0.149</td><td>13.552</td><td>0.155</td><td>0</td><td>873.946372</td><td>321.851314</td></tr>\n",
       "<tr><td>00384916+0050212</td><td>9.704872</td><td>0.839244</td><td>5.1</td><td>15.075</td><td>0.088</td><td>0</td><td>14.651</td><td>0.17</td><td>0</td><td>13.804</td><td>0.101</td><td>0</td><td>1.0</td><td>90</td><td>1.0</td><td>90</td><td>10.2</td><td>15.053</td><td>0.159</td><td>14.651</td><td>0.17</td><td>13.682</td><td>0.171</td><td>0</td><td>437.740484</td><td>246.331036</td></tr>\n",
       "</table>"
      ],
      "text/plain": [
       "<Table masked=True length=23>\n",
       "  designation        ra      dec    r_k20fe ...  cc_flg     dist      angle   \n",
       "                    deg      deg     arcsec ...            arcsec      deg    \n",
       "   string128      float64  float64  float64 ... string8   float64    float64  \n",
       "---------------- --------- -------- ------- ... ------- ----------- ----------\n",
       "00402069+0052508 10.086218 0.880798     9.4 ...       0  972.120611  91.538952\n",
       "00395984+0103545   9.99935  1.06514    12.9 ...       0  916.927636  45.951861\n",
       "00401849+0049448 10.077062  0.82913     6.0 ...       0  962.489231  102.73149\n",
       "00395277+0057124  9.969907 0.953472     5.3 ...       0  601.136444   66.93659\n",
       "00401864+0047245 10.077704 0.790143     7.6 ...       0 1004.982128  110.53147\n",
       "00393485+0051355  9.895219 0.859882    39.3 ...       0  301.813395 109.639102\n",
       "00392964+0103495  9.873526 1.063769    10.9 ...       0  665.301415  18.051526\n",
       "00403343+0049079 10.139293 0.818865     5.0 ...       0 1189.207905 102.088788\n",
       "00393319+0035505  9.888305 0.597381    11.5 ...       0  1078.11027   166.0785\n",
       "             ...       ...      ...     ... ...     ...         ...        ...\n",
       "00391798+0041588  9.824936 0.699687     6.1 ...       0  678.863209 177.360117\n",
       "00384796+0034572  9.699858 0.582578     5.1 ...       0 1176.842625 200.856597\n",
       "00390392+0050579  9.766345 0.849419     5.0 ...       0  227.201453  232.24689\n",
       "00391339+0051508  9.805797 0.864135    52.8 ...       0   93.990015 203.598476\n",
       "00391786+0054458  9.824418 0.912743    27.9 ...       0   93.596555  18.308033\n",
       "00385879+0057269  9.744971 0.957478     5.0 ...       0  358.163568 314.246475\n",
       "00391879+0053308  9.828303 0.891909    15.4 ...       0   45.544562  72.287562\n",
       "00391213+0102408   9.80055 1.044691     5.0 ...       0  566.696375 354.276982\n",
       "00383990+0104442  9.666268 1.078968     5.3 ...       0  873.946372 321.851314\n",
       "00384916+0050212  9.704872 0.839244     5.1 ...       0  437.740484 246.331036"
      ]
     },
     "execution_count": 26,
     "metadata": {},
     "output_type": "execute_result"
    }
   ],
   "source": [
    "twomass # just to see an example of the format"
   ]
  },
  {
   "cell_type": "markdown",
   "metadata": {},
   "source": [
    "OK, looks like they both have ``ra`` and ``dec`` columns, so we should be able to use that to make `SkyCoord`s.\n",
    "\n",
    "You might first think you need to create a separate `SkyCoord` for *every* row in the table, given that up until now all `SkyCoord`s we made were for just a single point.  You could do this, but it will make your code much slower.  Instead, `SkyCoord` supports *arrays* of coordinate values - you just pass in array-like inputs (array `Quantity`s, lists of strings, `Table` columns, etc.), and `SkyCoord` will happily do all of its operations element-wise."
   ]
  },
  {
   "cell_type": "code",
   "execution_count": 27,
   "metadata": {
    "collapsed": false
   },
   "outputs": [],
   "source": [
    "coo_sdss = SkyCoord(sdss['ra']*u.deg, sdss['dec']*u.deg)\n",
    "coo_twomass = SkyCoord(twomass['ra'], twomass['dec'])"
   ]
  },
  {
   "cell_type": "markdown",
   "metadata": {},
   "source": [
    "Note a subtle difference here: you had to give units for SDSS but *not* for 2MASS.  This is because the 2MASS table has units associated with the columns, while the SDSS table does not (so you have to put them in manually).\n",
    "\n",
    "Now we simply use the ``SkyCoord.match_to_catalog_sky`` method to match the two catalogs. Note that order matters: we're matching 2MASS to SDSS because there are many *more* entires in the SDSS, so it seems likely that most 2MASS objects are in SDSS (but not vice versa)."
   ]
  },
  {
   "cell_type": "code",
   "execution_count": 28,
   "metadata": {
    "collapsed": false
   },
   "outputs": [],
   "source": [
    "idx_sdss, d2d_sdss, d3d_sdss = coo_twomass.match_to_catalog_sky(coo_sdss)"
   ]
  },
  {
   "cell_type": "markdown",
   "metadata": {},
   "source": [
    "``idx`` are the indecies into ``coo_sdss`` that get the closest matches, while ``d2d`` and ``d3d`` are the on-sky and real-space distances between the matches. In our case ``d3d`` can be ignored because we didn't give a line-of-sight distance, so its value is not particularly useful.   But ``d2d`` provides a good diagnosis of whether we actually have real matches:"
   ]
  },
  {
   "cell_type": "code",
   "execution_count": 29,
   "metadata": {
    "collapsed": false
   },
   "outputs": [
    {
     "data": {
      "image/png": "[encoded data removed]",
      "text/plain": [
       "<matplotlib.figure.Figure at 0x10736a250>"
      ]
     },
     "metadata": {},
     "output_type": "display_data"
    }
   ],
   "source": [
    "plt.hist(d2d_sdss.arcsec, histtype='step', range=(0,2))\n",
    "plt.xlabel('separation [arcsec]')\n",
    "plt.tight_layout()"
   ]
  },
  {
   "cell_type": "markdown",
   "metadata": {},
   "source": [
    "Ok, they're all within an arcsecond that's promising.  But are we sure it's not just that *anything* has matches within an arcescond?  Lets check by comparing to a set of *random* points.\n",
    "\n",
    "We first create a set of uniformly random points (with size matching `coo_twomass`) that cover the same range of RA/Decs that are in `coo_sdss`."
   ]
  },
  {
   "cell_type": "code",
   "execution_count": 30,
   "metadata": {
    "collapsed": false
   },
   "outputs": [
    {
     "data": {
      "text/plain": [
       "(<Angle [ 10.03815758,  9.58571685,  9.64042917, 10.11399424,  9.56992885,\n",
       "          10.00293633,  9.58953457,  9.56922764,  9.50148753, 10.14093392,\n",
       "           9.51438018,  9.49110605,  9.64919342,  9.69578118,  9.9726397 ,\n",
       "          10.00711875,  9.75591559,  9.8191087 , 10.03794502,  9.92525475,\n",
       "           9.79581985, 10.09536668, 10.14271944] deg>,\n",
       " <Angle [ 0.98115368, 0.60627351, 1.16555155, 0.70370159, 0.65273516,\n",
       "          0.57436348, 0.60885282, 0.68631394, 0.79081134, 0.70563513,\n",
       "          1.09370633, 1.19681039, 0.87541875, 1.02378974, 1.19706908,\n",
       "          1.14912743, 1.0391688 , 0.91550639, 0.69788619, 0.58194295,\n",
       "          0.88737505, 0.60544236, 0.64623778] deg>)"
      ]
     },
     "execution_count": 30,
     "metadata": {},
     "output_type": "execute_result"
    }
   ],
   "source": [
    "ras_sim = np.random.rand(len(coo_twomass))*coo_sdss.ra.ptp() + coo_sdss.ra.min()\n",
    "decs_sim = np.random.rand(len(coo_twomass))*coo_sdss.dec.ptp() + coo_sdss.dec.min()\n",
    "ras_sim, decs_sim"
   ]
  },
  {
   "cell_type": "markdown",
   "metadata": {},
   "source": [
    "Now we create a `SkyCoord` from these points and match it to `coo_sdss` just like we did above for 2MASS.\n",
    "\n",
    "Note that we do not need to explicitly specify units for `ras_sim` and `decs_sim`, because they already are unitful `Angle` objects because they were created from `coo_sdss.ra`/`coo_sdss.dec`."
   ]
  },
  {
   "cell_type": "code",
   "execution_count": 31,
   "metadata": {
    "collapsed": false
   },
   "outputs": [],
   "source": [
    "coo_simulated = SkyCoord(ras_sim, decs_sim)  \n",
    "idx_sim, d2d_sim, d3d_sim = coo_simulated.match_to_catalog_sky(coo_sdss)"
   ]
  },
  {
   "cell_type": "markdown",
   "metadata": {},
   "source": [
    "Now lets plot up the histogram of separations from our simulated catalog so we can compare to the above results from the *real* catalog."
   ]
  },
  {
   "cell_type": "code",
   "execution_count": 32,
   "metadata": {
    "collapsed": false
   },
   "outputs": [
    {
     "data": {
      "image/png": "[encoded data removed]",
      "text/plain": [
       "<matplotlib.figure.Figure at 0x10652b690>"
      ]
     },
     "metadata": {},
     "output_type": "display_data"
    }
   ],
   "source": [
    "plt.hist(d2d_sim.arcsec, histtype='step', color='red', label='Simulated', linestyle='dashed')\n",
    "plt.hist(d2d_sdss.arcsec, histtype='step', color='blue', label='2MASS')\n",
    "plt.xlabel('separation [arcsec]')\n",
    "plt.legend(loc=0)\n",
    "plt.tight_layout()"
   ]
  },
  {
   "cell_type": "markdown",
   "metadata": {},
   "source": [
    "Alright, great - looks like randomly placed sources should be more like an arc*minute* away, so we can probably trust that our earlier matches which were within an arc*second* are valid.  So with that in mind, we can start computing things like colors that combine the SDSS and 2MASS photometry."
   ]
  },
  {
   "cell_type": "code",
   "execution_count": 33,
   "metadata": {
    "collapsed": false
   },
   "outputs": [
    {
     "data": {
      "image/png": "[encoded data removed]",
      "text/plain": [
       "<matplotlib.figure.Figure at 0x109a13b90>"
      ]
     },
     "metadata": {},
     "output_type": "display_data"
    }
   ],
   "source": [
    "rmag = sdss['r'][idx_sdss]\n",
    "grcolor = sdss['g'][idx_sdss] - rmag\n",
    "rKcolor = rmag - twomass['k_m_ext']\n",
    "\n",
    "plt.subplot(1, 2, 1)\n",
    "plt.scatter(rKcolor, rmag)\n",
    "plt.xlabel('r-K')\n",
    "plt.ylabel('r')\n",
    "plt.xlim(2.5, 4)\n",
    "plt.ylim(18, 12) #mags go backwards!\n",
    "\n",
    "plt.subplot(1, 2, 2)\n",
    "plt.scatter(rKcolor, rmag)\n",
    "plt.xlabel('r-K')\n",
    "plt.ylabel('g-r')\n",
    "plt.xlim(2.5, 4)\n",
    "\n",
    "plt.tight_layout()"
   ]
  },
  {
   "cell_type": "markdown",
   "metadata": {},
   "source": [
    "For more on what matching options are available, check out the [separation and matching section of the astropy documentation](http://astropy.readthedocs.org/en/latest/coordinates/matchsep.html).  Or for more on what you can do with `SkyCoord`, see [its API documentation](http://astropy.readthedocs.org/en/latest/api/astropy.coordinates.SkyCoord.html)."
   ]
  },
  {
   "cell_type": "markdown",
   "metadata": {},
   "source": [
    "### Exercises"
   ]
  },
  {
   "cell_type": "markdown",
   "metadata": {},
   "source": [
    "Check that the separations in the ``d2d_sdss`` object matches the on-sky separations you get from comparing the appropriate elements of ``coo_sdss`` to the ``coo_twomass``. (Recall that the \"appropriate elements\" have already been determined above.  Be sure to re-use that!) \n",
    "\n",
    "Hint: You'll likely find the [``SkyCoord.separation()``](http://docs.astropy.org/en/stable/api/astropy.coordinates.SkyCoord.html#astropy.coordinates.SkyCoord.separation) method useful here."
   ]
  },
  {
   "cell_type": "code",
   "execution_count": 34,
   "metadata": {
    "collapsed": false
   },
   "outputs": [
    {
     "data": {
      "text/plain": [
       "array([ True,  True,  True,  True,  True,  True,  True,  True,  True,\n",
       "        True,  True,  True,  True,  True,  True,  True,  True,  True,\n",
       "        True,  True,  True,  True,  True], dtype=bool)"
      ]
     },
     "execution_count": 34,
     "metadata": {},
     "output_type": "execute_result"
    }
   ],
   "source": [
    "seps = coo_sdss[idx_sdss].separation(coo_twomass)\n",
    "seps == d2d_sdss"
   ]
  },
  {
   "cell_type": "markdown",
   "metadata": {},
   "source": [
    "Use the `SkyCoord` you created at the start of the last exercise: what is its on-sky separation from the center of HCG7?"
   ]
  },
  {
   "cell_type": "code",
   "execution_count": 35,
   "metadata": {
    "collapsed": false
   },
   "outputs": [
    {
     "data": {
      "text/latex": [
       "$122^\\circ06{}^\\prime31.5771{}^{\\prime\\prime}$"
      ],
      "text/plain": [
       "<Angle 122.10877142671961 deg>"
      ]
     },
     "execution_count": 35,
     "metadata": {},
     "output_type": "execute_result"
    }
   ],
   "source": [
    "sc_other.separation(hcg7_center)"
   ]
  },
  {
   "cell_type": "markdown",
   "metadata": {},
   "source": [
    "Compute the separation using the small-angle approximation: $s = \\sqrt{(\\alpha^2 \\cos^2{\\delta} + \\delta^2}$.  \n",
    "\n",
    "(Hint: if you use only `Quantity` operations, you shouldn't have to think about units at all)"
   ]
  },
  {
   "cell_type": "code",
   "execution_count": 36,
   "metadata": {
    "collapsed": false
   },
   "outputs": [
    {
     "data": {
      "text/latex": [
       "$128.76704 \\; \\mathrm{{}^{\\circ}}$"
      ],
      "text/plain": [
       "<Quantity 128.76703838583796 deg>"
      ]
     },
     "execution_count": 36,
     "metadata": {},
     "output_type": "execute_result"
    }
   ],
   "source": [
    "dra = sc_other.ra - hcg7_center.ra\n",
    "ddec = sc_other.dec - hcg7_center.dec\n",
    "\n",
    "ssq = (dra*np.cos(sc_other.dec))**2 + ddec**2\n",
    "ssq**0.5"
   ]
  },
  {
   "cell_type": "markdown",
   "metadata": {},
   "source": [
    "Compute the *physical* separation between two (or more) objects in the catalogs.  You'll need line-of-sight distances, so a reasonable guess might be the distance to HCG 7, which is about 55 Mpc. \n",
    "\n",
    "Hint: you'll want to create new `SkyCoord` objects, but with ``distance`` attributes.  There's also a `SkyCoord` method that should do the rest of the work, but you'll have to poke around [in the documentation for `SkyCoord`](http://docs.astropy.org/en/stable/api/astropy.coordinates.SkyCoord.html) to figure out what it is."
   ]
  },
  {
   "cell_type": "code",
   "execution_count": 37,
   "metadata": {
    "collapsed": false
   },
   "outputs": [
    {
     "data": {
      "text/latex": [
       "$594.49785 \\; \\mathrm{kpc}$"
      ],
      "text/plain": [
       "<Distance 594.4978548468132 kpc>"
      ]
     },
     "execution_count": 37,
     "metadata": {},
     "output_type": "execute_result"
    }
   ],
   "source": [
    "entry0 = SkyCoord(ra=coo_sdss[0].ra, dec=coo_sdss[0].dec, distance=55*u.Mpc)\n",
    "entry1 = SkyCoord(ra=coo_sdss[1].ra, dec=coo_sdss[1].dec, distance=55*u.Mpc)\n",
    "entry0.separation_3d(entry1).to(u.kpc)"
   ]
  },
  {
   "cell_type": "code",
   "execution_count": 38,
   "metadata": {
    "collapsed": false
   },
   "outputs": [
    {
     "data": {
      "text/latex": [
       "$[0,~594.49785,~146.48621,~\\dots, 582.94956,~498.87427,~121.60085] \\; \\mathrm{kpc}$"
      ],
      "text/plain": [
       "<Distance [   0.        , 594.49785485, 146.48621374, 391.90102943,\n",
       "             97.25349976, 315.23914922, 215.89550077, 509.85168275,\n",
       "            490.64721756, 190.39766929, 525.45106444, 644.01324331,\n",
       "            414.70395518, 434.17148651, 607.13602068, 470.58465098,\n",
       "            549.38439923, 516.35105386, 407.51962397, 496.04205785,\n",
       "            380.66565116, 470.68203126, 431.59622583, 477.20941525,\n",
       "            479.27281323, 119.83278578, 447.25221646, 551.49679893,\n",
       "            100.5805567 , 452.97874113, 586.89836148, 346.26297331,\n",
       "            198.29914195, 129.0379626 , 443.19278627, 356.62255231,\n",
       "            500.50004688, 658.56964126, 534.38641887, 358.71609902,\n",
       "            611.32082613, 232.94904424, 465.41495137, 518.41465991,\n",
       "            321.38687941, 503.34701651, 577.29701346, 481.13363623,\n",
       "            648.79346349, 254.62600641, 502.15481684, 483.66508887,\n",
       "            156.89385908, 344.9127173 , 443.0106338 , 127.1302501 ,\n",
       "            255.85112307,  43.48995096, 392.5991828 , 261.19916319,\n",
       "            590.52604941, 555.13515507, 258.37168378, 298.98251664,\n",
       "            487.10086059, 449.58095472, 523.66854488, 439.23537855,\n",
       "            381.81929815, 111.46560331, 493.26044853, 300.09042605,\n",
       "            463.214793  , 448.23815382, 316.95534544, 336.11719943,\n",
       "            284.61673366, 385.03923739, 444.49628811, 248.24513478,\n",
       "            437.39066634, 297.83426957, 455.66003591, 336.76533904,\n",
       "            596.57108199, 366.80889087, 301.45264608, 370.89831951,\n",
       "            535.77489958, 165.79040751, 569.38804817, 456.55540536,\n",
       "            310.74842386, 346.7496187 , 588.08687257, 423.74562384,\n",
       "            360.30978491, 314.19345472, 701.67687346, 449.71965065,\n",
       "            371.68366878, 475.00109665, 606.54660726, 514.7136334 ,\n",
       "            472.50185773, 249.49539632, 660.18039144, 505.60135872,\n",
       "            317.4366824 ,  92.19522049,  80.04381961, 404.70447693,\n",
       "            334.45557281, 126.81591822, 205.70655493, 590.66938214,\n",
       "            142.4160734 ,  58.93533884, 390.7068522 , 248.570065  ,\n",
       "            268.08132232, 410.31205248, 222.86879128, 520.23805703,\n",
       "            630.53010883, 469.60877571, 352.36918534, 573.4955229 ,\n",
       "            544.2115361 , 422.41127904, 553.22189405, 363.83004556,\n",
       "             44.7342849 , 360.82278738, 308.06295675, 138.47621551,\n",
       "            576.06016465, 383.84890806, 274.06531816, 506.59376812,\n",
       "            397.11089963, 240.04445137, 381.99483028, 602.38177225,\n",
       "            389.3559544 , 463.09053476, 537.37992486, 206.21004455,\n",
       "            335.6306467 , 573.28125667, 609.16087956, 383.24627708,\n",
       "            168.54704665,  25.56440093, 537.71375354, 468.5624078 ,\n",
       "            443.84848598, 356.83774966, 290.67351378, 546.58162517,\n",
       "            399.1425336 , 199.19700604, 537.36051864, 368.44356778,\n",
       "            396.23506801, 421.0456488 , 463.4375991 , 536.72815852,\n",
       "            443.48761289, 471.65065934,  69.32832002, 254.51997604,\n",
       "            394.06613264, 548.82297614, 475.05704701, 306.71759717,\n",
       "            680.52680233, 207.0162007 , 386.71558784, 458.66515955,\n",
       "            692.55466354, 624.78954458, 437.5815716 , 257.58762678,\n",
       "             50.67810661, 491.17324978, 446.55588075, 393.69871536,\n",
       "            355.56045114, 409.55582041, 343.62841017, 224.93098995,\n",
       "            120.47455613, 556.53475157, 432.9622066 , 466.9267471 ,\n",
       "            477.43870316, 199.29648999, 566.79370088, 329.58392368,\n",
       "            175.81584915, 144.53908539, 479.4280143 , 433.06042352,\n",
       "            505.28619626, 411.91155265, 397.9201623 , 345.39205436,\n",
       "            245.48981922, 309.25473689, 528.52867487, 259.97435079,\n",
       "            154.28442787, 529.48093434, 216.40395043, 213.51139424,\n",
       "             65.75756889, 192.39562066, 549.48340371, 123.72287144,\n",
       "            289.44998694, 288.71871637, 490.76590212, 549.83789894,\n",
       "            529.420586  , 193.99470001, 247.22659416, 319.52127919,\n",
       "            473.33879035, 172.62587507, 527.62184989, 576.61273743,\n",
       "            456.40299293, 547.5548959 , 349.0400935 , 481.75372662,\n",
       "            112.74144593, 281.44473632, 650.7010107 , 217.03975959,\n",
       "            536.89702979, 443.25251447, 436.93956404, 284.27020115,\n",
       "            465.54901491, 374.3080421 , 580.71656094, 340.55345792,\n",
       "            585.99823627, 273.05000038, 510.699086  , 444.98296709,\n",
       "            324.43996992, 649.32423174, 299.58194255, 253.42188684,\n",
       "            106.32421298, 167.35448306, 224.01036166, 362.23298805,\n",
       "            427.61064067, 475.78610518, 166.67351513, 373.05017792,\n",
       "            303.19865561, 338.30058476, 262.85441643, 294.74466527,\n",
       "            415.92907205, 547.66659736, 312.15739516, 647.15049809,\n",
       "            552.99785759, 175.81884007, 124.92084384, 389.59621724,\n",
       "            117.66928787, 230.65013947, 275.31069644, 479.74960362,\n",
       "            133.17590996, 304.87074034, 441.75907352, 253.54661439,\n",
       "            378.48076334, 602.05292665, 415.1925688 , 221.24981145,\n",
       "            454.80992895, 287.73676263, 311.96385699, 647.32535125,\n",
       "            346.94151556, 256.49834158, 279.75068661, 169.28709259,\n",
       "            525.82101465, 358.84263616,  82.71092792, 578.02199134,\n",
       "            309.2518464 , 547.23929092, 220.53713135, 364.33798483,\n",
       "            526.6296523 , 314.75065672, 194.98269356, 272.9058452 ,\n",
       "            323.51806176, 395.55481422, 267.05461848, 621.5349695 ,\n",
       "            268.7389566 , 215.04655884, 465.91316342, 296.37749472,\n",
       "            556.06455231, 440.70172878, 431.18461106, 298.42502569,\n",
       "            351.27231868, 292.18250825, 246.29548281, 344.41199248,\n",
       "            403.31703519, 538.11599829, 437.3725671 , 410.80959584,\n",
       "            459.18779732, 509.36972698, 186.86737135, 397.0134126 ,\n",
       "            388.21312629, 307.22021891,  69.54848555, 644.69346884,\n",
       "            108.30986618, 245.49401261, 580.83856202, 336.31078197,\n",
       "             56.23347114, 587.12459593, 285.61639523, 390.13282408,\n",
       "            385.14659131, 322.36790442, 320.26501602, 350.71447004,\n",
       "            190.55119266, 405.35072846, 183.92624233, 224.92799622,\n",
       "            203.12762906, 306.1145201 , 392.98020035, 144.18709159,\n",
       "            583.51382338, 505.73032491, 501.47475567, 399.87702262,\n",
       "            301.20328085, 162.39240269, 543.28071414, 423.8856466 ,\n",
       "            330.29579114, 563.55544782, 274.44067248, 213.0571294 ,\n",
       "            166.46964715, 534.21349846,  77.27038502, 448.81188579,\n",
       "            206.83759656, 554.00245616, 234.72900426, 317.48822665,\n",
       "            310.3689715 , 570.35749642, 508.57034315, 397.27133448,\n",
       "            639.5308799 , 563.5457325 , 545.30913056, 508.86126953,\n",
       "            206.62755563, 477.82640937, 330.07859682,  96.20048923,\n",
       "            610.49139477, 319.49209867, 441.04626493, 243.51611586,\n",
       "            305.43653721, 350.04095092,  76.45083408, 475.30651721,\n",
       "            125.02905573, 275.76786247, 408.49275471, 336.88669317,\n",
       "            141.14183612, 702.55173569, 252.64651596, 644.52917916,\n",
       "            547.83383065, 330.96820075, 550.34454936, 515.91857863,\n",
       "            124.99473923, 466.48061658, 281.39587228, 466.40119763,\n",
       "            282.77964971, 353.61078372,  59.32834476, 315.32838594,\n",
       "            644.67902595, 131.23805932, 418.59959415, 329.53434909,\n",
       "            284.62797506, 349.83231137, 333.00880796, 380.99446551,\n",
       "             83.94647889, 225.87766437, 291.59027444, 530.3760756 ,\n",
       "            257.03100157, 384.99047369, 615.99015247, 519.81700949,\n",
       "            434.88734224, 463.04444721, 509.23991338, 289.32914341,\n",
       "            489.00579059, 402.10742946, 107.92286747, 134.48349437,\n",
       "            350.25925491, 444.88979853, 474.37222762, 310.29259837,\n",
       "            473.76087397, 296.81427063, 119.16943594, 403.90012365,\n",
       "            525.78438154, 467.71457193, 166.67202888, 335.61415909,\n",
       "            262.25879253, 151.04776354, 256.81980607, 470.90810936,\n",
       "            342.90158357, 402.94233389, 276.95984063, 437.03980735,\n",
       "            610.58152326, 457.03662273, 398.05562986, 488.39356471,\n",
       "            672.70190396,  58.54587134, 378.47307566, 475.46093058,\n",
       "            479.02674933, 506.45081384, 580.30493044, 515.86063162,\n",
       "            349.28821648, 407.27829381, 452.74729559, 321.4226137 ,\n",
       "            428.14852048, 562.11884196, 341.41722047, 480.23341603,\n",
       "            411.89653559, 613.30522587, 175.54998379, 510.70882926,\n",
       "            252.50099783,  67.51658971, 371.42651804, 468.20873694,\n",
       "            275.89601649, 117.10228678, 469.51963307, 132.91163425,\n",
       "            392.23258094, 135.37340334, 666.65783893, 309.61697993,\n",
       "            400.75525273, 132.24189798, 338.99382449, 110.26553305,\n",
       "            267.57329089, 197.54781422, 483.83341226, 273.14100827,\n",
       "            363.56890469, 454.87332322, 263.84455763, 411.51373978,\n",
       "            382.13542689, 443.41470569, 178.68899885, 471.64283412,\n",
       "            176.30102943, 607.25807474, 387.63404251, 426.40215855,\n",
       "            334.18422779, 288.05475901, 416.38713268, 329.28848901,\n",
       "            190.56286173, 384.03797852, 310.29510401, 418.57452007,\n",
       "            611.30061849, 264.21827118, 562.43853179, 240.58675798,\n",
       "             76.21892661, 568.90146671, 488.5532413 , 331.60663004,\n",
       "            492.35314637, 569.72260041, 149.52635656, 575.2044177 ,\n",
       "            212.23971949, 591.54549724, 301.09764329, 286.72168041,\n",
       "            477.14938945, 396.6655091 , 444.7603356 , 540.18473173,\n",
       "            104.1693884 , 263.9459177 , 325.18837689, 321.26600807,\n",
       "            342.65733599, 334.81816778, 575.97492905, 264.87358171,\n",
       "            336.58208887, 472.69268361, 436.56912272, 447.14639575,\n",
       "            227.61222182, 395.78213491, 417.2041137 , 183.06488156,\n",
       "            575.49110043, 430.95043649,  18.1544931 , 146.41466517,\n",
       "            499.15637168, 342.03751432, 364.36955506, 555.32165802,\n",
       "            309.85915466, 420.58668523, 546.00663381, 142.44044231,\n",
       "            221.56390556, 334.0209418 , 460.66643416, 149.70902699,\n",
       "            280.52080645, 599.33829909, 528.56086539, 316.37349989,\n",
       "            170.24168715, 560.75583508, 271.71422332, 268.36709255,\n",
       "            555.82967076, 286.53924602, 392.3628137 , 557.23250046,\n",
       "            515.102907  , 409.62558776, 443.49937744, 232.61635162,\n",
       "            387.43989728, 540.41440296, 368.47768697,  43.62049153,\n",
       "            628.99546122, 401.07620405, 200.68971673, 627.03154078,\n",
       "            432.08337757, 638.86526658, 402.65748463, 411.59597298,\n",
       "            355.37084521, 555.24046198, 605.96177115, 242.14622026,\n",
       "            431.15208619, 492.13785874, 435.5631065 ,  68.62734885,\n",
       "            141.63000164, 218.02476924, 440.21306137, 263.49492346,\n",
       "            261.78177441, 360.46595884, 269.50984092,  76.45373524,\n",
       "            465.68530435, 550.54517526, 414.30910338, 541.66939971,\n",
       "            359.38087165, 587.66743618, 399.23648756, 476.11862967,\n",
       "            528.03002603, 205.8705203 , 249.96196595, 490.77822963,\n",
       "            733.32372029, 314.99319042, 353.46911403, 339.77597313,\n",
       "            284.82876488, 488.61833354, 322.23218284, 333.80058241,\n",
       "            338.50927141, 272.85273184, 507.47812935, 380.3710488 ,\n",
       "            488.49099555, 523.46801029, 537.93367863, 198.64338584,\n",
       "            549.19282767, 445.24555621, 177.25704114, 177.53644609,\n",
       "            531.0185039 , 379.24189441, 330.15898429, 150.28166665,\n",
       "            437.74702895, 299.10583439, 387.6350605 , 406.42510935,\n",
       "            492.81244382, 509.76246095, 273.32738291, 233.04664554,\n",
       "            163.30555198, 608.63031557, 195.08452682, 367.83377171,\n",
       "            379.49533405, 638.76995235, 235.76696822, 255.29156049,\n",
       "            171.49644158, 604.66594538, 324.54220683, 560.6991839 ,\n",
       "            582.94956252, 498.87427344, 121.60084935] kpc>"
      ]
     },
     "execution_count": 38,
     "metadata": {},
     "output_type": "execute_result"
    }
   ],
   "source": [
    "# or an array with *all* of the 3D separations:\n",
    "all_entries = SkyCoord(ra=coo_sdss.ra, dec=coo_sdss.dec, distance=55*u.Mpc)\n",
    "entry0.separation_3d(all_entries).to(u.kpc)"
   ]
  },
  {
   "cell_type": "markdown",
   "metadata": {},
   "source": [
    "## Transforming between coordinate systems and planning observations"
   ]
  },
  {
   "cell_type": "markdown",
   "metadata": {},
   "source": [
    "Now lets say something excites you about one of the objects in this catalog, and you want to know if and when you might go about observing it.  `astropy.coordinates` provides tools to enable this, as well."
   ]
  },
  {
   "cell_type": "markdown",
   "metadata": {},
   "source": [
    "### Introducting frame transformations"
   ]
  },
  {
   "cell_type": "markdown",
   "metadata": {},
   "source": [
    "To understand the code in this section, it may help to read over the [overview of the astropy coordinates scheme](http://astropy.readthedocs.org/en/latest/coordinates/index.html#overview-of-astropy-coordinates-concepts).  The key bit to understand is that all coordinates in astropy are in particular \"frames\", and we can transform between a specific `SkyCoord` object from one frame to another.  For example, we can transform our previously-defined center of HCG7 from ICRS to Galactic coordinates:"
   ]
  },
  {
   "cell_type": "code",
   "execution_count": 39,
   "metadata": {
    "collapsed": false
   },
   "outputs": [
    {
     "data": {
      "text/plain": [
       "<SkyCoord (Galactic): (l, b) in deg\n",
       "    (116.47556813, -61.83099472)>"
      ]
     },
     "execution_count": 39,
     "metadata": {},
     "output_type": "execute_result"
    }
   ],
   "source": [
    "hcg7_center.galactic"
   ]
  },
  {
   "cell_type": "markdown",
   "metadata": {},
   "source": [
    "The above is actually a special \"quick-access\" form which internally does the same as what's in the cell below: uses the `transform_to()` method to convert from one frame to another."
   ]
  },
  {
   "cell_type": "code",
   "execution_count": 40,
   "metadata": {
    "collapsed": false
   },
   "outputs": [
    {
     "data": {
      "text/plain": [
       "<SkyCoord (Galactic): (l, b) in deg\n",
       "    (116.47556813, -61.83099472)>"
      ]
     },
     "execution_count": 40,
     "metadata": {},
     "output_type": "execute_result"
    }
   ],
   "source": [
    "from astropy.coordinates import Galactic\n",
    "hcg7_center.transform_to(Galactic())"
   ]
  },
  {
   "cell_type": "markdown",
   "metadata": {},
   "source": [
    "Note that changing frames also changes some of the attributes of the object, but usually in a way that makes sense:"
   ]
  },
  {
   "cell_type": "code",
   "execution_count": 41,
   "metadata": {
    "collapsed": false
   },
   "outputs": [
    {
     "ename": "AttributeError",
     "evalue": "'SkyCoord' object has no attribute 'ra'",
     "output_type": "error",
     "traceback": [
      "\u001b[0;31m---------------------------------------------------------------------------\u001b[0m",
      "\u001b[0;31mAttributeError\u001b[0m                            Traceback (most recent call last)",
      "\u001b[0;32m<ipython-input-41-d7bc134707f6>\u001b[0m in \u001b[0;36m<module>\u001b[0;34m()\u001b[0m\n\u001b[0;32m----> 1\u001b[0;31m \u001b[0mhcg7_center\u001b[0m\u001b[0;34m.\u001b[0m\u001b[0mgalactic\u001b[0m\u001b[0;34m.\u001b[0m\u001b[0mra\u001b[0m  \u001b[0;31m# should fail because galactic coordinates are l/b not RA/Dec\u001b[0m\u001b[0;34m\u001b[0m\u001b[0m\n\u001b[0m",
      "\u001b[0;32m/opt/local/Library/Frameworks/Python.framework/Versions/2.7/lib/python2.7/site-packages/astropy/coordinates/sky_coordinate.pyc\u001b[0m in \u001b[0;36m__getattr__\u001b[0;34m(self, attr)\u001b[0m\n\u001b[1;32m    384\u001b[0m         \u001b[0;31m# Fail\u001b[0m\u001b[0;34m\u001b[0m\u001b[0;34m\u001b[0m\u001b[0m\n\u001b[1;32m    385\u001b[0m         raise AttributeError(\"'{0}' object has no attribute '{1}'\"\n\u001b[0;32m--> 386\u001b[0;31m                              .format(self.__class__.__name__, attr))\n\u001b[0m\u001b[1;32m    387\u001b[0m \u001b[0;34m\u001b[0m\u001b[0m\n\u001b[1;32m    388\u001b[0m     \u001b[0;32mdef\u001b[0m \u001b[0m__setattr__\u001b[0m\u001b[0;34m(\u001b[0m\u001b[0mself\u001b[0m\u001b[0;34m,\u001b[0m \u001b[0mattr\u001b[0m\u001b[0;34m,\u001b[0m \u001b[0mval\u001b[0m\u001b[0;34m)\u001b[0m\u001b[0;34m:\u001b[0m\u001b[0;34m\u001b[0m\u001b[0m\n",
      "\u001b[0;31mAttributeError\u001b[0m: 'SkyCoord' object has no attribute 'ra'"
     ]
    }
   ],
   "source": [
    "hcg7_center.galactic.ra  # should fail because galactic coordinates are l/b not RA/Dec"
   ]
  },
  {
   "cell_type": "code",
   "execution_count": 42,
   "metadata": {
    "collapsed": false
   },
   "outputs": [
    {
     "data": {
      "text/latex": [
       "$-61^\\circ49{}^\\prime51.581{}^{\\prime\\prime}$"
      ],
      "text/plain": [
       "<Latitude -61.83099472386304 deg>"
      ]
     },
     "execution_count": 42,
     "metadata": {},
     "output_type": "execute_result"
    }
   ],
   "source": [
    "hcg7_center.galactic.b"
   ]
  },
  {
   "cell_type": "markdown",
   "metadata": {},
   "source": [
    "### Using frame transformations to get to AltAz"
   ]
  },
  {
   "cell_type": "markdown",
   "metadata": {},
   "source": [
    "To actually do anything with observability we need to convert to a frame local to an on-earth observer.  By far the most common choice is horizontal coordinates, or \"AltAz\" coordinates.  We first need to specify both where and when we want to try to observe."
   ]
  },
  {
   "cell_type": "code",
   "execution_count": 43,
   "metadata": {
    "collapsed": false
   },
   "outputs": [],
   "source": [
    "from astropy.coordinates import EarthLocation\n",
    "from astropy.time import Time\n",
    "\n",
    "observing_location = EarthLocation(lat='31d57.5m', lon='-111d35.8m', height=2096*u.m)  # Kitt Peak, Arizona\n",
    "# If you're using astropy v1.1 or later, you can replace the above with this:\n",
    "#observing_location = EarthLocation.of_site('Kitt Peak')\n",
    "\n",
    "observing_time = Time('2010-12-21 1:00')  # 1am UTC=6pm AZ mountain time"
   ]
  },
  {
   "cell_type": "markdown",
   "metadata": {},
   "source": [
    "Now we use these to create an `AltAz` frame object.  Note that this frame has some other information about the atmosphere, which can be used to correct for atmospheric refraction.  Here we leave that alone, because the default is to ignore this effect (by setting the pressure to 0)."
   ]
  },
  {
   "cell_type": "code",
   "execution_count": 44,
   "metadata": {
    "collapsed": false
   },
   "outputs": [
    {
     "data": {
      "text/plain": [
       "<AltAz Frame (obstime=2010-12-21 01:00:00.000, location=(-1994310.09211632, -5037908.606337594, 3357621.752122168) m, pressure=0.0 hPa, temperature=0.0 deg_C, relative_humidity=0, obswl=1.0 micron)>"
      ]
     },
     "execution_count": 44,
     "metadata": {},
     "output_type": "execute_result"
    }
   ],
   "source": [
    "from astropy.coordinates import AltAz\n",
    "\n",
    "aa = AltAz(location=observing_location, obstime=observing_time)\n",
    "aa"
   ]
  },
  {
   "cell_type": "markdown",
   "metadata": {},
   "source": [
    "Now we can just transform our ICRS `SkyCoord` to `AltAz` to get the location in the sky over Kitt Peak at the requested time."
   ]
  },
  {
   "cell_type": "code",
   "execution_count": 45,
   "metadata": {
    "collapsed": false
   },
   "outputs": [
    {
     "data": {
      "text/plain": [
       "<SkyCoord (AltAz: obstime=2010-12-21 01:00:00.000, location=(-1994310.09211632, -5037908.606337594, 3357621.752122168) m, pressure=0.0 hPa, temperature=0.0 deg_C, relative_humidity=0, obswl=1.0 micron):00:00.000, location=(-1994310.09211632, -5037908.606337594, 3357621.752122168) m, pressure=0.0 hPa, temperature=0.0 deg_C, relative_humidity=0, obswl=1.0 micron): (az, alt) in deg\n",
       "    (149.19392022, 55.06247356)>"
      ]
     },
     "execution_count": 45,
     "metadata": {},
     "output_type": "execute_result"
    }
   ],
   "source": [
    "hcg7_center.transform_to(aa)"
   ]
  },
  {
   "cell_type": "markdown",
   "metadata": {},
   "source": [
    "Alright, it's up at 6pm, but that's pretty early to be observing.  We could just try various times one at a time to see if the airmass is at a darker time, but we can do better: lets try to create an airmass plot."
   ]
  },
  {
   "cell_type": "code",
   "execution_count": 46,
   "metadata": {
    "collapsed": false
   },
   "outputs": [
    {
     "data": {
      "image/png": "[encoded data removed]",
      "text/plain": [
       "<matplotlib.figure.Figure at 0x109ec8ed0>"
      ]
     },
     "metadata": {},
     "output_type": "display_data"
    }
   ],
   "source": [
    "# this gives a Time object with an *array* of times\n",
    "delta_hours = np.linspace(0, 6, 100)*u.hour\n",
    "full_night_times = observing_time + delta_hours\n",
    "full_night_aa_frames = AltAz(location=observing_location, obstime=full_night_times)\n",
    "full_night_aa_coos = hcg7_center.transform_to(full_night_aa_frames)\n",
    "\n",
    "plt.plot(delta_hours, full_night_aa_coos.secz)\n",
    "plt.xlabel('Hours from 6pm AZ time')\n",
    "plt.ylabel('Airmass [Sec(z)]')\n",
    "plt.ylim(0.9,3)\n",
    "plt.tight_layout()"
   ]
  },
  {
   "cell_type": "markdown",
   "metadata": {},
   "source": [
    "Great!  Looks like it's at the lowest airmass in another hour or so (7pm).  But might that might still be twilight... When should we start observing for proper dark skies?  Fortunately, astropy provides a ``get_sun`` function that can be used to check this.  Lets use it to check if we're in 18-degree twilight or not."
   ]
  },
  {
   "cell_type": "code",
   "execution_count": 47,
   "metadata": {
    "collapsed": false
   },
   "outputs": [
    {
     "data": {
      "image/png": "[encoded data removed]",
      "text/plain": [
       "<matplotlib.figure.Figure at 0x109d4c450>"
      ]
     },
     "metadata": {},
     "output_type": "display_data"
    }
   ],
   "source": [
    "from astropy.coordinates import get_sun\n",
    "\n",
    "full_night_sun_coos = get_sun(full_night_times).transform_to(full_night_aa_frames)\n",
    "plt.plot(delta_hours, full_night_sun_coos.alt.deg)\n",
    "plt.axhline(-18, color='k')\n",
    "plt.xlabel('Hours from 6pm AZ time')\n",
    "plt.ylabel('Sun altitude')\n",
    "plt.tight_layout()"
   ]
  },
  {
   "cell_type": "markdown",
   "metadata": {},
   "source": [
    "Looks like it's just below 18 degrees at 7, so you should be good to go!"
   ]
  },
  {
   "cell_type": "markdown",
   "metadata": {},
   "source": [
    "### Exercises"
   ]
  },
  {
   "cell_type": "markdown",
   "metadata": {},
   "source": [
    "Try converting the HCG7 coordinates to an equatorial frame at some other equinox a while in the past (like J2000).  Do you see the precession of the equinoxes?\n",
    "\n",
    "Hint: To see a diagram of the supported frames look [here](http://docs.astropy.org/en/stable/coordinates/#module-astropy.coordinates).  One of those will do what you need if you give it the right frame attributes."
   ]
  },
  {
   "cell_type": "code",
   "execution_count": 48,
   "metadata": {
    "collapsed": false
   },
   "outputs": [
    {
     "data": {
      "text/plain": [
       "<SkyCoord (ICRS): (ra, dec) in deg\n",
       "    (9.81625, 0.88806)>"
      ]
     },
     "execution_count": 48,
     "metadata": {},
     "output_type": "execute_result"
    }
   ],
   "source": [
    "hcg7_center"
   ]
  },
  {
   "cell_type": "code",
   "execution_count": 49,
   "metadata": {
    "collapsed": false
   },
   "outputs": [
    {
     "data": {
      "text/plain": [
       "<SkyCoord (FK5: equinox=J2000.000): (ra, dec) in deg\n",
       "    (9.81625645, 0.88806155)>"
      ]
     },
     "execution_count": 49,
     "metadata": {},
     "output_type": "execute_result"
    }
   ],
   "source": [
    "from astropy.coordinates import FK5\n",
    "\n",
    "hcg7_center.transform_to(FK5(equinox='J2000'))"
   ]
  },
  {
   "cell_type": "code",
   "execution_count": 50,
   "metadata": {
    "collapsed": false
   },
   "outputs": [
    {
     "data": {
      "text/plain": [
       "<SkyCoord (FK5: equinox=J1900.000): (ra, dec) in deg\n",
       "    (8.53452686, 0.33835944)>"
      ]
     },
     "execution_count": 50,
     "metadata": {},
     "output_type": "execute_result"
    }
   ],
   "source": [
    "hcg7_center.transform_to(FK5(equinox='J1900'))"
   ]
  },
  {
   "cell_type": "code",
   "execution_count": 51,
   "metadata": {
    "collapsed": false
   },
   "outputs": [
    {
     "data": {
      "text/plain": [
       "<SkyCoord (FK5: equinox=J1800.000): (ra, dec) in deg\n",
       "    (7.25443721, -0.21342645)>"
      ]
     },
     "execution_count": 51,
     "metadata": {},
     "output_type": "execute_result"
    }
   ],
   "source": [
    "hcg7_center.transform_to(FK5(equinox='J1800'))"
   ]
  },
  {
   "cell_type": "markdown",
   "metadata": {},
   "source": [
    "Try to actually compute to some arbitrary precision (rather than eye-balling on a plot) when 18 degree twilight or sunrise/sunset hits on that night."
   ]
  },
  {
   "cell_type": "code",
   "execution_count": 52,
   "metadata": {
    "collapsed": false
   },
   "outputs": [
    {
     "data": {
      "text/plain": [
       "6.9065781560024639"
      ]
     },
     "execution_count": 52,
     "metadata": {},
     "output_type": "execute_result"
    }
   ],
   "source": [
    "from scipy import optimize\n",
    "\n",
    "def function_to_minimize(offset_from_6pm_az_time):\n",
    "    time = observing_time + offset_from_6pm_az_time*u.hour\n",
    "    aa_frame = AltAz(location=observing_location, obstime=time)\n",
    "    coo = get_sun(time).transform_to(aa_frame)\n",
    "    \n",
    "    return (-18 - coo.alt.deg)**2\n",
    "\n",
    "optimization_result = optimize.minimize(function_to_minimize, (1,))\n",
    "\n",
    "# this gives the local arizona time in PM, because the function we optimized uses the offset from 6pm\n",
    "6 + optimization_result.x[0]  "
   ]
  },
  {
   "cell_type": "markdown",
   "metadata": {},
   "source": [
    "## Wrap-up"
   ]
  },
  {
   "cell_type": "markdown",
   "metadata": {},
   "source": [
    "For lots more documentation on the many other features of `astropy.coordinates`, check out [its section of the documentation](http://astropy.readthedocs.org/en/latest/coordinates/index.html).\n",
    "\n",
    "You might also be interested in [the astroplan affiliated package](http://astroplan.readthedocs.org/), which uses the `astropy.coordinates` to do more advanced versions of the tasks in the last section of this tutorial."
   ]
  }
 ],
 "metadata": {
  "astropy-tutorials": {
   "author": "Erik Tollerud <erik.tollerud@gmail.com>",
   "date": "July 2015",
   "description": "Demonstrates use of astropy.coordinates for common tasks. Includes matching catalogs against each other, basic observing planning tasks, and basic usage of coordinates.",
   "link_name": "Using astropy.coordinates to Match Catalogs and Plan Observations",
   "name": "",
   "published": true
  },
  "kernelspec": {
   "display_name": "Python 2",
   "language": "python",
   "name": "python2"
  },
  "language_info": {
   "codemirror_mode": {
    "name": "ipython",
    "version": 2
   },
   "file_extension": ".py",
   "mimetype": "text/x-python",
   "name": "python",
   "nbconvert_exporter": "python",
   "pygments_lexer": "ipython2",
   "version": "2.7.10"
  }
 },
 "nbformat": 4,
 "nbformat_minor": 0
}
