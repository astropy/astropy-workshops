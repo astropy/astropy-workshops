{
 "cells": [
  {
   "cell_type": "markdown",
   "metadata": {},
   "source": [
    "## Demo of Astronomical Interactive Data Analysis Techniques using IPython/Jupyter Notebooks and Ginga"
   ]
  },
  {
   "cell_type": "markdown",
   "metadata": {},
   "source": [
    "This notebook shows examples of using an interactive Ginga viewer running in an HTML5 canvas with an IPython Notebook.  You do not need a special widget set to run this, just an HTML5 compliant browser."
   ]
  },
  {
   "cell_type": "markdown",
   "metadata": {},
   "source": [
    "See NOTES at end for more info installation/requirements.\n",
    "\n",
    "This is adapted for AAS 229 workshop based on the original demo [here](https://github.com/ejeschke/ginga/blob/master/ginga/examples/ipython-notebook/ginga_ipython_demo.ipynb)."
   ]
  },
  {
   "cell_type": "code",
   "execution_count": null,
   "metadata": {
    "collapsed": false
   },
   "outputs": [],
   "source": [
    "# Requirements:\n",
    "from ginga.version import version\n",
    "version\n",
    "\n",
    "# Get ginga from github (https://github.com/ejeschke/ginga) or\n",
    "#   pypi (https://pypi.python.org/pypi/ginga)\n",
    "# Ginga documentation at: http://ginga.readthedocs.io/en/latest/"
   ]
  },
  {
   "cell_type": "code",
   "execution_count": null,
   "metadata": {
    "collapsed": false
   },
   "outputs": [],
   "source": [
    "# setup\n",
    "from ginga.web.pgw import ipg\n",
    "# Set this to True if you have a non-buggy python OpenCv bindings--it greatly speeds up some operations\n",
    "use_opencv = False\n",
    "\n",
    "server = ipg.make_server(host='localhost', port=9914, use_opencv=use_opencv)"
   ]
  },
  {
   "cell_type": "code",
   "execution_count": null,
   "metadata": {
    "collapsed": false
   },
   "outputs": [],
   "source": [
    "# Start viewer server\n",
    "# IMPORTANT: if running in an IPython/Jupyter notebook, use the no_ioloop=True option\n",
    "server.start(no_ioloop=True)"
   ]
  },
  {
   "cell_type": "code",
   "execution_count": null,
   "metadata": {
    "collapsed": false
   },
   "outputs": [],
   "source": [
    "# Get a viewer\n",
    "# This will get a handle to the viewer v1 = server.get_viewer('v1')\n",
    "v1 = server.get_viewer('v1')"
   ]
  },
  {
   "cell_type": "code",
   "execution_count": null,
   "metadata": {
    "collapsed": false
   },
   "outputs": [],
   "source": [
    "# where is my viewer\n",
    "v1.url"
   ]
  },
  {
   "cell_type": "code",
   "execution_count": null,
   "metadata": {
    "collapsed": false
   },
   "outputs": [],
   "source": [
    "# open the viewer in a new window\n",
    "v1.open()"
   ]
  },
  {
   "cell_type": "markdown",
   "metadata": {},
   "source": [
    "*NOTE*: if you don't have the `webbrowser` module, *open the link that was printed in the cell above in a new window* to get the viewer.  \n",
    "\n",
    "You can open as many of these viewers as you want--just keep a handle to it and use a different name for each unique one.\n",
    "\n",
    "Keyboard/mouse bindings in the viewer window: http://ginga.readthedocs.io/en/latest/quickref.html\n",
    "\n",
    "You will want to check the box that says \"I'm using a trackpad\" if you are--it makes zooming much smoother"
   ]
  },
  {
   "cell_type": "code",
   "execution_count": null,
   "metadata": {
    "collapsed": false
   },
   "outputs": [],
   "source": [
    "# Load an image into the viewer\n",
    "# (change the path to where you downloaded the sample images, or use your own)\n",
    "v1.load('../Lecture_Notebooks/Imexam/iacs01t4q_flt.fits')"
   ]
  },
  {
   "cell_type": "code",
   "execution_count": null,
   "metadata": {
    "collapsed": false
   },
   "outputs": [],
   "source": [
    "# Example of embedding a viewer\n",
    "v1.embed(height=650)"
   ]
  },
  {
   "cell_type": "code",
   "execution_count": null,
   "metadata": {
    "collapsed": false
   },
   "outputs": [],
   "source": [
    "# capture the screen\n",
    "v1.show()\n"
   ]
  },
  {
   "cell_type": "raw",
   "metadata": {},
   "source": [
    "Now set a pan position by shift-clicking somewhere in the *viewer* window."
   ]
  },
  {
   "cell_type": "code",
   "execution_count": null,
   "metadata": {
    "collapsed": false
   },
   "outputs": [],
   "source": [
    "# Let's get the pan position we just set\n",
    "dx, dy = v1.get_pan()\n",
    "dx, dy"
   ]
  },
  {
   "cell_type": "code",
   "execution_count": null,
   "metadata": {
    "collapsed": false
   },
   "outputs": [],
   "source": [
    "# Getting values from the FITS header is also easy\n",
    "img = v1.get_image()\n",
    "hdr =img.get_header()\n",
    "hdr['BUNIT']"
   ]
  },
  {
   "cell_type": "code",
   "execution_count": null,
   "metadata": {
    "collapsed": false
   },
   "outputs": [],
   "source": [
    "# What are the coordinates of the pan position?\n",
    "# This uses astropy.wcs under the hood if you have it installed\n",
    "img.pixtoradec(dx, dy)"
   ]
  },
  {
   "cell_type": "code",
   "execution_count": null,
   "metadata": {
    "collapsed": false
   },
   "outputs": [],
   "source": [
    "# Set cut level algorithm to use\n",
    "v1.set_autocut_params('zscale', contrast=0.25)\n",
    "# Auto cut levels on the image\n",
    "v1.auto_levels()"
   ]
  },
  {
   "cell_type": "code",
   "execution_count": null,
   "metadata": {
    "collapsed": false
   },
   "outputs": [],
   "source": [
    "# Let's do an example of the two-way interactivity\n",
    "# First, let's add a drawing canvas\n",
    "canvas = v1.add_canvas()"
   ]
  },
  {
   "cell_type": "code",
   "execution_count": null,
   "metadata": {
    "collapsed": false
   },
   "outputs": [],
   "source": [
    "# delete all objects on the canvas\n",
    "canvas.delete_all_objects()\n",
    "# set the drawing parameters\n",
    "canvas.set_drawtype('circle', color='blue')"
   ]
  },
  {
   "cell_type": "markdown",
   "metadata": {},
   "source": [
    "Now, in the Ginga window, draw a point using the right mouse button (if you only have one mouse button (e.g. Mac) press and release spacebar, then click and drag)"
   ]
  },
  {
   "cell_type": "code",
   "execution_count": null,
   "metadata": {
    "collapsed": false
   },
   "outputs": [],
   "source": [
    "# get the pixel coordinates of the point we just drew\n",
    "p = canvas.objects[0]\n",
    "p.x, p.y"
   ]
  },
  {
   "cell_type": "code",
   "execution_count": null,
   "metadata": {
    "collapsed": false
   },
   "outputs": [],
   "source": [
    "# Get the RA/DEC in degrees of the point\n",
    "img.pixtoradec(p.x, p.y)"
   ]
  },
  {
   "cell_type": "code",
   "execution_count": null,
   "metadata": {
    "collapsed": false
   },
   "outputs": [],
   "source": [
    "# Get RA/DEC in H M S sign D M S\n",
    "img.pixtoradec(p.x, p.y, format='hms')"
   ]
  },
  {
   "cell_type": "code",
   "execution_count": null,
   "metadata": {
    "collapsed": false
   },
   "outputs": [],
   "source": [
    "# Get RA/DEC in classical string notation\n",
    "img.pixtoradec(p.x, p.y, format='str')"
   ]
  },
  {
   "cell_type": "code",
   "execution_count": null,
   "metadata": {
    "collapsed": false
   },
   "outputs": [],
   "source": [
    "# Verify we have a valid coordinate system defined\n",
    "img.wcs.coordsys"
   ]
  },
  {
   "cell_type": "code",
   "execution_count": null,
   "metadata": {
    "collapsed": false
   },
   "outputs": [],
   "source": [
    "# Get viewer model holding data\n",
    "image = v1.get_image()\n",
    "image.get_minmax()"
   ]
  },
  {
   "cell_type": "code",
   "execution_count": null,
   "metadata": {
    "collapsed": false
   },
   "outputs": [],
   "source": [
    "# get viewer data\n",
    "data_np = image.get_data()\n",
    "import numpy as np\n",
    "np.mean(data_np)"
   ]
  },
  {
   "cell_type": "code",
   "execution_count": null,
   "metadata": {
    "collapsed": false
   },
   "outputs": [],
   "source": [
    "# Set viewer cut levels\n",
    "v1.cut_levels(0, 5)"
   ]
  },
  {
   "cell_type": "code",
   "execution_count": null,
   "metadata": {
    "collapsed": false
   },
   "outputs": [],
   "source": [
    "# set a color map on the viewer \n",
    "v1.set_color_map('smooth')"
   ]
  },
  {
   "cell_type": "code",
   "execution_count": null,
   "metadata": {
    "collapsed": false
   },
   "outputs": [],
   "source": [
    "# Image will appear in this output\n",
    "v1.show()"
   ]
  },
  {
   "cell_type": "code",
   "execution_count": null,
   "metadata": {
    "collapsed": false
   },
   "outputs": [],
   "source": [
    "# Set color distribution algorithm\n",
    "# choices: linear, log, power, sqrt, squared, asinh, sinh, histeq, \n",
    "v1.set_color_algorithm('linear')"
   ]
  },
  {
   "cell_type": "code",
   "execution_count": null,
   "metadata": {
    "collapsed": false
   },
   "outputs": [],
   "source": [
    "# Example of setting another draw type.\n",
    "canvas.delete_all_objects()\n",
    "canvas.set_drawtype('rectangle', color='green')"
   ]
  },
  {
   "cell_type": "markdown",
   "metadata": {},
   "source": [
    "Now right-drag to draw a *small* rectangle in the Ginga image.\n",
    "Remember: On a single button pointing device, press and release spacebar, then click and drag.\n",
    "\n",
    "Try to include some objects. \n"
   ]
  },
  {
   "cell_type": "code",
   "execution_count": null,
   "metadata": {
    "collapsed": false
   },
   "outputs": [],
   "source": [
    "# Find approximate bright peaks in a sub-area\n",
    "from ginga.util import iqcalc\n",
    "iq = iqcalc.IQCalc()\n",
    "\n",
    "img = v1.get_image()\n",
    "r = canvas.objects[0]\n",
    "data = img.cutout_shape(r)\n",
    "peaks = iq.find_bright_peaks(data)\n",
    "peaks[:20]"
   ]
  },
  {
   "cell_type": "code",
   "execution_count": null,
   "metadata": {
    "collapsed": false
   },
   "outputs": [],
   "source": [
    "# evaluate peaks to get FWHM, center of each peak, etc.\n",
    "objs = iq.evaluate_peaks(peaks, data)\n",
    "# how many did we find with standard thresholding, etc.\n",
    "# see params for find_bright_peaks() and evaluate_peaks() for details\n",
    "len(objs)"
   ]
  },
  {
   "cell_type": "code",
   "execution_count": null,
   "metadata": {
    "collapsed": false
   },
   "outputs": [],
   "source": [
    "# example of what is returned\n",
    "o1 = objs[0]\n",
    "o1"
   ]
  },
  {
   "cell_type": "code",
   "execution_count": null,
   "metadata": {
    "collapsed": false
   },
   "outputs": [],
   "source": [
    "# pixel coords are for cutout, so add back in origin of cutout\n",
    "#  to get full data coords RA, DEC of first object\n",
    "x1, y1, x2, y2 = r.get_llur()\n",
    "img.pixtoradec(x1+o1.objx, y1+o1.objy)"
   ]
  },
  {
   "cell_type": "code",
   "execution_count": null,
   "metadata": {
    "collapsed": false
   },
   "outputs": [],
   "source": [
    "# Draw circles around all objects\n",
    "Circle = canvas.get_draw_class('circle')\n",
    "for obj in objs:\n",
    "    x, y = x1+obj.objx, y1+obj.objy\n",
    "    if r.contains(x, y):\n",
    "        canvas.add(Circle(x, y, radius=100, color='yellow'))\n",
    "        \n",
    "# set pan and zoom to center\n",
    "v1.set_pan((x1+x2)/2, (y1+y2)/2)\n",
    "v1.scale_to(0.75, 0.75)"
   ]
  },
  {
   "cell_type": "code",
   "execution_count": null,
   "metadata": {
    "collapsed": false
   },
   "outputs": [],
   "source": [
    "v1.show()"
   ]
  },
  {
   "cell_type": "markdown",
   "metadata": {},
   "source": [
    "How about some plots...?"
   ]
  },
  {
   "cell_type": "code",
   "execution_count": null,
   "metadata": {
    "collapsed": false
   },
   "outputs": [],
   "source": [
    "# swap XY, flip Y, change colormap back to \"ramp\"\n",
    "v1.set_color_map('gray')\n",
    "v1.transform(False, True, True)\n",
    "v1.auto_levels()"
   ]
  },
  {
   "cell_type": "code",
   "execution_count": null,
   "metadata": {
    "collapsed": false
   },
   "outputs": [],
   "source": [
    "# Programmatically add a line along the figure at designated coordinates\n",
    "canvas.delete_all_objects()\n",
    "Line = canvas.get_draw_class('line')\n",
    "l1 = Line(0, 585, 250, 585)\n",
    "tag = canvas.add(l1)"
   ]
  },
  {
   "cell_type": "code",
   "execution_count": null,
   "metadata": {
    "collapsed": false
   },
   "outputs": [],
   "source": [
    "# Set the pan position and zoom to 1:1.  Show what we did.\n",
    "v1.set_pan(125, 512)\n",
    "v1.scale_to(1.0, 1.0)"
   ]
  },
  {
   "cell_type": "code",
   "execution_count": null,
   "metadata": {
    "collapsed": false
   },
   "outputs": [],
   "source": [
    "v1.show()"
   ]
  },
  {
   "cell_type": "code",
   "execution_count": null,
   "metadata": {
    "collapsed": false
   },
   "outputs": [],
   "source": [
    "# Get the pixel values along this line\n",
    "img = v1.get_image()\n",
    "values = img.get_pixels_on_line(l1.x1, l1.y1, l1.x2, l1.y2)\n",
    "values[:10]"
   ]
  },
  {
   "cell_type": "code",
   "execution_count": null,
   "metadata": {
    "collapsed": false
   },
   "outputs": [],
   "source": [
    "# Plot the 'cuts'\n",
    "%matplotlib inline\n",
    "import matplotlib\n",
    "import matplotlib.pyplot as plt\n",
    "plt.cla()\n",
    "plt.plot(values)\n",
    "plt.ylabel('Pixel value')\n",
    "\n",
    "plt.show()"
   ]
  },
  {
   "cell_type": "code",
   "execution_count": null,
   "metadata": {
    "collapsed": false
   },
   "outputs": [],
   "source": [
    "# Plot the cuts that we will draw interactively\n",
    "canvas.delete_all_objects()\n",
    "canvas.set_drawtype('line')"
   ]
  },
  {
   "cell_type": "markdown",
   "metadata": {},
   "source": [
    "Now draw a line through the image (remember to use right mouse btn or else press space bar first)"
   ]
  },
  {
   "cell_type": "code",
   "execution_count": null,
   "metadata": {
    "collapsed": false
   },
   "outputs": [],
   "source": [
    "# show our line we drew\n",
    "v1.show()"
   ]
  },
  {
   "cell_type": "code",
   "execution_count": null,
   "metadata": {
    "collapsed": false
   },
   "outputs": [],
   "source": [
    "def getplot(v1):\n",
    "    l1 = canvas.objects[0]\n",
    "    img = v1.get_image()\n",
    "    values = img.get_pixels_on_line(l1.x1, l1.y1, l1.x2, l1.y2)\n",
    "    plt.cla()\n",
    "    \n",
    "    plt.plot(values)\n",
    "    plt.ylabel('Pixel value')\n",
    "    plt.show()"
   ]
  },
  {
   "cell_type": "code",
   "execution_count": null,
   "metadata": {
    "collapsed": false,
    "scrolled": true
   },
   "outputs": [],
   "source": [
    "getplot(v1)"
   ]
  },
  {
   "cell_type": "markdown",
   "metadata": {},
   "source": [
    "## Other ways of loading data"
   ]
  },
  {
   "cell_type": "code",
   "execution_count": null,
   "metadata": {
    "collapsed": false
   },
   "outputs": [],
   "source": [
    "# make some random data in a numpy array\n",
    "import numpy as np\n",
    "import random\n",
    "data_np = np.random.rand(512, 512)"
   ]
  },
  {
   "cell_type": "code",
   "execution_count": null,
   "metadata": {
    "collapsed": false
   },
   "outputs": [],
   "source": [
    "# example of loading numpy data directly to the viewer\n",
    "v1.load_data(data_np)\n",
    "v1.show()"
   ]
  },
  {
   "cell_type": "markdown",
   "metadata": {},
   "source": [
    "Th-th-th-that's all folks!"
   ]
  },
  {
   "cell_type": "markdown",
   "metadata": {},
   "source": [
    "## Requirements"
   ]
  },
  {
   "cell_type": "markdown",
   "metadata": {},
   "source": [
    "Needed packages for this notebook:\n",
    "\n",
    "- [`ginga`](https://github.com/ejeschke/ginga), jupyter/ipython w/notebook feature\n",
    "- typical scientific python reqs: `numpy`, `scipy`, `astropy`\n",
    "- for drawing, you will need either PIL/pillow, OpenCv or the [`aggdraw` module](https://github.com/ejeschke/aggdraw) module (python 2 only).  PIL is included in anaconda, so is usually all you need.\n",
    "- optional, but highly recommended: `webbrowser`, OpenCv\n",
    "\n",
    "Latest Ginga documentation, including detailed installation instructions, can be found [here](http://ginga.readthedocs.io/en/latest/)."
   ]
  }
 ],
 "metadata": {
  "kernelspec": {
   "display_name": "Python 3",
   "language": "python",
   "name": "python3"
  },
  "language_info": {
   "codemirror_mode": {
    "name": "ipython",
    "version": 3
   },
   "file_extension": ".py",
   "mimetype": "text/x-python",
   "name": "python",
   "nbconvert_exporter": "python",
   "pygments_lexer": "ipython3",
   "version": "3.5.2"
  }
 },
 "nbformat": 4,
 "nbformat_minor": 0
}
