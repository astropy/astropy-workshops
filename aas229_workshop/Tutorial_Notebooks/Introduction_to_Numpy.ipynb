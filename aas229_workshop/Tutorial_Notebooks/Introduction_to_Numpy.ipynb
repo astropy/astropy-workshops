{
 "cells": [
  {
   "cell_type": "markdown",
   "metadata": {
    "slideshow": {
     "slide_type": "slide"
    }
   },
   "source": [
    "These lecture notebooks are here:\n",
    "\n",
    "https://github.com/spacetelescope/pylunch/tree/master/session3\n",
    "\n",
    "A prettified version is here:\n",
    "\n",
    "http://spacetelescope.github.io/pylunch\n",
    "\n",
    "If you have not yet signed to the mailing list, please do so here:\n",
    "\n",
    "http://bit.ly/stsci-pylunch-signup\n",
    "\n",
    "If you want to do a more challenging set of exercises:\n",
    "\n",
    "https://github.com/spacetelescope/pylunch/blob/master/session3/numpy100-qs.ipynb"
   ]
  },
  {
   "cell_type": "markdown",
   "metadata": {
    "slideshow": {
     "slide_type": "slide"
    }
   },
   "source": [
    "# Numpy\n",
    "\n",
    "NumPy is an acronym for \"Numeric Python\" or \"Numerical Python\". It is an open source extension module for Python, which provides fast precompiled functions for mathematical and numerical routines. Furthermore, NumPy enriches the programming language Python with powerful data structures for efficient computation of multi-dimensional arrays and matrices. The implementation is even aiming at huge matrices and arrays. Besides that the module supplies a large library of high-level mathematical functions to operate on these matrices and arrays.\n",
    "\n",
    "Important subtle difference from e.g., MATLAB or IDL: numpy arrays are *not* part of the core language.  So they can be developed, extend, and modified without installing a new python."
   ]
  },
  {
   "cell_type": "markdown",
   "metadata": {
    "slideshow": {
     "slide_type": "fragment"
    }
   },
   "source": [
    "<img src=\"numpy.png\" style=\"background:none; border:none; box-shadow:none; display:inline; margin:0; vertical-align:middle;\" width=\"100%\">"
   ]
  },
  {
   "cell_type": "markdown",
   "metadata": {
    "slideshow": {
     "slide_type": "slide"
    }
   },
   "source": [
    "Advantages of using Numpy with Python:\n",
    "\n",
    "- array-oriented computing\n",
    "- efficiently implemented multi-dimensional arrays\n",
    "- designed for scientific computation\n",
    "\n",
    "But before we dive into Numpy, let's take a detour through Python data types...\n"
   ]
  },
  {
   "cell_type": "markdown",
   "metadata": {
    "slideshow": {
     "slide_type": "slide"
    }
   },
   "source": [
    "## Python Data Types\n",
    "\n",
    "Python has five standard data types. \n",
    "\n",
    "- Number\n",
    "- String\n",
    "- List \n",
    "- Tuple\n",
    "- Dictionary"
   ]
  },
  {
   "cell_type": "code",
   "execution_count": 29,
   "metadata": {
    "collapsed": false,
    "slideshow": {
     "slide_type": "slide"
    }
   },
   "outputs": [
    {
     "name": "stdout",
     "output_type": "stream",
     "text": [
      "Integer: 5 <class 'int'>\n",
      "Long integer: 51924361948403939480293840938 <class 'int'>\n",
      "Float 10.7 <class 'float'>\n",
      "Boolean:  True <class 'bool'>\n",
      "Complex: 9.322e-36j <class 'complex'>\n"
     ]
    }
   ],
   "source": [
    "# Numbers can be integers (including long), float, complex or boolean\n",
    "a = 5\n",
    "print('Integer:', a, type(a))\n",
    "\n",
    "b = 51924361948403939480293840938\n",
    "print('Long integer:', b, type(b))\n",
    "\n",
    "c = 10.7\n",
    "print('Float', c, type(c))\n",
    "\n",
    "t, f = True, False\n",
    "print('Boolean: ',t, type(t))\n",
    "\n",
    "d = 9.322e-36j\n",
    "print('Complex:', d, type(d))"
   ]
  },
  {
   "cell_type": "code",
   "execution_count": 30,
   "metadata": {
    "collapsed": false,
    "slideshow": {
     "slide_type": "slide"
    }
   },
   "outputs": [
    {
     "name": "stdout",
     "output_type": "stream",
     "text": [
      "A moose once bit my sister.\n"
     ]
    }
   ],
   "source": [
    "# Strings are straight-forward as we saw with 'Hellow World!'\n",
    "\n",
    "string = 'A moose once bit my sister.'\n",
    "print(string)"
   ]
  },
  {
   "cell_type": "code",
   "execution_count": 31,
   "metadata": {
    "collapsed": false,
    "slideshow": {
     "slide_type": "slide"
    }
   },
   "outputs": [
    {
     "name": "stdout",
     "output_type": "stream",
     "text": [
      "[1.2, 23.6, 'foo', 11]\n",
      "[1.2, 23.6, 'foo', 11, 'temp']\n",
      "6\n"
     ]
    }
   ],
   "source": [
    "# Lists are the ones most similar to arrays, but not quite.\n",
    "ll = [1.2, 23.6, 'foo', 11] ### <---- lists use square brackets!\n",
    "print(ll)\n",
    "\n",
    "# Lists are easy to append! Use in cases where you do not know the size of the input array!\n",
    "ll.append('temp')\n",
    "print(ll)\n",
    "\n",
    "import numpy as np\n",
    "tt = np.random.rand(20)\n",
    "num = []\n",
    "for t in tt:\n",
    "    if t > 0.5:\n",
    "        num.append(t)\n",
    "        \n",
    "print(len(num))"
   ]
  },
  {
   "cell_type": "code",
   "execution_count": 32,
   "metadata": {
    "collapsed": false,
    "slideshow": {
     "slide_type": "slide"
    }
   },
   "outputs": [
    {
     "name": "stdout",
     "output_type": "stream",
     "text": [
      "(1, 2, 3, 6.7) <class 'tuple'>\n"
     ]
    }
   ],
   "source": [
    "# Tuples: similar to lists, but have an interesting quality: once created they cannot be changed.\n",
    "# i.e., they are \"immutable\", they cannot be sorted, appended, etc.\n",
    "# This is good for certain cases (e.g. they can be keys to a dictionary, let you \"protect\" data), \n",
    "# but generally are useful for scientific computing than lists/arrays\n",
    "\n",
    "tup = (1,2,3,6.7) ### <---- use rounded brackets for tuples\n",
    "print(tup, type(tup))"
   ]
  },
  {
   "cell_type": "code",
   "execution_count": 33,
   "metadata": {
    "collapsed": false,
    "slideshow": {
     "slide_type": "slide"
    }
   },
   "outputs": [
    {
     "name": "stdout",
     "output_type": "stream",
     "text": [
      "{'key': 2, 'lock': 1}\n"
     ]
    }
   ],
   "source": [
    "# Dictionaries: we are just mentioning here that they exist. More elsewhere.\n",
    "\n",
    "dd = {}\n",
    "dd['lock'] = 1\n",
    "dd['key'] = 2\n",
    "print(dd)"
   ]
  },
  {
   "cell_type": "markdown",
   "metadata": {
    "slideshow": {
     "slide_type": "slide"
    }
   },
   "source": [
    "## Numpy Data Types\n",
    "\n",
    "Numpy arrays are a different data type, beyond the five above: the ndarray. Numpy arrays can only contain one type of data but there are lots of options as to what that type is. A full list of Numpy data types can be found here:\n",
    "\n",
    "http://docs.scipy.org/doc/numpy/user/basics.types.html\n",
    "\n",
    "- Always use the smallest data type that is appropriate for your data.\n",
    "- Do not append to numpy arrays: it is hugely inefficient!  This is what `list`s are good for.\n"
   ]
  },
  {
   "cell_type": "markdown",
   "metadata": {
    "slideshow": {
     "slide_type": "slide"
    }
   },
   "source": [
    "## Array Creation\n",
    "\n",
    "Full list is here:\n",
    "http://docs.scipy.org/doc/numpy-1.10.1/reference/routines.array-creation.html"
   ]
  },
  {
   "cell_type": "code",
   "execution_count": 67,
   "metadata": {
    "collapsed": false,
    "slideshow": {
     "slide_type": "slide"
    }
   },
   "outputs": [
    {
     "data": {
      "text/plain": [
       "array([ 0.,  1.,  2.,  3.,  4.,  5.,  6.,  7.,  8.,  9.])"
      ]
     },
     "execution_count": 67,
     "metadata": {},
     "output_type": "execute_result"
    }
   ],
   "source": [
    "# values evenly spaced within an interval, specify the STEP:\n",
    "# np.arange(start, stop, step)\n",
    "np.arange(0,10,1, dtype=np.float) # if you don't specify the data type, Python will use the one that takes the least space"
   ]
  },
  {
   "cell_type": "code",
   "execution_count": 68,
   "metadata": {
    "collapsed": false,
    "slideshow": {
     "slide_type": "slide"
    }
   },
   "outputs": [
    {
     "data": {
      "text/plain": [
       "array([0, 1, 2, 3, 4, 5, 6, 7, 8, 9])"
      ]
     },
     "execution_count": 68,
     "metadata": {},
     "output_type": "execute_result"
    }
   ],
   "source": [
    "# values evenly spaced within an interval, specify the NUMBER OF VALUES:\n",
    "# np.linspace(star, stop, num=10)\n",
    "np.linspace(0,9,10, dtype=np.int)\n",
    "\n",
    "# there is also np.logspace\n",
    "#np.logspace(0,1,10)"
   ]
  },
  {
   "cell_type": "code",
   "execution_count": 69,
   "metadata": {
    "collapsed": false,
    "slideshow": {
     "slide_type": "slide"
    }
   },
   "outputs": [
    {
     "data": {
      "text/plain": [
       "array([1, 2, 3, 4, 5])"
      ]
     },
     "execution_count": 69,
     "metadata": {},
     "output_type": "execute_result"
    }
   ],
   "source": [
    "# create array from existing data:\n",
    "\n",
    "a = [1,2,3,4,5]\n",
    "b = np.array(a)\n",
    "b"
   ]
  },
  {
   "cell_type": "code",
   "execution_count": 70,
   "metadata": {
    "collapsed": false,
    "slideshow": {
     "slide_type": "slide"
    }
   },
   "outputs": [
    {
     "name": "stdout",
     "output_type": "stream",
     "text": [
      "Ones: [ 1.  1.  1.  1.  1.  1.  1.  1.  1.  1.]\n",
      "Zeros: [ 0.  0.  0.  0.  0.  0.  0.  0.  0.  0.]\n",
      "Empty: ['' '' '' '' '' '' '' '' '' '']\n"
     ]
    }
   ],
   "source": [
    "# another way to get a pre-filled array is to set all values to ones, zeros, or leave them empty:\n",
    "a = np.ones(10)\n",
    "print('Ones:', a)\n",
    "\n",
    "b = np.zeros(10)\n",
    "print('Zeros:', b)\n",
    "\n",
    "c = np.empty(10, dtype=np.str)\n",
    "print('Empty:', c)\n"
   ]
  },
  {
   "cell_type": "code",
   "execution_count": 73,
   "metadata": {
    "collapsed": false,
    "scrolled": true,
    "slideshow": {
     "slide_type": "slide"
    }
   },
   "outputs": [
    {
     "name": "stdout",
     "output_type": "stream",
     "text": [
      "Zeros:  [[ 0.  0.  0.]\n",
      " [ 0.  0.  0.]\n",
      " [ 0.  0.  0.]]\n",
      "Ones:  [[ 1.  1.  1.]\n",
      " [ 1.  1.  1.]\n",
      " [ 1.  1.  1.]]\n",
      "Empty:  [[ 0.  0.  0.]\n",
      " [ 0.  0.  0.]\n",
      " [ 0.  0.  0.]]\n"
     ]
    }
   ],
   "source": [
    "# if you already have an array A and want one that is the same size but with different values,\n",
    "# here are a couple handy ways to accomplish this\n",
    "\n",
    "a = [[1,2,3],[4,5,6],[7,8,9]]\n",
    "\n",
    "b = np.zeros_like(a, dtype=np.float)\n",
    "print('Zeros: ', b)\n",
    "\n",
    "c = np.ones_like(a, dtype=np.float)\n",
    "print('Ones: ', c)\n",
    "\n",
    "d = np.empty_like(a, dtype=np.float)\n",
    "print('Empty: ', d)\n"
   ]
  },
  {
   "cell_type": "markdown",
   "metadata": {
    "slideshow": {
     "slide_type": "slide"
    }
   },
   "source": [
    "You can explore other options on your own."
   ]
  },
  {
   "cell_type": "markdown",
   "metadata": {
    "slideshow": {
     "slide_type": "slide"
    }
   },
   "source": [
    "## Numpy Exercises"
   ]
  },
  {
   "cell_type": "markdown",
   "metadata": {
    "slideshow": {
     "slide_type": "-"
    }
   },
   "source": [
    "__1)__ Create a one-dimensional array, print the `length` and `shape` of the array"
   ]
  },
  {
   "cell_type": "code",
   "execution_count": null,
   "metadata": {
    "collapsed": true,
    "slideshow": {
     "slide_type": "skip"
    }
   },
   "outputs": [],
   "source": []
  },
  {
   "cell_type": "markdown",
   "metadata": {
    "slideshow": {
     "slide_type": "subslide"
    }
   },
   "source": [
    "__2)__ Create a two-dimensional array, print the `length` and `shape` of the array"
   ]
  },
  {
   "cell_type": "code",
   "execution_count": null,
   "metadata": {
    "collapsed": true,
    "slideshow": {
     "slide_type": "skip"
    }
   },
   "outputs": [],
   "source": []
  },
  {
   "cell_type": "markdown",
   "metadata": {
    "slideshow": {
     "slide_type": "subslide"
    }
   },
   "source": [
    "__3)__ Add the two arrays created above -- what happens?"
   ]
  },
  {
   "cell_type": "code",
   "execution_count": null,
   "metadata": {
    "collapsed": true,
    "slideshow": {
     "slide_type": "skip"
    }
   },
   "outputs": [],
   "source": []
  },
  {
   "cell_type": "markdown",
   "metadata": {
    "slideshow": {
     "slide_type": "subslide"
    }
   },
   "source": [
    "__4)__ Create a 100 x 100 array of integers, and trim off the top/bottom rows, and left/right columns"
   ]
  },
  {
   "cell_type": "code",
   "execution_count": null,
   "metadata": {
    "collapsed": true,
    "slideshow": {
     "slide_type": "skip"
    }
   },
   "outputs": [],
   "source": []
  },
  {
   "cell_type": "markdown",
   "metadata": {
    "slideshow": {
     "slide_type": "subslide"
    }
   },
   "source": [
    "__5)__ Write out and use an index array to select out positive values from this array\n",
    "\n",
    "    np.array([1, -1, -2, 3, -5])"
   ]
  },
  {
   "cell_type": "code",
   "execution_count": null,
   "metadata": {
    "collapsed": true,
    "slideshow": {
     "slide_type": "skip"
    }
   },
   "outputs": [],
   "source": []
  },
  {
   "cell_type": "markdown",
   "metadata": {
    "slideshow": {
     "slide_type": "subslide"
    }
   },
   "source": [
    "__6)__ Experiment with `arange`, `ones`, and `zeros` to create arrays of different shapes"
   ]
  },
  {
   "cell_type": "code",
   "execution_count": null,
   "metadata": {
    "collapsed": true,
    "slideshow": {
     "slide_type": "skip"
    }
   },
   "outputs": [],
   "source": []
  },
  {
   "cell_type": "markdown",
   "metadata": {
    "slideshow": {
     "slide_type": "subslide"
    }
   },
   "source": [
    "__7)__ Using a boolean array mask, select out the elements of the following array between 5 and 10:\n",
    "\n",
    "    np.array([0.6429498677659073, 1.150547235455569, 1.1915607017440888, 8.283179653420964, 5.1635384867953595, 8.06221365954315, 5.941607350505754, 9.426996923221827, 9.828300195624534, 8.061581259382875, 9.350471376998248, 2.5337332496612266, 3.8933693630535062, 7.854245437743151, 0.7965058455412621, 2.7207245408915623, 4.693244676240291, 1.3620057998648716, 8.880004623574631, 6.504379354779315])"
   ]
  },
  {
   "cell_type": "code",
   "execution_count": null,
   "metadata": {
    "collapsed": true,
    "slideshow": {
     "slide_type": "skip"
    }
   },
   "outputs": [],
   "source": []
  },
  {
   "cell_type": "markdown",
   "metadata": {
    "slideshow": {
     "slide_type": "slide"
    }
   },
   "source": [
    "## Boolean Array Indexing or Why You Should Never Use np.where\n",
    "\n",
    "If you come from IDL, you probably LOVE the \"where\" function. A similar function exists in Numpy:"
   ]
  },
  {
   "cell_type": "code",
   "execution_count": 39,
   "metadata": {
    "collapsed": false,
    "slideshow": {
     "slide_type": "subslide"
    }
   },
   "outputs": [
    {
     "name": "stdout",
     "output_type": "stream",
     "text": [
      "Indexes:  (array([10, 11, 12, 13, 14, 15, 16, 17, 18, 19]),)\n",
      "Selection:  [ 10.52631579  11.57894737  12.63157895  13.68421053  14.73684211\n",
      "  15.78947368  16.84210526  17.89473684  18.94736842  20.        ]\n"
     ]
    }
   ],
   "source": [
    "ll = np.linspace(0,20,20)\n",
    "idx = np.where(ll > 10)\n",
    "print('Indexes: ', idx)\n",
    "print('Selection: ', ll[idx])"
   ]
  },
  {
   "cell_type": "markdown",
   "metadata": {
    "slideshow": {
     "slide_type": "subslide"
    }
   },
   "source": [
    "But. You should not use it. Why? Because boolean arrays."
   ]
  },
  {
   "cell_type": "code",
   "execution_count": 40,
   "metadata": {
    "collapsed": false,
    "slideshow": {
     "slide_type": "subslide"
    }
   },
   "outputs": [
    {
     "data": {
      "text/plain": [
       "array([False, False, False,  True,  True,  True], dtype=bool)"
      ]
     },
     "execution_count": 40,
     "metadata": {},
     "output_type": "execute_result"
    }
   ],
   "source": [
    "a = np.array([1,2,3,5,8,13])\n",
    "a > 3 # the result is a boolean array!"
   ]
  },
  {
   "cell_type": "code",
   "execution_count": 47,
   "metadata": {
    "collapsed": false,
    "scrolled": true,
    "slideshow": {
     "slide_type": "subslide"
    }
   },
   "outputs": [
    {
     "name": "stdout",
     "output_type": "stream",
     "text": [
      "[ True False False  True  True  True]\n",
      "[False False  True  True  True False]\n"
     ]
    }
   ],
   "source": [
    "# expressions can be combined: \n",
    "# \"|\" == \"or\"\n",
    "# \"&\" == \"and\"\n",
    "# must use | and & with numpy arrays\n",
    "\n",
    "print((a > 3) | (a == 1))\n",
    "\n",
    "print((a > 2) & (a < 10))"
   ]
  },
  {
   "cell_type": "code",
   "execution_count": 48,
   "metadata": {
    "collapsed": false,
    "slideshow": {
     "slide_type": "subslide"
    }
   },
   "outputs": [
    {
     "data": {
      "text/plain": [
       "array([False, False,  True], dtype=bool)"
      ]
     },
     "execution_count": 48,
     "metadata": {},
     "output_type": "execute_result"
    }
   ],
   "source": [
    "# \"~\" is the inverse operator:\n",
    "~np.array([True, True, False])"
   ]
  },
  {
   "cell_type": "code",
   "execution_count": null,
   "metadata": {
    "collapsed": true,
    "slideshow": {
     "slide_type": "subslide"
    }
   },
   "outputs": [],
   "source": [
    "# How is this useful? \n",
    "\n",
    "idx = (ra > 11.1324) & (ra < 31.5134)\n",
    "selected = ra[idx]\n",
    "not_selected = ra[~idx]"
   ]
  },
  {
   "cell_type": "code",
   "execution_count": 1,
   "metadata": {
    "collapsed": false,
    "slideshow": {
     "slide_type": "subslide"
    }
   },
   "outputs": [],
   "source": [
    "x = np.random.randn(100000)"
   ]
  },
  {
   "cell_type": "code",
   "execution_count": 2,
   "metadata": {
    "collapsed": false,
    "slideshow": {
     "slide_type": "-"
    }
   },
   "outputs": [
    {
     "name": "stdout",
     "output_type": "stream",
     "text": [
      "The slowest run took 6.62 times longer than the fastest. This could mean that an intermediate result is being cached.\n",
      "10000 loops, best of 3: 96.7 µs per loop\n"
     ]
    }
   ],
   "source": [
    "%timeit np.where(x<3)"
   ]
  },
  {
   "cell_type": "code",
   "execution_count": 3,
   "metadata": {
    "collapsed": false,
    "slideshow": {
     "slide_type": "-"
    }
   },
   "outputs": [
    {
     "name": "stdout",
     "output_type": "stream",
     "text": [
      "The slowest run took 6.38 times longer than the fastest. This could mean that an intermediate result is being cached.\n",
      "10000 loops, best of 3: 28.3 µs per loop\n"
     ]
    }
   ],
   "source": [
    "%timeit x<0"
   ]
  },
  {
   "cell_type": "markdown",
   "metadata": {
    "slideshow": {
     "slide_type": "slide"
    }
   },
   "source": [
    "## Numpy Array Indexing\n",
    "\n",
    "- zero-indexed\n",
    "- non-inclusiveness\n",
    "- y1:y2, x1:x2"
   ]
  },
  {
   "cell_type": "markdown",
   "metadata": {
    "slideshow": {
     "slide_type": "slide"
    }
   },
   "source": [
    "## Other Handy Numpy Functions"
   ]
  },
  {
   "cell_type": "code",
   "execution_count": null,
   "metadata": {
    "collapsed": true,
    "slideshow": {
     "slide_type": "fragment"
    }
   },
   "outputs": [],
   "source": [
    "# Randoms\n",
    "# https://docs.scipy.org/doc/numpy-dev/reference/routines.random.html"
   ]
  },
  {
   "cell_type": "code",
   "execution_count": null,
   "metadata": {
    "collapsed": true,
    "slideshow": {
     "slide_type": "fragment"
    }
   },
   "outputs": [],
   "source": [
    "# Linear algebra:\n",
    "# https://docs.scipy.org/doc/numpy-dev/reference/routines.linalg.html"
   ]
  },
  {
   "cell_type": "code",
   "execution_count": null,
   "metadata": {
    "collapsed": true,
    "slideshow": {
     "slide_type": "fragment"
    }
   },
   "outputs": [],
   "source": [
    "# Stats\n",
    "# https://docs.scipy.org/doc/numpy-dev/reference/routines.statistics.html"
   ]
  },
  {
   "cell_type": "markdown",
   "metadata": {
    "slideshow": {
     "slide_type": "slide"
    }
   },
   "source": [
    "## Other Resources\n",
    "\n",
    "- Numpy documentation:\n",
    "\n",
    "http://docs.scipy.org/doc/numpy/\n",
    "\n",
    "- Numpy documentation quickstart:\n",
    "\n",
    "http://docs.scipy.org/doc/numpy/user/quickstart.html\n",
    "\n",
    "- Numpy documentation basics:\n",
    "\n",
    "http://docs.scipy.org/doc/numpy/user/basics.html\n",
    "\n",
    "- Good Tutorial:\n",
    "\n",
    "http://www.python-course.eu/numpy.php\n",
    "\n",
    "- Another tutorial, which has a similar approach to ours:\n",
    "\n",
    "http://cs231n.github.io/python-numpy-tutorial/"
   ]
  },
  {
   "cell_type": "markdown",
   "metadata": {
    "slideshow": {
     "slide_type": "skip"
    }
   },
   "source": [
    "To actually show this as a presentation, the easiest thing is to do ``jupyter nbconvert --to slides <this file's name>.ipynb --post serve``"
   ]
  },
  {
   "cell_type": "raw",
   "metadata": {
    "slideshow": {
     "slide_type": "skip"
    }
   },
   "source": [
    "<!--<link rel=\"stylesheet\" href=\"reveal.js/css/theme/sky.css\" id=\"theme\">-->"
   ]
  }
 ],
 "metadata": {
  "anaconda-cloud": {},
  "celltoolbar": "Slideshow",
  "kernelspec": {
   "display_name": "Python [default]",
   "language": "python",
   "name": "python3"
  },
  "language_info": {
   "codemirror_mode": {
    "name": "ipython",
    "version": 3
   },
   "file_extension": ".py",
   "mimetype": "text/x-python",
   "name": "python",
   "nbconvert_exporter": "python",
   "pygments_lexer": "ipython3",
   "version": "3.5.2"
  }
 },
 "nbformat": 4,
 "nbformat_minor": 0
}
