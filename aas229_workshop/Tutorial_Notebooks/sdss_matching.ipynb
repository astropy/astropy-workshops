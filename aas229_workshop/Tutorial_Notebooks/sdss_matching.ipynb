{
 "cells": [
  {
   "cell_type": "markdown",
   "metadata": {},
   "source": [
    "SDSS Cross-matching\n",
    "----\n",
    "Example of using astroquery to search the SDSS spectroscopy catalog and turn the result into a table with active links to the SDSS Object Explorer pages."
   ]
  },
  {
   "cell_type": "code",
   "execution_count": null,
   "metadata": {
    "collapsed": false
   },
   "outputs": [],
   "source": [
    "import numpy as np\n",
    "from astropy.table import Table\n",
    "from astropy import coordinates as coords\n",
    "from astropy import units as u"
   ]
  },
  {
   "cell_type": "markdown",
   "metadata": {},
   "source": [
    "### Note on Requirements\n",
    "Be sure that you have astroquery installed - that's an additional dependency for this tutorial beyond Astropy.  If you're following the instructions from the workshop you should have gotten it when you did an update.  But run this cell to check:"
   ]
  },
  {
   "cell_type": "code",
   "execution_count": null,
   "metadata": {
    "collapsed": false
   },
   "outputs": [],
   "source": [
    "from astroquery.sdss import SDSS"
   ]
  },
  {
   "cell_type": "markdown",
   "metadata": {},
   "source": [
    "If that fails, you'll want to try this from a terminal (and you'll need to go to \"Kernel->Restart\" after doing it):\n",
    "```\n",
    "conda install -c astropy astroquery\n",
    "```\n",
    "or if you're not using conda, you'll need to do:\n",
    "```\n",
    "pip install astroquery\n",
    "```"
   ]
  },
  {
   "cell_type": "markdown",
   "metadata": {},
   "source": [
    "Define the functions that will do the work"
   ]
  },
  {
   "cell_type": "code",
   "execution_count": null,
   "metadata": {
    "collapsed": false
   },
   "outputs": [],
   "source": [
    "# Take a list of targets and search for them in the SDSS database. Add the spectroscopic IDs to the table.\n",
    "def sdssquery(targets):\n",
    "    specobjid = []\n",
    "    for pos in targets['coords']:\n",
    "        try: \n",
    "            xid = SDSS.query_region(pos,data_release=12,spectro=True,radius=10*u.arcsec)\n",
    "            specobjid += [xid['specobjid'][0]]\n",
    "        except:\n",
    "            print(\"Not found: \",pos)\n",
    "    targets['specobjid'] = specobjid\n",
    "    return targets\n",
    "\n",
    "# Create a URL to the Explorer from a spectroscopic ID.\n",
    "def sdss_url(specobjid):\n",
    "    urlbase = \"http://skyserver.sdss.org/dr12/en/tools/explore/summary.aspx?\"\n",
    "    url = urlbase+\"sid=%d\" % (specobjid)\n",
    "    href = '<a href=%s> sdss </a>' % url\n",
    "    return href\n",
    "\n",
    "# Run the two functions defined above for all the targets\n",
    "def sdss(targets):\n",
    "    targets = sdssquery(targets)\n",
    "    targets['url'] = [sdss_url(sid) for sid in zip(targets['specobjid'])]\n",
    "    return targets"
   ]
  },
  {
   "cell_type": "markdown",
   "metadata": {},
   "source": [
    "For demonstration purposes, here is a table with three sources (known to be in the SDSS catalog). We're creating columns for ID, RA and Dec, and then we are adding a column that contains the coordinates as a SkyCoord object, which will be used for the catalog matching."
   ]
  },
  {
   "cell_type": "code",
   "execution_count": null,
   "metadata": {
    "collapsed": false
   },
   "outputs": [],
   "source": [
    "targets = Table()\n",
    "targets['ID'] = [133,229,222]\n",
    "targets['RA'] = [158.43144,195.36813,192.14461]\n",
    "targets['Dec'] = [63.888338,51.080956,12.567532]\n",
    "targets['coords']=coords.SkyCoord(targets['RA'],targets['Dec'],unit='deg',frame='icrs')\n",
    "targets"
   ]
  },
  {
   "cell_type": "markdown",
   "metadata": {},
   "source": [
    "Now cross-match this catalog with the SDSS and output the table in notebook format, including a URL to the SDSS Object Explorer page for each target. We have to do a little editing of the HTML to get this to render in the notebook (although there may now be a better way to do this in astropy). "
   ]
  },
  {
   "cell_type": "code",
   "execution_count": null,
   "metadata": {
    "collapsed": false
   },
   "outputs": [],
   "source": [
    "newtable = sdss(targets)\n",
    "ipy_html = newtable.show_in_notebook()\n",
    "# the show_in_notebook format has changed the HTML brackets to &lt and &gt; we need to change them back\n",
    "ipy_html.data = ipy_html.data.replace('&lt;','<')\n",
    "ipy_html.data = ipy_html.data.replace('&gt;','>')\n",
    "ipy_html"
   ]
  }
 ],
 "metadata": {
  "kernelspec": {
   "display_name": "Python 3",
   "language": "python",
   "name": "python3"
  },
  "language_info": {
   "codemirror_mode": {
    "name": "ipython",
    "version": 3
   },
   "file_extension": ".py",
   "mimetype": "text/x-python",
   "name": "python",
   "nbconvert_exporter": "python",
   "pygments_lexer": "ipython3",
   "version": "3.5.2"
  }
 },
 "nbformat": 4,
 "nbformat_minor": 0
}
