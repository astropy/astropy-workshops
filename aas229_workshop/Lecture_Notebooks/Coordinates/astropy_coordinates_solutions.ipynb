{
 "cells": [
  {
   "cell_type": "markdown",
   "metadata": {},
   "source": [
    "# Practical use of `astropy.coordinates` to Match Catalogs and Plan Observations"
   ]
  },
  {
   "cell_type": "markdown",
   "metadata": {},
   "source": [
    "In this tutorial (based on a similar tutorial from http://tutorials.astropy.org), we will explore how the `astropy.coordinates` package and related astropy functionality can be used to help in planning observations or other exercises focused on large coordinate catalogs.\n",
    "\n",
    "You may find it helpful to keep [the Astropy documentation for the coordinates package](http://docs.astropy.org/en/stable/coordinates/index.html) open along side this tutorial for reference/additional reading."
   ]
  },
  {
   "cell_type": "markdown",
   "metadata": {},
   "source": [
    "We start by importing various pieces we'll need below.  Don't worry if you're not sure what some of this does.  Hopefully it will become clearer later."
   ]
  },
  {
   "cell_type": "code",
   "execution_count": 1,
   "metadata": {
    "collapsed": false
   },
   "outputs": [],
   "source": [
    "import requests\n",
    "import IPython.display\n",
    "import numpy as np"
   ]
  },
  {
   "cell_type": "code",
   "execution_count": 2,
   "metadata": {
    "collapsed": false
   },
   "outputs": [],
   "source": [
    "%matplotlib inline\n",
    "from matplotlib import pyplot as plt"
   ]
  },
  {
   "cell_type": "code",
   "execution_count": 3,
   "metadata": {
    "collapsed": false
   },
   "outputs": [],
   "source": [
    "from astropy import units as u\n",
    "from astropy.coordinates import SkyCoord\n",
    "from astropy.table import Table"
   ]
  },
  {
   "cell_type": "markdown",
   "metadata": {},
   "source": [
    "## Describing on-sky locations with `coordinates`"
   ]
  },
  {
   "cell_type": "markdown",
   "metadata": {},
   "source": [
    "Let's start by considering a field around the picturesque Hickson Compact Group 7.  To do anything with this, we need to get an object that represents the coordinates of the center of this group.\n",
    "\n",
    "In Astropy, the most common object you'll work with for coordinates is `SkyCoord`.  A `SkyCoord` can be created most easily directly from angles as shown below.  It's also wise to explicitly specify the frame your coordinates are in, although this is not strictly necessary because the default is ICRS. \n",
    "\n",
    "(If you're not sure what ICRS is, it's basically safe to think of it as an approximation to an equatorial system at the J2000 equinox)."
   ]
  },
  {
   "cell_type": "code",
   "execution_count": 4,
   "metadata": {
    "collapsed": false
   },
   "outputs": [
    {
     "data": {
      "text/plain": [
       "<SkyCoord (ICRS): (ra, dec) in deg\n",
       "    (9.81625, 0.88806)>"
      ]
     },
     "execution_count": 4,
     "metadata": {},
     "output_type": "execute_result"
    }
   ],
   "source": [
    "hcg7_center = SkyCoord(9.81625*u.deg, 0.88806*u.deg, frame='icrs')\n",
    "hcg7_center"
   ]
  },
  {
   "cell_type": "markdown",
   "metadata": {},
   "source": [
    "SkyCoord will also accept string-formatted coordinates either as separate strings for ra/dec or a single string.  You'll have to give units, though, if they aren't part of the string itself."
   ]
  },
  {
   "cell_type": "code",
   "execution_count": 5,
   "metadata": {
    "collapsed": false
   },
   "outputs": [
    {
     "data": {
      "text/plain": [
       "<SkyCoord (ICRS): (ra, dec) in deg\n",
       "    (9.81625, 0.88806)>"
      ]
     },
     "execution_count": 5,
     "metadata": {},
     "output_type": "execute_result"
    }
   ],
   "source": [
    "SkyCoord('0h39m15.9s', '0d53m17.016s', frame='icrs')"
   ]
  },
  {
   "cell_type": "code",
   "execution_count": 6,
   "metadata": {
    "collapsed": false
   },
   "outputs": [
    {
     "data": {
      "text/plain": [
       "<SkyCoord (ICRS): (ra, dec) in deg\n",
       "    (9.81625, 0.88806)>"
      ]
     },
     "execution_count": 6,
     "metadata": {},
     "output_type": "execute_result"
    }
   ],
   "source": [
    "SkyCoord('0:39:15.9 0:53:17.016', unit=(u.hour, u.deg), frame='icrs')"
   ]
  },
  {
   "cell_type": "markdown",
   "metadata": {},
   "source": [
    "If the object you're interested in is in [SESAME](http://cdsweb.u-strasbg.fr/cgi-bin/Sesame), you can also look it up directly from its name using the `SkyCoord.from_name()` class method<sup>1</sup>. Note that this requires an internet connection.  It's safe to skip if you don't have one, because we defined it above explicitly.\n",
    "\n",
    "<sub> <sup>1</sup>If you don't know what a class method is, think of it like an alternative constructor for a `SkyCoord` object -- calling `SkyCoord.from_name()` with a name gives you a new `SkyCoord` object. For more detailed background on what class methods are and when they're useful, see [this page](https://julien.danjou.info/blog/2013/guide-python-static-class-abstract-methods).</sub>"
   ]
  },
  {
   "cell_type": "code",
   "execution_count": 7,
   "metadata": {
    "collapsed": false
   },
   "outputs": [
    {
     "data": {
      "text/plain": [
       "<SkyCoord (ICRS): (ra, dec) in deg\n",
       "    (9.81625, 0.88806)>"
      ]
     },
     "execution_count": 7,
     "metadata": {},
     "output_type": "execute_result"
    }
   ],
   "source": [
    "hcg7_center = SkyCoord.from_name('HCG 7')\n",
    "hcg7_center"
   ]
  },
  {
   "cell_type": "markdown",
   "metadata": {},
   "source": [
    "This object we just created has various useful ways of accessing the information contained within it.  In particular, the ``ra`` and ``dec`` attributes are specialized [``Quantity``](http://docs.astropy.org/en/stable/units/index.html) objects (actually, a subclass called [``Angle``](http://docs.astropy.org/en/stable/api/astropy.coordinates.Angle.html), which in turn is subclassed by [``Latitude``](http://docs.astropy.org/en/stable/api/astropy.coordinates.Latitude.html) and [``Longitude``](http://docs.astropy.org/en/stable/api/astropy.coordinates.Longitude.html)).  These objects store angles and provide pretty representations of those angles, as well as some useful attributes to quickly convert to common angle units:"
   ]
  },
  {
   "cell_type": "code",
   "execution_count": 8,
   "metadata": {
    "collapsed": false
   },
   "outputs": [
    {
     "data": {
      "text/plain": [
       "(astropy.coordinates.angles.Longitude, astropy.coordinates.angles.Latitude)"
      ]
     },
     "execution_count": 8,
     "metadata": {},
     "output_type": "execute_result"
    }
   ],
   "source": [
    "type(hcg7_center.ra), type(hcg7_center.dec)"
   ]
  },
  {
   "cell_type": "code",
   "execution_count": 9,
   "metadata": {
    "collapsed": false
   },
   "outputs": [
    {
     "data": {
      "text/latex": [
       "$0^\\circ53{}^\\prime17.016{}^{\\prime\\prime}$"
      ],
      "text/plain": [
       "<Latitude 0.88806 deg>"
      ]
     },
     "execution_count": 9,
     "metadata": {},
     "output_type": "execute_result"
    }
   ],
   "source": [
    "hcg7_center.dec"
   ]
  },
  {
   "cell_type": "code",
   "execution_count": 10,
   "metadata": {
    "collapsed": false
   },
   "outputs": [
    {
     "data": {
      "text/latex": [
       "$9^\\circ48{}^\\prime58.5{}^{\\prime\\prime}$"
      ],
      "text/plain": [
       "<Longitude 9.81625 deg>"
      ]
     },
     "execution_count": 10,
     "metadata": {},
     "output_type": "execute_result"
    }
   ],
   "source": [
    "hcg7_center.ra"
   ]
  },
  {
   "cell_type": "code",
   "execution_count": 11,
   "metadata": {
    "collapsed": false
   },
   "outputs": [
    {
     "data": {
      "text/plain": [
       "0.6544166666666668"
      ]
     },
     "execution_count": 11,
     "metadata": {},
     "output_type": "execute_result"
    }
   ],
   "source": [
    "hcg7_center.ra.hour"
   ]
  },
  {
   "cell_type": "markdown",
   "metadata": {},
   "source": [
    "Now that we have a `SkyCoord` object, we can try to use it to access data from the [Sloan Digitial Sky Survey](http://www.sdss.org/) (SDSS).  Let's start by trying to get a picture using the SDSS image cutout service to make sure HCG7 is in the SDSS footprint and has good image quality.\n",
    "\n",
    "This requires an internet connection, but if it fails, don't worry: the file is included in the repository so you can just let it use the local file``'HCG7_SDSS_cutout.jpg'``, defined at the top of the cell.  "
   ]
  },
  {
   "cell_type": "code",
   "execution_count": 12,
   "metadata": {
    "collapsed": false
   },
   "outputs": [],
   "source": [
    "impix = 1024\n",
    "imsize = 12*u.arcmin\n",
    "cutoutbaseurl = 'http://skyservice.pha.jhu.edu/DR12/ImgCutout/getjpeg.aspx'\n",
    "\n",
    "req = requests.get(cutoutbaseurl, dict(ra=hcg7_center.ra.deg, \n",
    "                                       dec=hcg7_center.dec.deg, \n",
    "                                       width=impix, height=impix, \n",
    "                                       scale=imsize.to(u.arcsec).value/impix))\n",
    "with open('HCG7_SDSS_cutout.jpg', 'wb') as f:\n",
    "    f.write(req.content)"
   ]
  },
  {
   "cell_type": "markdown",
   "metadata": {},
   "source": [
    "Now lets take a look at the image."
   ]
  },
  {
   "cell_type": "code",
   "execution_count": 13,
   "metadata": {
    "collapsed": false
   },
   "outputs": [
    {
     "data": {
      "image/jpeg": "[encoded data removed]",
      "text/plain": [
       "<IPython.core.display.Image object>"
      ]
     },
     "execution_count": 13,
     "metadata": {},
     "output_type": "execute_result"
    }
   ],
   "source": [
    "IPython.display.Image('HCG7_SDSS_cutout.jpg')"
   ]
  },
  {
   "cell_type": "markdown",
   "metadata": {},
   "source": [
    "Very pretty!"
   ]
  },
  {
   "cell_type": "markdown",
   "metadata": {},
   "source": [
    "### Exercises"
   ]
  },
  {
   "cell_type": "markdown",
   "metadata": {},
   "source": [
    "Create a `SkyCoord` of some other astronomical object you find interesting."
   ]
  },
  {
   "cell_type": "code",
   "execution_count": 14,
   "metadata": {
    "collapsed": true
   },
   "outputs": [],
   "source": [
    "sc_other = SkyCoord.from_name('M101')"
   ]
  },
  {
   "cell_type": "markdown",
   "metadata": {},
   "source": [
    "Get three objects with the RA of the `SkyCoord` object you just created, one for each of hours, degrees, and radians"
   ]
  },
  {
   "cell_type": "code",
   "execution_count": 15,
   "metadata": {
    "collapsed": false
   },
   "outputs": [
    {
     "data": {
      "text/latex": [
       "$14^\\mathrm{h}03^\\mathrm{m}12.583^\\mathrm{s}$"
      ],
      "text/plain": [
       "<Longitude 14.053495280000003 hourangle>"
      ]
     },
     "execution_count": 15,
     "metadata": {},
     "output_type": "execute_result"
    }
   ],
   "source": [
    "sc_other.ra.to(u.hourangle)"
   ]
  },
  {
   "cell_type": "code",
   "execution_count": 16,
   "metadata": {
    "collapsed": false
   },
   "outputs": [
    {
     "data": {
      "text/latex": [
       "$210^\\circ48{}^\\prime08.7451{}^{\\prime\\prime}$"
      ],
      "text/plain": [
       "<Longitude 210.8024292 deg>"
      ]
     },
     "execution_count": 16,
     "metadata": {},
     "output_type": "execute_result"
    }
   ],
   "source": [
    "sc_other.ra.to(u.degree)"
   ]
  },
  {
   "cell_type": "code",
   "execution_count": 17,
   "metadata": {
    "collapsed": false
   },
   "outputs": [
    {
     "data": {
      "text/latex": [
       "$3.6792\\mathrm{rad}$"
      ],
      "text/plain": [
       "<Longitude 3.679196460742236 rad>"
      ]
     },
     "execution_count": 17,
     "metadata": {},
     "output_type": "execute_result"
    }
   ],
   "source": [
    "sc_other.ra.to(u.radian)"
   ]
  },
  {
   "cell_type": "code",
   "execution_count": 18,
   "metadata": {
    "collapsed": false
   },
   "outputs": [
    {
     "data": {
      "text/plain": [
       "(14.053495280000003, 210.8024292, 3.679196460742236)"
      ]
     },
     "execution_count": 18,
     "metadata": {},
     "output_type": "execute_result"
    }
   ],
   "source": [
    "#Alternate solution:\n",
    "sc_other.ra.hour, sc_other.ra.deg, sc_other.ra.rad"
   ]
  },
  {
   "cell_type": "markdown",
   "metadata": {},
   "source": [
    "Using only a single method/function call on the object you just created, get a string with the RA/Dec in the form 'HH:MM:SS.S DD:MM:SS.S'.  Check your answer against an academic paper or some web site like [SIMBAD](http://simbad.u-strasbg.fr/simbad/) that will show you sexigesimal coordinates for the object.\n",
    "\n",
    "(Hint: `SkyCoord.to_string()` might be worth reading up on)"
   ]
  },
  {
   "cell_type": "code",
   "execution_count": 19,
   "metadata": {
    "collapsed": false
   },
   "outputs": [
    {
     "data": {
      "text/plain": [
       "u'14:03:12.6 +54:20:55.5'"
      ]
     },
     "execution_count": 19,
     "metadata": {},
     "output_type": "execute_result"
    }
   ],
   "source": [
    "# SIMBAD sez: 14 03 12.583 +54 20 55.50\n",
    "sc_other.to_string('hmsdms', sep=':', precision=1)"
   ]
  },
  {
   "cell_type": "markdown",
   "metadata": {},
   "source": [
    "Now get an image of that object from the Digitized Sky Survey and download it and/or show it in the notebook. Bonus points if you figure out the (one-line) trick to get it to display in the notebook *without* ever downloading the file yourself.\n",
    "\n",
    "(Hint: STScI has an easy-to-access [copy of the DSS](https://archive.stsci.edu/dss/).  The pattern to follow for the web URL is ``http://archive.stsci.edu/cgi-bin/dss_search?f=GIF&ra=RA&dec=DEC``)"
   ]
  },
  {
   "cell_type": "code",
   "execution_count": 20,
   "metadata": {
    "collapsed": false
   },
   "outputs": [
    {
     "data": {
      "text/html": [
       "<img src=\"http://archive.stsci.edu/cgi-bin/dss_search?f=GIF&ra=210.8024292&dec=54.34875\"/>"
      ],
      "text/plain": [
       "<IPython.core.display.Image object>"
      ]
     },
     "execution_count": 20,
     "metadata": {},
     "output_type": "execute_result"
    }
   ],
   "source": [
    "url_template = 'http://archive.stsci.edu/cgi-bin/dss_search?f=GIF&ra={0.ra.deg}&dec={0.dec.deg}'\n",
    "url = url_template.format(sc_other)\n",
    "\n",
    "# there's a subtle difference between this and the HCG7 case above: here your *web browser* downloads the image, while\n",
    "# in the above you download it to your computer in python and then the web browser just views the local version.\n",
    "# So if you're on an airplane (without Wifi) when viewing this notebook the above one will work but this one will fail.\n",
    "IPython.display.Image(url=url)"
   ]
  },
  {
   "cell_type": "markdown",
   "metadata": {},
   "source": [
    "## Using `coordinates` and `table` to match and compare catalogs"
   ]
  },
  {
   "cell_type": "markdown",
   "metadata": {},
   "source": [
    "At the end of the last section, we determined that HCG7 is in the SDSS imaging survey, so that means we can use the cells below to download catalogs of objects directly from the SDSS. Later on, we will match this catalog to another catalog covering the same field, allowing us to make plots using the combination of the two catalogs."
   ]
  },
  {
   "cell_type": "markdown",
   "metadata": {},
   "source": [
    "We will access the SDSS SQL database using the [astroquery](https://astroquery.readthedocs.org) affiliated package.  This will require an internet connection and a working install of astroquery. If you don't have these you can just skip down two cells, because the data files are provided with the repository. Depending on your version of astroquery it might also issue a warning, which you should be able to safely ignore."
   ]
  },
  {
   "cell_type": "code",
   "execution_count": 21,
   "metadata": {
    "collapsed": false
   },
   "outputs": [
    {
     "name": "stderr",
     "output_type": "stream",
     "text": [
      "/opt/local/Library/Frameworks/Python.framework/Versions/2.7/lib/python2.7/site-packages/astroquery-0.3.dev2675-py2.7.egg/astroquery/sdss/__init__.py:33: UserWarning: Experimental: SDSS has not yet been refactored to have its API match the rest of astroquery (but it's nearly there).\n",
      "  warnings.warn(\"Experimental: SDSS has not yet been refactored to have its API \"\n"
     ]
    }
   ],
   "source": [
    "from astroquery.sdss import SDSS\n",
    "sdss = SDSS.query_region(coordinates=hcg7_center, radius=20*u.arcmin, \n",
    "                         spectro=True, \n",
    "                         photoobj_fields=['ra','dec','u','g','r','i','z'])"
   ]
  },
  {
   "cell_type": "markdown",
   "metadata": {},
   "source": [
    "`astroquery` queries gives us back an [`astropy.table.Table` object](http://docs.astropy.org/en/stable/table/index.html).  We could just work with this directly without saving anything to disk if we wanted to.  But here we will use the capability to  write to disk.  That way, if you quit the session and come back later, you don't have to run the query a second time.\n",
    "\n",
    "(Note that this won't work fail if you skipped the last step.  Don't worry, you can just skip to the next cell with ``Table.read`` and use the copy of this table included in the tutorial.)"
   ]
  },
  {
   "cell_type": "code",
   "execution_count": 22,
   "metadata": {
    "collapsed": false
   },
   "outputs": [],
   "source": [
    "sdss.write('HCG7_SDSS_photo.dat', format='ascii')"
   ]
  },
  {
   "cell_type": "markdown",
   "metadata": {},
   "source": [
    "If you don't have internet, you can read the table into python by running the cell below.  But if you did the astroquery step above, you could skip this, as the table is already in memory as the `sdss` variable."
   ]
  },
  {
   "cell_type": "code",
   "execution_count": 23,
   "metadata": {
    "collapsed": false
   },
   "outputs": [],
   "source": [
    "sdss = Table.read('HCG7_SDSS_photo.dat', format='ascii')"
   ]
  },
  {
   "cell_type": "markdown",
   "metadata": {},
   "source": [
    "Ok, so we have a catalog of objects we got from the SDSS.  Now lets say you have your own catalog of objects in the same field that you want to match to this SDSS catalog.  In this case, we will use a catalog extracted from the [2MASS](http://www.ipac.caltech.edu/2mass/).  We first load up this catalog into python."
   ]
  },
  {
   "cell_type": "code",
   "execution_count": 24,
   "metadata": {
    "collapsed": false
   },
   "outputs": [],
   "source": [
    "twomass = Table.read('HCG7_2MASS.tbl', format='ascii')"
   ]
  },
  {
   "cell_type": "markdown",
   "metadata": {},
   "source": [
    "Now to do matching we need `SkyCoord` objects.  We'll have to build these from the tables we loaded, but it turns out that's pretty straightforward: we grab the RA and dec columns from the table and provide them to the `SkyCoord` constructor.  Lets first have a look at the tables to see just what everything is that's in them."
   ]
  },
  {
   "cell_type": "code",
   "execution_count": 25,
   "metadata": {
    "collapsed": false
   },
   "outputs": [
    {
     "data": {
      "text/html": [
       "&lt;Table masked=False length=678&gt;\n",
       "<table id=\"table4373519376\">\n",
       "<thead><tr><th>ra</th><th>dec</th><th>u</th><th>g</th><th>r</th><th>i</th><th>z</th></tr></thead>\n",
       "<thead><tr><th>float64</th><th>float64</th><th>float64</th><th>float64</th><th>float64</th><th>float64</th><th>float64</th></tr></thead>\n",
       "<tr><td>9.55662739155</td><td>0.958844567602</td><td>25.02833</td><td>22.2438</td><td>20.88737</td><td>20.56154</td><td>20.31492</td></tr>\n",
       "<tr><td>9.8876415458</td><td>0.774708570007</td><td>20.9366</td><td>18.50594</td><td>17.23414</td><td>16.71156</td><td>16.37333</td></tr>\n",
       "<tr><td>9.77189391859</td><td>1.08851777518</td><td>22.14587</td><td>19.4354</td><td>18.12911</td><td>17.57661</td><td>17.28166</td></tr>\n",
       "<tr><td>10.0130520271</td><td>0.693041491547</td><td>23.67532</td><td>20.35169</td><td>19.01451</td><td>17.89762</td><td>17.26126</td></tr>\n",
       "<tr><td>9.74886357106</td><td>1.0698876126</td><td>21.55152</td><td>18.88973</td><td>17.49213</td><td>16.78728</td><td>16.42466</td></tr>\n",
       "<tr><td>9.80888941178</td><td>0.638243559856</td><td>25.01858</td><td>22.47075</td><td>20.94814</td><td>19.8678</td><td>19.38565</td></tr>\n",
       "<tr><td>9.5177604539</td><td>0.97498983725</td><td>21.27112</td><td>18.65886</td><td>17.18818</td><td>16.19389</td><td>15.64493</td></tr>\n",
       "<tr><td>9.95679445472</td><td>0.660645102361</td><td>22.86632</td><td>21.49712</td><td>20.25991</td><td>19.06707</td><td>18.47292</td></tr>\n",
       "<tr><td>9.55911283741</td><td>0.745882899171</td><td>20.74507</td><td>18.18942</td><td>16.71176</td><td>15.90663</td><td>15.465</td></tr>\n",
       "<tr><td>9.61439836674</td><td>1.16740559193</td><td>21.30618</td><td>20.84521</td><td>20.73396</td><td>20.52458</td><td>20.12997</td></tr>\n",
       "<tr><td>...</td><td>...</td><td>...</td><td>...</td><td>...</td><td>...</td><td>...</td></tr>\n",
       "<tr><td>9.86140974942</td><td>0.74594784976</td><td>23.03025</td><td>21.51104</td><td>20.29889</td><td>19.79191</td><td>19.48511</td></tr>\n",
       "<tr><td>9.70483089773</td><td>0.839292381562</td><td>19.94402</td><td>18.00044</td><td>17.01501</td><td>16.62456</td><td>16.27723</td></tr>\n",
       "<tr><td>10.1394307586</td><td>0.819016780163</td><td>20.48433</td><td>18.44921</td><td>17.17964</td><td>16.70726</td><td>16.33822</td></tr>\n",
       "<tr><td>9.66697433876</td><td>0.771502968754</td><td>23.15901</td><td>22.40872</td><td>21.07723</td><td>20.15376</td><td>19.48679</td></tr>\n",
       "<tr><td>9.78088503895</td><td>0.929585253188</td><td>22.33564</td><td>19.76282</td><td>18.30911</td><td>17.53257</td><td>17.11121</td></tr>\n",
       "<tr><td>10.1166796841</td><td>0.656621767486</td><td>21.52738</td><td>19.06988</td><td>17.49594</td><td>16.23254</td><td>15.54194</td></tr>\n",
       "<tr><td>9.719886102</td><td>1.09339889511</td><td>19.13678</td><td>16.67797</td><td>15.64433</td><td>15.2858</td><td>15.09139</td></tr>\n",
       "<tr><td>9.53801098175</td><td>1.15294875692</td><td>20.72992</td><td>18.30488</td><td>16.9949</td><td>16.35471</td><td>15.97691</td></tr>\n",
       "<tr><td>9.81005239087</td><td>1.05769188104</td><td>22.89613</td><td>20.82518</td><td>19.34138</td><td>17.88569</td><td>17.11873</td></tr>\n",
       "<tr><td>10.0554924876</td><td>1.092856678</td><td>22.96082</td><td>21.08428</td><td>19.4083</td><td>18.6909</td><td>18.1766</td></tr>\n",
       "</table>"
      ],
      "text/plain": [
       "<Table masked=False length=678>\n",
       "      ra           dec          u        g        r        i        z    \n",
       "   float64       float64     float64  float64  float64  float64  float64 \n",
       "------------- -------------- -------- -------- -------- -------- --------\n",
       "9.55662739155 0.958844567602 25.02833  22.2438 20.88737 20.56154 20.31492\n",
       " 9.8876415458 0.774708570007  20.9366 18.50594 17.23414 16.71156 16.37333\n",
       "9.77189391859  1.08851777518 22.14587  19.4354 18.12911 17.57661 17.28166\n",
       "10.0130520271 0.693041491547 23.67532 20.35169 19.01451 17.89762 17.26126\n",
       "9.74886357106   1.0698876126 21.55152 18.88973 17.49213 16.78728 16.42466\n",
       "9.80888941178 0.638243559856 25.01858 22.47075 20.94814  19.8678 19.38565\n",
       " 9.5177604539  0.97498983725 21.27112 18.65886 17.18818 16.19389 15.64493\n",
       "9.95679445472 0.660645102361 22.86632 21.49712 20.25991 19.06707 18.47292\n",
       "9.55911283741 0.745882899171 20.74507 18.18942 16.71176 15.90663   15.465\n",
       "9.61439836674  1.16740559193 21.30618 20.84521 20.73396 20.52458 20.12997\n",
       "          ...            ...      ...      ...      ...      ...      ...\n",
       "9.86140974942  0.74594784976 23.03025 21.51104 20.29889 19.79191 19.48511\n",
       "9.70483089773 0.839292381562 19.94402 18.00044 17.01501 16.62456 16.27723\n",
       "10.1394307586 0.819016780163 20.48433 18.44921 17.17964 16.70726 16.33822\n",
       "9.66697433876 0.771502968754 23.15901 22.40872 21.07723 20.15376 19.48679\n",
       "9.78088503895 0.929585253188 22.33564 19.76282 18.30911 17.53257 17.11121\n",
       "10.1166796841 0.656621767486 21.52738 19.06988 17.49594 16.23254 15.54194\n",
       "  9.719886102  1.09339889511 19.13678 16.67797 15.64433  15.2858 15.09139\n",
       "9.53801098175  1.15294875692 20.72992 18.30488  16.9949 16.35471 15.97691\n",
       "9.81005239087  1.05769188104 22.89613 20.82518 19.34138 17.88569 17.11873\n",
       "10.0554924876    1.092856678 22.96082 21.08428  19.4083  18.6909  18.1766"
      ]
     },
     "execution_count": 25,
     "metadata": {},
     "output_type": "execute_result"
    }
   ],
   "source": [
    "sdss # just to see an example of the format"
   ]
  },
  {
   "cell_type": "code",
   "execution_count": 26,
   "metadata": {
    "collapsed": false
   },
   "outputs": [
    {
     "data": {
      "text/html": [
       "&lt;Table masked=True length=23&gt;\n",
       "<table id=\"table4328462864\">\n",
       "<thead><tr><th>designation</th><th>ra</th><th>dec</th><th>r_k20fe</th><th>j_m_k20fe</th><th>j_msig_k20fe</th><th>j_flg_k20fe</th><th>h_m_k20fe</th><th>h_msig_k20fe</th><th>h_flg_k20fe</th><th>k_m_k20fe</th><th>k_msig_k20fe</th><th>k_flg_k20fe</th><th>k_ba</th><th>k_phi</th><th>sup_ba</th><th>sup_phi</th><th>r_ext</th><th>j_m_ext</th><th>j_msig_ext</th><th>h_m_ext</th><th>h_msig_ext</th><th>k_m_ext</th><th>k_msig_ext</th><th>cc_flg</th><th>dist</th><th>angle</th></tr></thead>\n",
       "<thead><tr><th></th><th>deg</th><th>deg</th><th>arcsec</th><th>mag</th><th>mag</th><th></th><th>mag</th><th>mag</th><th></th><th>mag</th><th>mag</th><th></th><th></th><th>deg</th><th></th><th>deg</th><th>arcsec</th><th>mag</th><th>mag</th><th>mag</th><th>mag</th><th>mag</th><th>mag</th><th></th><th>arcsec</th><th>deg</th></tr></thead>\n",
       "<thead><tr><th>string128</th><th>float64</th><th>float64</th><th>float64</th><th>float64</th><th>float64</th><th>int64</th><th>float64</th><th>float64</th><th>int64</th><th>float64</th><th>float64</th><th>int64</th><th>float64</th><th>int64</th><th>float64</th><th>int64</th><th>float64</th><th>float64</th><th>float64</th><th>float64</th><th>float64</th><th>float64</th><th>float64</th><th>string8</th><th>float64</th><th>float64</th></tr></thead>\n",
       "<tr><td>00402069+0052508</td><td>10.086218</td><td>0.880798</td><td>9.4</td><td>13.835</td><td>0.068</td><td>0</td><td>13.01</td><td>0.086</td><td>0</td><td>12.588</td><td>0.089</td><td>0</td><td>0.8</td><td>70</td><td>0.82</td><td>35</td><td>18.62</td><td>13.632</td><td>0.088</td><td>12.744</td><td>0.104</td><td>12.398</td><td>0.105</td><td>0</td><td>972.120611</td><td>91.538952</td></tr>\n",
       "<tr><td>00395984+0103545</td><td>9.99935</td><td>1.06514</td><td>12.9</td><td>12.925</td><td>0.035</td><td>0</td><td>12.183</td><td>0.042</td><td>0</td><td>11.89</td><td>0.067</td><td>0</td><td>0.8</td><td>35</td><td>0.7</td><td>40</td><td>35.9</td><td>12.469</td><td>0.048</td><td>11.91</td><td>0.066</td><td>11.522</td><td>0.087</td><td>0</td><td>916.927636</td><td>45.951861</td></tr>\n",
       "<tr><td>00401849+0049448</td><td>10.077062</td><td>0.82913</td><td>6.0</td><td>14.918</td><td>0.086</td><td>0</td><td>14.113</td><td>0.107</td><td>0</td><td>13.714</td><td>0.103</td><td>0</td><td>0.6</td><td>-15</td><td>1.0</td><td>90</td><td>11.35</td><td>14.631</td><td>0.121</td><td>13.953</td><td>0.169</td><td>13.525</td><td>0.161</td><td>0</td><td>962.489231</td><td>102.73149</td></tr>\n",
       "<tr><td>00395277+0057124</td><td>9.969907</td><td>0.953472</td><td>5.3</td><td>14.702</td><td>0.049</td><td>0</td><td>14.248</td><td>0.069</td><td>0</td><td>13.899</td><td>0.095</td><td>0</td><td>0.6</td><td>-60</td><td>0.44</td><td>-50</td><td>10.59</td><td>14.62</td><td>0.144</td><td>14.15</td><td>0.296</td><td>13.73</td><td>0.2</td><td>0</td><td>601.136444</td><td>66.93659</td></tr>\n",
       "<tr><td>00401864+0047245</td><td>10.077704</td><td>0.790143</td><td>7.6</td><td>15.585</td><td>0.134</td><td>1</td><td>15.003</td><td>0.18</td><td>1</td><td>14.049</td><td>0.142</td><td>1</td><td>0.5</td><td>30</td><td>0.46</td><td>30</td><td>14.48</td><td>14.977</td><td>0.138</td><td>14.855</td><td>0.303</td><td>13.653</td><td>0.18</td><td>0</td><td>1004.982128</td><td>110.53147</td></tr>\n",
       "<tr><td>00393485+0051355</td><td>9.895219</td><td>0.859882</td><td>39.3</td><td>11.415</td><td>0.031</td><td>3</td><td>10.755</td><td>0.044</td><td>3</td><td>10.514</td><td>0.068</td><td>3</td><td>0.6</td><td>-30</td><td>0.7</td><td>-60</td><td>92.29</td><td>11.415</td><td>0.018</td><td>10.155</td><td>0.054</td><td>9.976</td><td>0.085</td><td>0</td><td>301.813395</td><td>109.639102</td></tr>\n",
       "<tr><td>00392964+0103495</td><td>9.873526</td><td>1.063769</td><td>10.9</td><td>14.463</td><td>0.065</td><td>0</td><td>13.618</td><td>0.067</td><td>0</td><td>13.258</td><td>0.091</td><td>0</td><td>0.4</td><td>55</td><td>0.28</td><td>60</td><td>20.35</td><td>14.2</td><td>0.086</td><td>13.363</td><td>0.091</td><td>13.101</td><td>0.133</td><td>0</td><td>665.301415</td><td>18.051526</td></tr>\n",
       "<tr><td>00403343+0049079</td><td>10.139293</td><td>0.818865</td><td>5.0</td><td>15.484</td><td>0.15</td><td>0</td><td>--</td><td>--</td><td>--</td><td>13.97</td><td>0.137</td><td>0</td><td>1.0</td><td>90</td><td>1.0</td><td>90</td><td>10.05</td><td>15.035</td><td>0.183</td><td>14.725</td><td>0.0</td><td>13.654</td><td>0.189</td><td>0</td><td>1189.207905</td><td>102.088788</td></tr>\n",
       "<tr><td>00393319+0035505</td><td>9.888305</td><td>0.597381</td><td>11.5</td><td>13.156</td><td>0.033</td><td>0</td><td>12.509</td><td>0.043</td><td>0</td><td>12.073</td><td>0.059</td><td>0</td><td>0.6</td><td>-55</td><td>0.52</td><td>-40</td><td>21.64</td><td>13.026</td><td>0.04</td><td>12.247</td><td>0.046</td><td>11.978</td><td>0.065</td><td>0</td><td>1078.11027</td><td>166.0785</td></tr>\n",
       "<tr><td>...</td><td>...</td><td>...</td><td>...</td><td>...</td><td>...</td><td>...</td><td>...</td><td>...</td><td>...</td><td>...</td><td>...</td><td>...</td><td>...</td><td>...</td><td>...</td><td>...</td><td>...</td><td>...</td><td>...</td><td>...</td><td>...</td><td>...</td><td>...</td><td>...</td><td>...</td><td>...</td></tr>\n",
       "<tr><td>00391798+0041588</td><td>9.824936</td><td>0.699687</td><td>6.1</td><td>15.685</td><td>0.168</td><td>0</td><td>14.89</td><td>0.191</td><td>0</td><td>14.003</td><td>0.155</td><td>0</td><td>1.0</td><td>90</td><td>1.0</td><td>90</td><td>11.4</td><td>15.677</td><td>0.312</td><td>14.415</td><td>0.226</td><td>13.568</td><td>0.19</td><td>0</td><td>678.863209</td><td>177.360117</td></tr>\n",
       "<tr><td>00384796+0034572</td><td>9.699858</td><td>0.582578</td><td>5.1</td><td>14.925</td><td>0.077</td><td>0</td><td>14.224</td><td>0.114</td><td>0</td><td>13.536</td><td>0.079</td><td>0</td><td>1.0</td><td>90</td><td>1.0</td><td>90</td><td>10.2</td><td>14.839</td><td>0.133</td><td>14.111</td><td>0.192</td><td>13.461</td><td>0.137</td><td>0</td><td>1176.842625</td><td>200.856597</td></tr>\n",
       "<tr><td>00390392+0050579</td><td>9.766345</td><td>0.849419</td><td>5.0</td><td>14.895</td><td>0.07</td><td>0</td><td>14.238</td><td>0.087</td><td>0</td><td>13.834</td><td>0.11</td><td>0</td><td>1.0</td><td>90</td><td>1.0</td><td>90</td><td>10.05</td><td>14.706</td><td>0.107</td><td>14.033</td><td>0.132</td><td>13.75</td><td>0.187</td><td>0</td><td>227.201453</td><td>232.24689</td></tr>\n",
       "<tr><td>00391339+0051508</td><td>9.805797</td><td>0.864135</td><td>52.8</td><td>10.362</td><td>0.014</td><td>0</td><td>9.631</td><td>0.017</td><td>0</td><td>9.334</td><td>0.024</td><td>0</td><td>0.3</td><td>-15</td><td>0.4</td><td>-15</td><td>75.02</td><td>10.279</td><td>0.015</td><td>9.527</td><td>0.016</td><td>9.247</td><td>0.023</td><td>0</td><td>93.990015</td><td>203.598476</td></tr>\n",
       "<tr><td>00391786+0054458</td><td>9.824418</td><td>0.912743</td><td>27.9</td><td>11.082</td><td>0.016</td><td>0</td><td>10.384</td><td>0.022</td><td>0</td><td>10.147</td><td>0.032</td><td>0</td><td>0.5</td><td>5</td><td>0.7</td><td>5</td><td>42.75</td><td>10.914</td><td>0.018</td><td>10.251</td><td>0.021</td><td>10.031</td><td>0.03</td><td>0</td><td>93.596555</td><td>18.308033</td></tr>\n",
       "<tr><td>00385879+0057269</td><td>9.744971</td><td>0.957478</td><td>5.0</td><td>15.535</td><td>0.122</td><td>0</td><td>14.796</td><td>0.145</td><td>0</td><td>14.278</td><td>0.165</td><td>0</td><td>1.0</td><td>90</td><td>1.0</td><td>90</td><td>10.05</td><td>15.535</td><td>0.122</td><td>14.623</td><td>0.227</td><td>14.147</td><td>0.269</td><td>0</td><td>358.163568</td><td>314.246475</td></tr>\n",
       "<tr><td>00391879+0053308</td><td>9.828303</td><td>0.891909</td><td>15.4</td><td>13.044</td><td>0.047</td><td>0</td><td>12.412</td><td>0.063</td><td>0</td><td>12.077</td><td>0.094</td><td>0</td><td>0.8</td><td>60</td><td>0.74</td><td>65</td><td>23.62</td><td>12.755</td><td>0.048</td><td>12.283</td><td>0.072</td><td>11.713</td><td>0.096</td><td>0</td><td>45.544562</td><td>72.287562</td></tr>\n",
       "<tr><td>00391213+0102408</td><td>9.80055</td><td>1.044691</td><td>5.0</td><td>15.568</td><td>0.126</td><td>0</td><td>15.047</td><td>0.181</td><td>0</td><td>14.356</td><td>0.176</td><td>0</td><td>1.0</td><td>90</td><td>1.0</td><td>90</td><td>10.05</td><td>15.295</td><td>0.181</td><td>15.047</td><td>0.181</td><td>14.067</td><td>0.25</td><td>0</td><td>566.696375</td><td>354.276982</td></tr>\n",
       "<tr><td>00383990+0104442</td><td>9.666268</td><td>1.078968</td><td>5.3</td><td>15.255</td><td>0.108</td><td>0</td><td>14.232</td><td>0.121</td><td>0</td><td>13.873</td><td>0.113</td><td>0</td><td>1.0</td><td>90</td><td>1.0</td><td>90</td><td>10.44</td><td>15.151</td><td>0.18</td><td>13.812</td><td>0.149</td><td>13.552</td><td>0.155</td><td>0</td><td>873.946372</td><td>321.851314</td></tr>\n",
       "<tr><td>00384916+0050212</td><td>9.704872</td><td>0.839244</td><td>5.1</td><td>15.075</td><td>0.088</td><td>0</td><td>14.651</td><td>0.17</td><td>0</td><td>13.804</td><td>0.101</td><td>0</td><td>1.0</td><td>90</td><td>1.0</td><td>90</td><td>10.2</td><td>15.053</td><td>0.159</td><td>14.651</td><td>0.17</td><td>13.682</td><td>0.171</td><td>0</td><td>437.740484</td><td>246.331036</td></tr>\n",
       "</table>"
      ],
      "text/plain": [
       "<Table masked=True length=23>\n",
       "  designation        ra      dec    r_k20fe ...  cc_flg     dist      angle   \n",
       "                    deg      deg     arcsec ...            arcsec      deg    \n",
       "   string128      float64  float64  float64 ... string8   float64    float64  \n",
       "---------------- --------- -------- ------- ... ------- ----------- ----------\n",
       "00402069+0052508 10.086218 0.880798     9.4 ...       0  972.120611  91.538952\n",
       "00395984+0103545   9.99935  1.06514    12.9 ...       0  916.927636  45.951861\n",
       "00401849+0049448 10.077062  0.82913     6.0 ...       0  962.489231  102.73149\n",
       "00395277+0057124  9.969907 0.953472     5.3 ...       0  601.136444   66.93659\n",
       "00401864+0047245 10.077704 0.790143     7.6 ...       0 1004.982128  110.53147\n",
       "00393485+0051355  9.895219 0.859882    39.3 ...       0  301.813395 109.639102\n",
       "00392964+0103495  9.873526 1.063769    10.9 ...       0  665.301415  18.051526\n",
       "00403343+0049079 10.139293 0.818865     5.0 ...       0 1189.207905 102.088788\n",
       "00393319+0035505  9.888305 0.597381    11.5 ...       0  1078.11027   166.0785\n",
       "             ...       ...      ...     ... ...     ...         ...        ...\n",
       "00391798+0041588  9.824936 0.699687     6.1 ...       0  678.863209 177.360117\n",
       "00384796+0034572  9.699858 0.582578     5.1 ...       0 1176.842625 200.856597\n",
       "00390392+0050579  9.766345 0.849419     5.0 ...       0  227.201453  232.24689\n",
       "00391339+0051508  9.805797 0.864135    52.8 ...       0   93.990015 203.598476\n",
       "00391786+0054458  9.824418 0.912743    27.9 ...       0   93.596555  18.308033\n",
       "00385879+0057269  9.744971 0.957478     5.0 ...       0  358.163568 314.246475\n",
       "00391879+0053308  9.828303 0.891909    15.4 ...       0   45.544562  72.287562\n",
       "00391213+0102408   9.80055 1.044691     5.0 ...       0  566.696375 354.276982\n",
       "00383990+0104442  9.666268 1.078968     5.3 ...       0  873.946372 321.851314\n",
       "00384916+0050212  9.704872 0.839244     5.1 ...       0  437.740484 246.331036"
      ]
     },
     "execution_count": 26,
     "metadata": {},
     "output_type": "execute_result"
    }
   ],
   "source": [
    "twomass # just to see an example of the format"
   ]
  },
  {
   "cell_type": "markdown",
   "metadata": {},
   "source": [
    "OK, looks like they both have ``ra`` and ``dec`` columns, so we should be able to use that to make `SkyCoord`s.\n",
    "\n",
    "You might first think you need to create a separate `SkyCoord` for *every* row in the table, given that up until now all `SkyCoord`s we made were for just a single point.  You could do this, but it will make your code much slower.  Instead, `SkyCoord` supports *arrays* of coordinate values - you just pass in array-like inputs (array `Quantity`s, lists of strings, `Table` columns, etc.), and `SkyCoord` will happily do all of its operations element-wise."
   ]
  },
  {
   "cell_type": "code",
   "execution_count": 27,
   "metadata": {
    "collapsed": false
   },
   "outputs": [],
   "source": [
    "coo_sdss = SkyCoord(sdss['ra']*u.deg, sdss['dec']*u.deg)\n",
    "coo_twomass = SkyCoord(twomass['ra'], twomass['dec'])"
   ]
  },
  {
   "cell_type": "markdown",
   "metadata": {},
   "source": [
    "Note a subtle difference here: you had to give units for SDSS but *not* for 2MASS.  This is because the 2MASS table has units associated with the columns, while the SDSS table does not (so you have to put them in manually).\n",
    "\n",
    "Now we simply use the ``SkyCoord.match_to_catalog_sky`` method to match the two catalogs. Note that order matters: we're matching 2MASS to SDSS because there are many *more* entires in the SDSS, so it seems likely that most 2MASS objects are in SDSS (but not vice versa)."
   ]
  },
  {
   "cell_type": "code",
   "execution_count": 28,
   "metadata": {
    "collapsed": false
   },
   "outputs": [],
   "source": [
    "idx_sdss, d2d_sdss, d3d_sdss = coo_twomass.match_to_catalog_sky(coo_sdss)"
   ]
  },
  {
   "cell_type": "markdown",
   "metadata": {},
   "source": [
    "``idx`` are the indecies into ``coo_sdss`` that get the closest matches, while ``d2d`` and ``d3d`` are the on-sky and real-space distances between the matches. In our case ``d3d`` can be ignored because we didn't give a line-of-sight distance, so its value is not particularly useful.   But ``d2d`` provides a good diagnosis of whether we actually have real matches:"
   ]
  },
  {
   "cell_type": "code",
   "execution_count": 29,
   "metadata": {
    "collapsed": false
   },
   "outputs": [
    {
     "data": {
      "image/png": "[encoded data removed]",
      "text/plain": [
       "<matplotlib.figure.Figure at 0x104b10610>"
      ]
     },
     "metadata": {},
     "output_type": "display_data"
    }
   ],
   "source": [
    "plt.hist(d2d_sdss.arcsec, histtype='step', range=(0,2))\n",
    "plt.xlabel('separation [arcsec]')\n",
    "plt.tight_layout()"
   ]
  },
  {
   "cell_type": "markdown",
   "metadata": {},
   "source": [
    "Ok, they're all within an arcsecond that's promising.  But are we sure it's not just that *anything* has matches within an arcescond?  Lets check by comparing to a set of *random* points.\n",
    "\n",
    "We first create a set of uniformly random points (with size matching `coo_twomass`) that cover the same range of RA/Decs that are in `coo_sdss`."
   ]
  },
  {
   "cell_type": "code",
   "execution_count": 30,
   "metadata": {
    "collapsed": false
   },
   "outputs": [
    {
     "data": {
      "text/plain": [
       "(<Angle [  9.7883662 ,  9.55204268,  9.5327861 ,  9.98635452, 10.01499581,\n",
       "           9.75774707,  9.6889874 , 10.13361013,  9.78128643, 10.09695814,\n",
       "           9.9433307 ,  9.88637799,  9.53809017,  9.78175403, 10.13022339,\n",
       "           9.60171428,  9.72608512,  9.99191678,  9.848522  ,  9.85193454,\n",
       "           9.54478784,  9.59396671,  9.90367053] deg>,\n",
       " <Angle [ 0.72370293, 0.83117132, 1.18988489, 0.77945045, 0.59491181,\n",
       "          1.14562414, 1.18415876, 0.91728453, 1.04611494, 1.06675928,\n",
       "          0.6462802 , 1.19764664, 1.01535868, 1.05385458, 1.13047603,\n",
       "          1.04606325, 0.67972328, 0.87993025, 0.62594155, 0.65895005,\n",
       "          0.7290699 , 0.79555014, 1.03598761] deg>)"
      ]
     },
     "execution_count": 30,
     "metadata": {},
     "output_type": "execute_result"
    }
   ],
   "source": [
    "ras_sim = np.random.rand(len(coo_twomass))*coo_sdss.ra.ptp() + coo_sdss.ra.min()\n",
    "decs_sim = np.random.rand(len(coo_twomass))*coo_sdss.dec.ptp() + coo_sdss.dec.min()\n",
    "ras_sim, decs_sim"
   ]
  },
  {
   "cell_type": "markdown",
   "metadata": {},
   "source": [
    "Now we create a `SkyCoord` from these points and match it to `coo_sdss` just like we did above for 2MASS.\n",
    "\n",
    "Note that we do not need to explicitly specify units for `ras_sim` and `decs_sim`, because they already are unitful `Angle` objects because they were created from `coo_sdss.ra`/`coo_sdss.dec`."
   ]
  },
  {
   "cell_type": "code",
   "execution_count": 31,
   "metadata": {
    "collapsed": false
   },
   "outputs": [],
   "source": [
    "coo_simulated = SkyCoord(ras_sim, decs_sim)  \n",
    "idx_sim, d2d_sim, d3d_sim = coo_simulated.match_to_catalog_sky(coo_sdss)"
   ]
  },
  {
   "cell_type": "markdown",
   "metadata": {},
   "source": [
    "Now lets plot up the histogram of separations from our simulated catalog so we can compare to the above results from the *real* catalog."
   ]
  },
  {
   "cell_type": "code",
   "execution_count": 32,
   "metadata": {
    "collapsed": false
   },
   "outputs": [
    {
     "data": {
      "image/png": "[encoded data removed]",
      "text/plain": [
       "<matplotlib.figure.Figure at 0x102017d10>"
      ]
     },
     "metadata": {},
     "output_type": "display_data"
    }
   ],
   "source": [
    "plt.hist(d2d_sim.arcsec, histtype='step', color='red', label='Simulated', linestyle='dashed')\n",
    "plt.hist(d2d_sdss.arcsec, histtype='step', color='blue', label='2MASS')\n",
    "plt.xlabel('separation [arcsec]')\n",
    "plt.legend(loc=0)\n",
    "plt.tight_layout()"
   ]
  },
  {
   "cell_type": "markdown",
   "metadata": {},
   "source": [
    "Alright, great - looks like randomly placed sources should be more like an arc*minute* away, so we can probably trust that our earlier matches which were within an arc*second* are valid.  So with that in mind, we can start computing things like colors that combine the SDSS and 2MASS photometry."
   ]
  },
  {
   "cell_type": "code",
   "execution_count": 33,
   "metadata": {
    "collapsed": false
   },
   "outputs": [
    {
     "data": {
      "image/png": "[encoded data removed]",
      "text/plain": [
       "<matplotlib.figure.Figure at 0x104b5e8d0>"
      ]
     },
     "metadata": {},
     "output_type": "display_data"
    }
   ],
   "source": [
    "rmag = sdss['r'][idx_sdss]\n",
    "grcolor = sdss['g'][idx_sdss] - rmag\n",
    "rKcolor = rmag - twomass['k_m_ext']\n",
    "\n",
    "plt.subplot(1, 2, 1)\n",
    "plt.scatter(rKcolor, rmag)\n",
    "plt.xlabel('r-K')\n",
    "plt.ylabel('r')\n",
    "plt.xlim(2.5, 4)\n",
    "plt.ylim(18, 12) #mags go backwards!\n",
    "\n",
    "plt.subplot(1, 2, 2)\n",
    "plt.scatter(rKcolor, rmag)\n",
    "plt.xlabel('r-K')\n",
    "plt.ylabel('g-r')\n",
    "plt.xlim(2.5, 4)\n",
    "\n",
    "plt.tight_layout()"
   ]
  },
  {
   "cell_type": "markdown",
   "metadata": {},
   "source": [
    "For more on what matching options are available, check out the [separation and matching section of the astropy documentation](http://astropy.readthedocs.org/en/latest/coordinates/matchsep.html).  Or for more on what you can do with `SkyCoord`, see [its API documentation](http://astropy.readthedocs.org/en/latest/api/astropy.coordinates.SkyCoord.html)."
   ]
  },
  {
   "cell_type": "markdown",
   "metadata": {},
   "source": [
    "### Exercises"
   ]
  },
  {
   "cell_type": "markdown",
   "metadata": {},
   "source": [
    "Check that the separations in the ``d2d_sdss`` object matches the on-sky separations you get from comparing the appropriate elements of ``coo_sdss`` to the ``coo_twomass``. (Recall that the \"appropriate elements\" have already been determined above.  Be sure to re-use that!) \n",
    "\n",
    "Hint: You'll likely find the [``SkyCoord.separation()``](http://docs.astropy.org/en/stable/api/astropy.coordinates.SkyCoord.html#astropy.coordinates.SkyCoord.separation) method useful here."
   ]
  },
  {
   "cell_type": "code",
   "execution_count": 34,
   "metadata": {
    "collapsed": false
   },
   "outputs": [
    {
     "data": {
      "text/plain": [
       "array([ True,  True,  True,  True,  True,  True,  True,  True,  True,\n",
       "        True,  True,  True,  True,  True,  True,  True,  True,  True,\n",
       "        True,  True,  True,  True,  True], dtype=bool)"
      ]
     },
     "execution_count": 34,
     "metadata": {},
     "output_type": "execute_result"
    }
   ],
   "source": [
    "seps = coo_sdss[idx_sdss].separation(coo_twomass)\n",
    "seps == d2d_sdss"
   ]
  },
  {
   "cell_type": "markdown",
   "metadata": {},
   "source": [
    "Use the `SkyCoord` you created at the start of the last exercise: what is its on-sky separation from the center of HCG7?"
   ]
  },
  {
   "cell_type": "code",
   "execution_count": 35,
   "metadata": {
    "collapsed": false
   },
   "outputs": [
    {
     "data": {
      "text/latex": [
       "$122^\\circ06{}^\\prime31.5771{}^{\\prime\\prime}$"
      ],
      "text/plain": [
       "<Angle 122.10877142671961 deg>"
      ]
     },
     "execution_count": 35,
     "metadata": {},
     "output_type": "execute_result"
    }
   ],
   "source": [
    "sc_other.separation(hcg7_center)"
   ]
  },
  {
   "cell_type": "markdown",
   "metadata": {},
   "source": [
    "Compute the separation using the small-angle approximation: $s = \\sqrt{(\\alpha^2 \\cos^2{\\delta} + \\delta^2}$.  \n",
    "\n",
    "(Hint: if you use only `Quantity` operations, you shouldn't have to think about units at all)"
   ]
  },
  {
   "cell_type": "code",
   "execution_count": 36,
   "metadata": {
    "collapsed": false
   },
   "outputs": [
    {
     "data": {
      "text/latex": [
       "$128.76704 \\; \\mathrm{{}^{\\circ}}$"
      ],
      "text/plain": [
       "<Quantity 128.76703838583796 deg>"
      ]
     },
     "execution_count": 36,
     "metadata": {},
     "output_type": "execute_result"
    }
   ],
   "source": [
    "dra = sc_other.ra - hcg7_center.ra\n",
    "ddec = sc_other.dec - hcg7_center.dec\n",
    "\n",
    "ssq = (dra*np.cos(sc_other.dec))**2 + ddec**2\n",
    "ssq**0.5"
   ]
  },
  {
   "cell_type": "markdown",
   "metadata": {},
   "source": [
    "Compute the *physical* separation between two (or more) objects in the catalogs.  You'll need line-of-sight distances, so a reasonable guess might be the distance to HCG 7, which is about 55 Mpc. \n",
    "\n",
    "Hint: you'll want to create new `SkyCoord` objects, but with ``distance`` attributes.  There's also a `SkyCoord` method that should do the rest of the work, but you'll have to poke around [in the documentation for `SkyCoord`](http://docs.astropy.org/en/stable/api/astropy.coordinates.SkyCoord.html) to figure out what it is."
   ]
  },
  {
   "cell_type": "code",
   "execution_count": 37,
   "metadata": {
    "collapsed": false
   },
   "outputs": [
    {
     "data": {
      "text/latex": [
       "$363.57286 \\; \\mathrm{kpc}$"
      ],
      "text/plain": [
       "<Distance 363.5728636059254 kpc>"
      ]
     },
     "execution_count": 37,
     "metadata": {},
     "output_type": "execute_result"
    }
   ],
   "source": [
    "entry0 = SkyCoord(ra=coo_sdss[0].ra, dec=coo_sdss[0].dec, distance=55*u.Mpc)\n",
    "entry1 = SkyCoord(ra=coo_sdss[1].ra, dec=coo_sdss[1].dec, distance=55*u.Mpc)\n",
    "entry0.separation_3d(entry1).to(u.kpc)"
   ]
  },
  {
   "cell_type": "code",
   "execution_count": 38,
   "metadata": {
    "collapsed": false
   },
   "outputs": [
    {
     "data": {
      "text/latex": [
       "$[0,~363.57286,~241.20818,~\\dots, 187.18128,~261.08534,~495.7781] \\; \\mathrm{kpc}$"
      ],
      "text/plain": [
       "<Distance [   0.        , 363.57286361, 241.20817612, 506.97548506,\n",
       "            213.08232745, 391.58588765,  40.39563277, 479.02646735,\n",
       "            204.44232744, 207.7402173 ,  45.45988539, 201.896338  ,\n",
       "            319.6328051 , 423.09486011, 509.85167902, 670.98478109,\n",
       "             55.72702249, 338.42266986, 336.15229207, 282.89229442,\n",
       "            549.81312266, 196.72137938, 325.44240014, 257.4712078 ,\n",
       "            297.78244171, 394.37800193, 185.19458003, 168.41389606,\n",
       "            351.60470205, 332.38588167, 446.40718767, 442.51391283,\n",
       "            126.72675678,  67.918195  ,  92.42657682, 126.6049564 ,\n",
       "            307.76632085, 581.73359146, 277.87436057, 189.72749611,\n",
       "            343.773552  , 389.4441198 , 551.98627464, 314.54092456,\n",
       "            531.51282335, 191.97824736, 270.51942737,  61.64341916,\n",
       "            281.52323939, 424.64183186, 564.54961777, 110.30265816,\n",
       "            368.16982877, 438.98046667, 588.58937103, 544.15387848,\n",
       "            383.9533693 , 604.84340967, 432.00370093, 301.5752537 ,\n",
       "            497.23942955, 393.26497253, 298.60820592, 552.31099359,\n",
       "            334.65124334, 280.81947379, 385.79869683,  99.42434794,\n",
       "            258.37833634, 317.4709382 , 287.86671445, 186.06599851,\n",
       "            285.87349006, 128.06970439, 573.37064786, 199.03106585,\n",
       "            414.80402147, 448.75878072, 224.48373295, 213.55269054,\n",
       "            415.47481019, 110.67609946, 469.76178632, 129.13980486,\n",
       "            172.89945431, 538.06629181, 578.29808   , 238.57327252,\n",
       "            567.3016394 , 473.17374531, 391.37379167, 270.9466471 ,\n",
       "            184.97196547, 214.84765066, 311.29197466, 491.68907797,\n",
       "            120.45589967, 144.44281614, 403.01372443, 506.89052816,\n",
       "            155.79586426, 196.3849387 , 431.09322896, 525.53055117,\n",
       "            282.56758454, 427.39504064, 318.51381834,  26.23657287,\n",
       "             92.39522344, 250.3900241 , 205.72741333, 209.87181882,\n",
       "            226.10056185, 112.51246562, 149.55071587, 248.0972376 ,\n",
       "            551.3835354 , 237.74894887, 226.8155881 , 595.69783075,\n",
       "            365.70152148, 153.6329375 , 165.84744357, 124.96382298,\n",
       "            167.65899541, 541.43170259, 260.72458624, 460.87466697,\n",
       "            166.9200746 , 232.54301558, 343.12238679, 175.12391307,\n",
       "            353.92452953, 469.22241667, 521.33344328, 425.58608201,\n",
       "            297.17972323, 443.0174894 , 369.83621355, 377.46124144,\n",
       "            413.89255398, 139.34445155, 193.33439731, 364.47910613,\n",
       "            520.07277497, 229.30946358, 470.29872888, 175.81410052,\n",
       "            455.89533566,  50.02214016, 401.90195293, 124.42172019,\n",
       "            328.12484121, 320.90962481, 373.53792142, 330.12900282,\n",
       "            539.64572716, 559.36478295, 419.97764147,  25.07229706,\n",
       "            325.71310673, 165.94209755, 421.02535896, 310.76644802,\n",
       "            287.46417055, 303.09592134, 576.29759714, 541.97178201,\n",
       "            193.55743081, 406.24432673, 292.66732447, 109.26977061,\n",
       "            191.79260283, 265.98520233, 331.00315854, 379.30938147,\n",
       "            195.44047502, 337.92487835, 260.59121306, 206.61904061,\n",
       "            117.23546833, 289.82876749, 296.34304472, 301.84600959,\n",
       "            307.75640521, 447.92701756,  75.1567453 ,  58.21821589,\n",
       "            477.60598263, 131.53839526, 302.09981944, 278.61504759,\n",
       "            170.3790939 , 530.5953557 , 484.80665069, 516.26292286,\n",
       "            149.64394513, 134.68880536, 396.75782281, 162.05201707,\n",
       "            414.29832068, 543.72804402, 170.18768713, 307.68167904,\n",
       "            330.22768175, 322.95699754, 637.24231433, 169.30195286,\n",
       "            233.3637152 , 405.61380215, 309.69468567, 370.03388891,\n",
       "            402.90770554, 287.44073247, 293.55470743, 381.93541797,\n",
       "            177.83350525, 258.21315583, 359.22626123, 294.97362551,\n",
       "            200.64540644, 528.49218234, 451.28767998, 281.62120877,\n",
       "            308.2240346 , 278.15943063, 348.18621033, 514.93340817,\n",
       "            297.91812146, 309.46472516, 247.43332249, 365.39085866,\n",
       "            345.56622132, 246.96555518, 624.12663188, 386.40827444,\n",
       "            195.11678817,  85.34895629, 200.84797909, 218.34717558,\n",
       "            245.26127755, 338.47860206, 184.81324808, 212.44919146,\n",
       "             96.99572211, 528.93497393, 542.45431975, 211.12968691,\n",
       "            503.19012582, 258.50695927, 328.84512602, 349.46360792,\n",
       "            286.96505696, 124.89212139, 114.32069943, 163.92777465,\n",
       "             56.15358098, 283.39384849, 580.98232671, 513.8433789 ,\n",
       "            249.13853343, 469.07752484,  88.55717656, 365.89730581,\n",
       "            335.78062401, 295.38611628, 517.97831895, 264.78542475,\n",
       "            176.02646333, 374.79613808, 245.03559625, 268.55691499,\n",
       "            290.33744136, 467.70587275, 352.59260544, 480.55442201,\n",
       "            312.35152321, 179.76396835,   9.3948283 , 382.6062682 ,\n",
       "            508.03955843, 137.15785532, 213.25557299, 564.25702954,\n",
       "            380.6937121 , 462.67549197, 426.61228073, 257.98386459,\n",
       "            203.06629379, 213.97901837, 581.12305642, 396.80872535,\n",
       "            432.38461759, 279.25662289, 249.54738732, 239.76916131,\n",
       "            568.05475384, 317.03384037, 473.58465199, 553.33859917,\n",
       "            358.03554711, 187.42902851, 128.14330129, 259.93978268,\n",
       "            511.51427024,  26.4763277 , 507.02806404, 499.44722844,\n",
       "            200.14588238, 555.46632866, 589.99582093,  46.2701908 ,\n",
       "            310.48233387,  82.6797866 , 342.53112838, 293.13024769,\n",
       "            212.385352  , 373.36233621, 401.59501037, 106.98695211,\n",
       "            582.56160895, 576.35134004, 268.67447964, 456.70978891,\n",
       "            320.29491277, 395.03334243, 388.44741219, 518.31827952,\n",
       "            467.95798945, 332.52079434, 385.51428478, 233.26250342,\n",
       "            223.64177758, 397.7706085 , 442.6581903 , 344.81646428,\n",
       "            428.4597727 , 494.5927046 , 427.941575  , 390.89146925,\n",
       "            427.99514583, 414.36231163, 573.49906684,  82.27664562,\n",
       "            414.67048199, 347.92558265, 310.19610752, 394.86636799,\n",
       "            476.16386252, 336.18243619, 304.4385267 , 403.27122178,\n",
       "             52.43292179, 196.51615012, 293.16363898, 401.8359628 ,\n",
       "            441.5228982 , 537.61400083, 563.48819339,  89.4901898 ,\n",
       "            210.88556749, 206.95075589, 320.1490689 , 549.06218901,\n",
       "            277.51895493, 109.55848377, 113.45010374, 529.54444645,\n",
       "            170.09058443, 211.42909551, 298.12462531, 334.32122805,\n",
       "            390.67372816, 134.19664168, 291.76875263, 309.52722914,\n",
       "            371.60061002, 267.36325986, 132.20307061, 184.84782601,\n",
       "            547.92833235, 211.61309367, 501.37269093, 257.87842947,\n",
       "            163.238347  , 420.02317205, 135.30598899, 300.56345204,\n",
       "            525.73335164, 569.26759584, 426.75805561, 175.5899696 ,\n",
       "            227.16088748, 335.98717942, 150.85299651, 410.82213761,\n",
       "            516.60496248, 249.71568439, 565.14027557, 243.63025396,\n",
       "            232.97897648, 367.70205387, 229.86395612, 315.99177948,\n",
       "            352.21164007, 579.94911323,  15.87888485, 405.03931075,\n",
       "            302.57932326,  37.11320381, 190.90284578, 353.13158295,\n",
       "            350.33894611, 599.23951624, 285.1736828 , 268.93025711,\n",
       "            160.55141764, 141.00343354, 329.54071705, 296.61391133,\n",
       "            228.19867984,  67.10736999, 273.9084717 , 437.14851265,\n",
       "            351.02989122, 426.90938243, 148.15380736, 315.06105421,\n",
       "             49.70070277, 180.69350563, 362.44623627, 117.99364005,\n",
       "            431.75642883, 234.52455457, 488.30033148, 500.34769863,\n",
       "            249.28159959, 221.07051156, 204.73986571, 442.45947162,\n",
       "            369.74147174, 593.57211393, 559.80399061, 595.27086386,\n",
       "            358.86702891, 492.57545459, 174.60040659, 549.37749999,\n",
       "            272.67028943, 552.54038783, 310.43274995, 483.73231553,\n",
       "            224.84643305, 353.55808162,  89.00751592, 540.04269471,\n",
       "            111.38204977, 470.90145529, 424.97581333, 497.2540284 ,\n",
       "             92.88224675,  43.83805551, 594.94064365,  39.18239252,\n",
       "            353.27562917, 476.84508163, 170.71134994, 363.92705253,\n",
       "            447.7887945 , 456.97840512, 184.77022402,  92.64923816,\n",
       "            351.32315173, 233.92781901, 607.76151143, 327.68855046,\n",
       "            151.3029169 , 377.52300018, 325.29486523, 448.03498029,\n",
       "            235.9146537 , 651.72612138,  37.27734103, 293.85172221,\n",
       "            290.18767124, 677.14941492, 222.43957468, 186.85967283,\n",
       "            520.08819522, 606.40112749, 233.91148912, 394.8004922 ,\n",
       "            424.76931249, 595.11525161, 247.01409782, 266.84267813,\n",
       "            596.90597022, 291.51622667, 152.53262503, 551.72722511,\n",
       "            244.32824778, 161.91763715, 292.64236702, 161.11061643,\n",
       "            426.44639387, 410.23890501, 416.57865126, 127.94531298,\n",
       "            439.27483216, 351.21427298, 258.90207498, 414.35793049,\n",
       "            311.18338345, 576.36307774, 165.9901805 , 404.62786618,\n",
       "            295.85132555, 226.98561269,  49.66326557, 614.60232782,\n",
       "            402.92098233, 135.78621555, 279.8499175 , 481.27484839,\n",
       "            251.87814718, 524.76384838, 473.19858282, 368.5209279 ,\n",
       "            199.48440077, 289.90216682, 596.53303383, 293.17623215,\n",
       "            613.81234107,  58.07065918, 389.24043201, 568.56910291,\n",
       "            355.51108335, 204.91021461, 148.99497732, 115.97241522,\n",
       "            602.19791299, 247.9412355 , 517.2574811 , 181.73817282,\n",
       "            429.44666299, 544.40508872, 320.52582621, 514.16511856,\n",
       "            585.95015244, 478.69130168, 255.16054355, 542.61083055,\n",
       "            208.89531747, 408.4905838 , 232.09270443, 218.55363332,\n",
       "            224.17316685, 241.11854742, 163.36195908,  40.17005003,\n",
       "            246.620499  , 338.76678027, 341.69028271,  97.55780296,\n",
       "            559.15702218, 334.34050202, 511.46091525, 426.80188926,\n",
       "            488.35940523, 520.89004167, 596.91911011, 389.21450059,\n",
       "            511.16772981, 579.42912502, 263.12418397, 264.71375602,\n",
       "            332.34714784, 300.06985471, 381.33175735, 218.99085901,\n",
       "            525.62967183, 263.61188291, 273.63795849, 180.74577596,\n",
       "            260.84470559, 332.62800793, 557.14184376,  57.80471721,\n",
       "            406.15795209, 600.3187809 , 245.14128826, 223.18334228,\n",
       "            276.88749533, 337.04497419, 268.48674426, 621.90606108,\n",
       "            192.95279824, 427.93385685, 358.87875008, 163.58128467,\n",
       "            216.30932287, 199.95057737, 380.6549168 , 179.66834251,\n",
       "            344.06882697, 448.0765611 , 247.4126212 , 376.70961067,\n",
       "            251.87656536, 427.55975968, 485.11491159, 280.18019826,\n",
       "            446.45723934, 499.44912436, 334.26727778, 314.5542311 ,\n",
       "            437.78222903, 242.9253581 , 477.88766257, 271.2322768 ,\n",
       "            382.49518677, 208.69736008, 391.10978328, 586.64712301,\n",
       "            601.69534649, 414.29352125, 625.22021627,  87.09048134,\n",
       "            306.47921142, 535.26112212, 395.06310951, 190.94291156,\n",
       "            318.29571948, 212.5528353 , 365.83178786, 307.61243673,\n",
       "            218.87445266,  50.99631502, 243.19146789, 319.45192885,\n",
       "             70.01131169, 130.09510194, 262.98262652, 461.00085381,\n",
       "            566.00917227, 113.66239513,  81.09043417, 244.70839094,\n",
       "            568.63797471, 591.3387307 , 100.98519992, 525.60036733,\n",
       "            195.84702965, 235.08740349, 229.42288364, 255.9241714 ,\n",
       "            156.11025863, 248.26236607, 365.27287786, 314.96645623,\n",
       "            449.15722292, 483.19308944, 374.20621234, 436.30761636,\n",
       "            339.73990281, 320.55270551, 192.57096768, 580.8235386 ,\n",
       "            356.85191056, 182.76935488, 575.25938217, 208.70606105,\n",
       "            217.06730388, 610.84358388, 203.06493652, 187.18127594,\n",
       "            261.08533937, 495.7780981 ] kpc>"
      ]
     },
     "execution_count": 38,
     "metadata": {},
     "output_type": "execute_result"
    }
   ],
   "source": [
    "# or an array with *all* of the 3D separations:\n",
    "all_entries = SkyCoord(ra=coo_sdss.ra, dec=coo_sdss.dec, distance=55*u.Mpc)\n",
    "entry0.separation_3d(all_entries).to(u.kpc)"
   ]
  },
  {
   "cell_type": "markdown",
   "metadata": {},
   "source": [
    "## Transforming between coordinate systems and planning observations"
   ]
  },
  {
   "cell_type": "markdown",
   "metadata": {},
   "source": [
    "Now lets say something excites you about one of the objects in this catalog, and you want to know if and when you might go about observing it.  `astropy.coordinates` provides tools to enable this, as well."
   ]
  },
  {
   "cell_type": "markdown",
   "metadata": {},
   "source": [
    "### Introducting frame transformations"
   ]
  },
  {
   "cell_type": "markdown",
   "metadata": {},
   "source": [
    "To understand the code in this section, it may help to read over the [overview of the astropy coordinates scheme](http://astropy.readthedocs.org/en/latest/coordinates/index.html#overview-of-astropy-coordinates-concepts).  The key bit to understand is that all coordinates in astropy are in particular \"frames\", and we can transform between a specific `SkyCoord` object from one frame to another.  For example, we can transform our previously-defined center of HCG7 from ICRS to Galactic coordinates:"
   ]
  },
  {
   "cell_type": "code",
   "execution_count": 39,
   "metadata": {
    "collapsed": false
   },
   "outputs": [
    {
     "data": {
      "text/plain": [
       "<SkyCoord (Galactic): (l, b) in deg\n",
       "    (116.47556813, -61.83099472)>"
      ]
     },
     "execution_count": 39,
     "metadata": {},
     "output_type": "execute_result"
    }
   ],
   "source": [
    "hcg7_center.galactic"
   ]
  },
  {
   "cell_type": "markdown",
   "metadata": {},
   "source": [
    "The above is actually a special \"quick-access\" form which internally does the same as what's in the cell below: uses the `transform_to()` method to convert from one frame to another."
   ]
  },
  {
   "cell_type": "code",
   "execution_count": 40,
   "metadata": {
    "collapsed": false
   },
   "outputs": [
    {
     "data": {
      "text/plain": [
       "<SkyCoord (Galactic): (l, b) in deg\n",
       "    (116.47556813, -61.83099472)>"
      ]
     },
     "execution_count": 40,
     "metadata": {},
     "output_type": "execute_result"
    }
   ],
   "source": [
    "from astropy.coordinates import Galactic\n",
    "hcg7_center.transform_to(Galactic())"
   ]
  },
  {
   "cell_type": "markdown",
   "metadata": {},
   "source": [
    "Note that changing frames also changes some of the attributes of the object, but usually in a way that makes sense:"
   ]
  },
  {
   "cell_type": "code",
   "execution_count": 41,
   "metadata": {
    "collapsed": false
   },
   "outputs": [
    {
     "ename": "AttributeError",
     "evalue": "'SkyCoord' object has no attribute 'ra'",
     "output_type": "error",
     "traceback": [
      "\u001b[0;31m---------------------------------------------------------------------------\u001b[0m",
      "\u001b[0;31mAttributeError\u001b[0m                            Traceback (most recent call last)",
      "\u001b[0;32m<ipython-input-41-d7bc134707f6>\u001b[0m in \u001b[0;36m<module>\u001b[0;34m()\u001b[0m\n\u001b[0;32m----> 1\u001b[0;31m \u001b[0mhcg7_center\u001b[0m\u001b[0;34m.\u001b[0m\u001b[0mgalactic\u001b[0m\u001b[0;34m.\u001b[0m\u001b[0mra\u001b[0m  \u001b[0;31m# should fail because galactic coordinates are l/b not RA/Dec\u001b[0m\u001b[0;34m\u001b[0m\u001b[0m\n\u001b[0m",
      "\u001b[0;32m/opt/local/Library/Frameworks/Python.framework/Versions/2.7/lib/python2.7/site-packages/astropy/coordinates/sky_coordinate.pyc\u001b[0m in \u001b[0;36m__getattr__\u001b[0;34m(self, attr)\u001b[0m\n\u001b[1;32m    384\u001b[0m         \u001b[0;31m# Fail\u001b[0m\u001b[0;34m\u001b[0m\u001b[0;34m\u001b[0m\u001b[0m\n\u001b[1;32m    385\u001b[0m         raise AttributeError(\"'{0}' object has no attribute '{1}'\"\n\u001b[0;32m--> 386\u001b[0;31m                              .format(self.__class__.__name__, attr))\n\u001b[0m\u001b[1;32m    387\u001b[0m \u001b[0;34m\u001b[0m\u001b[0m\n\u001b[1;32m    388\u001b[0m     \u001b[0;32mdef\u001b[0m \u001b[0m__setattr__\u001b[0m\u001b[0;34m(\u001b[0m\u001b[0mself\u001b[0m\u001b[0;34m,\u001b[0m \u001b[0mattr\u001b[0m\u001b[0;34m,\u001b[0m \u001b[0mval\u001b[0m\u001b[0;34m)\u001b[0m\u001b[0;34m:\u001b[0m\u001b[0;34m\u001b[0m\u001b[0m\n",
      "\u001b[0;31mAttributeError\u001b[0m: 'SkyCoord' object has no attribute 'ra'"
     ]
    }
   ],
   "source": [
    "hcg7_center.galactic.ra  # should fail because galactic coordinates are l/b not RA/Dec"
   ]
  },
  {
   "cell_type": "code",
   "execution_count": 42,
   "metadata": {
    "collapsed": false
   },
   "outputs": [
    {
     "data": {
      "text/latex": [
       "$-61^\\circ49{}^\\prime51.581{}^{\\prime\\prime}$"
      ],
      "text/plain": [
       "<Latitude -61.83099472386304 deg>"
      ]
     },
     "execution_count": 42,
     "metadata": {},
     "output_type": "execute_result"
    }
   ],
   "source": [
    "hcg7_center.galactic.b"
   ]
  },
  {
   "cell_type": "markdown",
   "metadata": {},
   "source": [
    "### Using frame transformations to get to AltAz"
   ]
  },
  {
   "cell_type": "markdown",
   "metadata": {},
   "source": [
    "To actually do anything with observability we need to convert to a frame local to an on-earth observer.  By far the most common choice is horizontal coordinates, or \"AltAz\" coordinates.  We first need to specify both where and when we want to try to observe."
   ]
  },
  {
   "cell_type": "code",
   "execution_count": 43,
   "metadata": {
    "collapsed": false
   },
   "outputs": [],
   "source": [
    "from astropy.coordinates import EarthLocation\n",
    "from astropy.time import Time\n",
    "\n",
    "observing_location = EarthLocation(lat='31d57.5m', lon='-111d35.8m', height=2096*u.m)  # Kitt Peak, Arizona\n",
    "# If you're using astropy v1.1 or later, you can replace the above with this:\n",
    "#observing_location = EarthLocation.of_site('Kitt Peak')\n",
    "\n",
    "observing_time = Time('2010-12-21 1:00')  # 1am UTC=6pm AZ mountain time"
   ]
  },
  {
   "cell_type": "markdown",
   "metadata": {},
   "source": [
    "Now we use these to create an `AltAz` frame object.  Note that this frame has some other information about the atmosphere, which can be used to correct for atmospheric refraction.  Here we leave that alone, because the default is to ignore this effect (by setting the pressure to 0)."
   ]
  },
  {
   "cell_type": "code",
   "execution_count": 44,
   "metadata": {
    "collapsed": false
   },
   "outputs": [
    {
     "data": {
      "text/plain": [
       "<AltAz Frame (obstime=2010-12-21 01:00:00.000, location=(-1994310.09211632, -5037908.606337594, 3357621.752122168) m, pressure=0.0 hPa, temperature=0.0 deg_C, relative_humidity=0, obswl=1.0 micron)>"
      ]
     },
     "execution_count": 44,
     "metadata": {},
     "output_type": "execute_result"
    }
   ],
   "source": [
    "from astropy.coordinates import AltAz\n",
    "\n",
    "aa = AltAz(location=observing_location, obstime=observing_time)\n",
    "aa"
   ]
  },
  {
   "cell_type": "markdown",
   "metadata": {},
   "source": [
    "Now we can just transform our ICRS `SkyCoord` to `AltAz` to get the location in the sky over Kitt Peak at the requested time."
   ]
  },
  {
   "cell_type": "code",
   "execution_count": 45,
   "metadata": {
    "collapsed": false
   },
   "outputs": [
    {
     "data": {
      "text/plain": [
       "<SkyCoord (AltAz: obstime=2010-12-21 01:00:00.000, location=(-1994310.09211632, -5037908.606337594, 3357621.752122168) m, pressure=0.0 hPa, temperature=0.0 deg_C, relative_humidity=0, obswl=1.0 micron):00:00.000, location=(-1994310.09211632, -5037908.606337594, 3357621.752122168) m, pressure=0.0 hPa, temperature=0.0 deg_C, relative_humidity=0, obswl=1.0 micron): (az, alt) in deg\n",
       "    (149.19392022, 55.06247356)>"
      ]
     },
     "execution_count": 45,
     "metadata": {},
     "output_type": "execute_result"
    }
   ],
   "source": [
    "hcg7_center.transform_to(aa)"
   ]
  },
  {
   "cell_type": "markdown",
   "metadata": {},
   "source": [
    "Alright, it's up at 6pm, but that's pretty early to be observing.  We could just try various times one at a time to see if the airmass is at a darker time, but we can do better: lets try to create an airmass plot."
   ]
  },
  {
   "cell_type": "code",
   "execution_count": 46,
   "metadata": {
    "collapsed": false
   },
   "outputs": [
    {
     "data": {
      "image/png": "[encoded data removed]",
      "text/plain": [
       "<matplotlib.figure.Figure at 0x101ff1e10>"
      ]
     },
     "metadata": {},
     "output_type": "display_data"
    }
   ],
   "source": [
    "# this gives a Time object with an *array* of times\n",
    "delta_hours = np.linspace(0, 6, 100)*u.hour\n",
    "full_night_times = observing_time + delta_hours\n",
    "full_night_aa_frames = AltAz(location=observing_location, obstime=full_night_times)\n",
    "full_night_aa_coos = hcg7_center.transform_to(full_night_aa_frames)\n",
    "\n",
    "plt.plot(delta_hours, full_night_aa_coos.secz)\n",
    "plt.xlabel('Hours from 6pm AZ time')\n",
    "plt.ylabel('Airmass [Sec(z)]')\n",
    "plt.ylim(0.9,3)\n",
    "plt.tight_layout()"
   ]
  },
  {
   "cell_type": "markdown",
   "metadata": {},
   "source": [
    "Great!  Looks like it's at the lowest airmass in another hour or so (7pm).  But might that might still be twilight... When should we start observing for proper dark skies?  Fortunately, astropy provides a ``get_sun`` function that can be used to check this.  Lets use it to check if we're in 18-degree twilight or not."
   ]
  },
  {
   "cell_type": "code",
   "execution_count": 47,
   "metadata": {
    "collapsed": false
   },
   "outputs": [
    {
     "data": {
      "image/png": "[encoded data removed]",
      "text/plain": [
       "<matplotlib.figure.Figure at 0x1075c6b90>"
      ]
     },
     "metadata": {},
     "output_type": "display_data"
    }
   ],
   "source": [
    "from astropy.coordinates import get_sun\n",
    "\n",
    "full_night_sun_coos = get_sun(full_night_times).transform_to(full_night_aa_frames)\n",
    "plt.plot(delta_hours, full_night_sun_coos.alt.deg)\n",
    "plt.axhline(-18, color='k')\n",
    "plt.xlabel('Hours from 6pm AZ time')\n",
    "plt.ylabel('Sun altitude')\n",
    "plt.tight_layout()"
   ]
  },
  {
   "cell_type": "markdown",
   "metadata": {},
   "source": [
    "Looks like it's just below 18 degrees at 7, so you should be good to go!"
   ]
  },
  {
   "cell_type": "markdown",
   "metadata": {},
   "source": [
    "### Exercises"
   ]
  },
  {
   "cell_type": "markdown",
   "metadata": {},
   "source": [
    "Try converting the HCG7 coordinates to an equatorial frame at some other equinox a while in the past (like J2000).  Do you see the precession of the equinoxes?\n",
    "\n",
    "Hint: To see a diagram of the supported frames look [here](http://docs.astropy.org/en/stable/coordinates/#module-astropy.coordinates).  One of those will do what you need if you give it the right frame attributes."
   ]
  },
  {
   "cell_type": "code",
   "execution_count": 48,
   "metadata": {
    "collapsed": false
   },
   "outputs": [
    {
     "data": {
      "text/plain": [
       "<SkyCoord (ICRS): (ra, dec) in deg\n",
       "    (9.81625, 0.88806)>"
      ]
     },
     "execution_count": 48,
     "metadata": {},
     "output_type": "execute_result"
    }
   ],
   "source": [
    "hcg7_center"
   ]
  },
  {
   "cell_type": "code",
   "execution_count": 49,
   "metadata": {
    "collapsed": false
   },
   "outputs": [
    {
     "data": {
      "text/plain": [
       "<SkyCoord (FK5: equinox=J2000.000): (ra, dec) in deg\n",
       "    (9.81625645, 0.88806155)>"
      ]
     },
     "execution_count": 49,
     "metadata": {},
     "output_type": "execute_result"
    }
   ],
   "source": [
    "from astropy.coordinates import FK5\n",
    "\n",
    "hcg7_center.transform_to(FK5(equinox='J2000'))"
   ]
  },
  {
   "cell_type": "code",
   "execution_count": 50,
   "metadata": {
    "collapsed": false
   },
   "outputs": [
    {
     "data": {
      "text/plain": [
       "<SkyCoord (FK5: equinox=J1900.000): (ra, dec) in deg\n",
       "    (8.53452686, 0.33835944)>"
      ]
     },
     "execution_count": 50,
     "metadata": {},
     "output_type": "execute_result"
    }
   ],
   "source": [
    "hcg7_center.transform_to(FK5(equinox='J1900'))"
   ]
  },
  {
   "cell_type": "code",
   "execution_count": 51,
   "metadata": {
    "collapsed": false
   },
   "outputs": [
    {
     "data": {
      "text/plain": [
       "<SkyCoord (FK5: equinox=J1800.000): (ra, dec) in deg\n",
       "    (7.25443721, -0.21342645)>"
      ]
     },
     "execution_count": 51,
     "metadata": {},
     "output_type": "execute_result"
    }
   ],
   "source": [
    "hcg7_center.transform_to(FK5(equinox='J1800'))"
   ]
  },
  {
   "cell_type": "markdown",
   "metadata": {},
   "source": [
    "Try to actually compute to some arbitrary precision (rather than eye-balling on a plot) when 18 degree twilight or sunrise/sunset hits on that night."
   ]
  },
  {
   "cell_type": "code",
   "execution_count": 52,
   "metadata": {
    "collapsed": false
   },
   "outputs": [
    {
     "data": {
      "text/plain": [
       "6.9065781560024639"
      ]
     },
     "execution_count": 52,
     "metadata": {},
     "output_type": "execute_result"
    }
   ],
   "source": [
    "from scipy import optimize\n",
    "\n",
    "def function_to_minimize(offset_from_6pm_az_time):\n",
    "    time = observing_time + offset_from_6pm_az_time*u.hour\n",
    "    aa_frame = AltAz(location=observing_location, obstime=time)\n",
    "    coo = get_sun(time).transform_to(aa_frame)\n",
    "    \n",
    "    return (-18 - coo.alt.deg)**2\n",
    "\n",
    "optimization_result = optimize.minimize(function_to_minimize, (1,))\n",
    "\n",
    "# this gives the local arizona time in PM, because the function we optimized uses the offset from 6pm\n",
    "6 + optimization_result.x[0]  "
   ]
  },
  {
   "cell_type": "markdown",
   "metadata": {},
   "source": [
    "## Wrap-up"
   ]
  },
  {
   "cell_type": "markdown",
   "metadata": {},
   "source": [
    "For lots more documentation on the many other features of `astropy.coordinates`, check out [its section of the documentation](http://astropy.readthedocs.org/en/latest/coordinates/index.html).\n",
    "\n",
    "You might also be interested in [the astroplan affiliated package](http://astroplan.readthedocs.org/), which uses the `astropy.coordinates` to do more advanced versions of the tasks in the last section of this tutorial."
   ]
  }
 ],
 "metadata": {
  "astropy-tutorials": {
   "author": "Erik Tollerud <erik.tollerud@gmail.com>",
   "date": "July 2015",
   "description": "Demonstrates use of astropy.coordinates for common tasks. Includes matching catalogs against each other, basic observing planning tasks, and basic usage of coordinates.",
   "link_name": "Using astropy.coordinates to Match Catalogs and Plan Observations",
   "name": "",
   "published": true
  },
  "kernelspec": {
   "display_name": "Python 2",
   "language": "python",
   "name": "python2"
  },
  "language_info": {
   "codemirror_mode": {
    "name": "ipython",
    "version": 2
   },
   "file_extension": ".py",
   "mimetype": "text/x-python",
   "name": "python",
   "nbconvert_exporter": "python",
   "pygments_lexer": "ipython2",
   "version": "2.7.10"
  }
 },
 "nbformat": 4,
 "nbformat_minor": 0
}
